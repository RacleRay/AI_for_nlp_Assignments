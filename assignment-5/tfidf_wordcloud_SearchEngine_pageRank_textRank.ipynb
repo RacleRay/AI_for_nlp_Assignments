{
 "cells": [
  {
   "cell_type": "markdown",
   "metadata": {},
   "source": [
    "## POS\n",
    "\n",
    "优化POS相对于词的相似性，在此项目中的提升相对较小一些"
   ]
  },
  {
   "cell_type": "markdown",
   "metadata": {},
   "source": [
    "- jieba\n",
    "- Stanford"
   ]
  },
  {
   "cell_type": "code",
   "execution_count": 1,
   "metadata": {
    "ExecuteTime": {
     "end_time": "2019-08-06T13:55:48.276845Z",
     "start_time": "2019-08-06T13:55:47.588686Z"
    }
   },
   "outputs": [],
   "source": [
    "from jieba import posseg"
   ]
  },
  {
   "cell_type": "code",
   "execution_count": 3,
   "metadata": {
    "ExecuteTime": {
     "end_time": "2019-08-06T13:58:13.076440Z",
     "start_time": "2019-08-06T13:58:11.060193Z"
    },
    "collapsed": true
   },
   "outputs": [
    {
     "name": "stderr",
     "output_type": "stream",
     "text": [
      "Building prefix dict from the default dictionary ...\n",
      "Dumping model to file cache C:\\Users\\qw\\AppData\\Local\\Temp\\jieba.cache\n",
      "Loading model cost 2.000 seconds.\n",
      "Prefix dict has been built succesfully.\n"
     ]
    },
    {
     "name": "stdout",
     "output_type": "stream",
     "text": [
      "使用/v\n",
      "Flask/eng\n",
      "或者/c\n",
      "Bottle/eng\n",
      "，/x\n",
      " /x\n",
      "使用/v\n",
      "Bootstrap/eng\n",
      " /x\n",
      "+/x\n",
      " /x\n",
      "HTML/eng\n",
      "构建/v\n",
      " /x\n",
      "一个/m\n",
      "简单/a\n",
      "的/uj\n",
      "网页/n\n",
      "，/x\n",
      "在/p\n",
      "这个/r\n",
      "网页/n\n",
      "中/f\n",
      "，/x\n",
      "我们/r\n",
      "能够/v\n",
      "提交/v\n",
      "文本/n\n",
      "内容/n\n",
      "，/x\n",
      "然/c\n",
      " /x\n",
      "后/f\n",
      "会/v\n",
      "生成/v\n",
      "表格/n\n",
      "，/x\n",
      "表格/n\n",
      "里边/f\n",
      "能够/v\n",
      "显示/v\n",
      "这个/r\n",
      "文章/n\n",
      "中/f\n",
      "每个/r\n",
      "人/n\n",
      "的/uj\n",
      "观点/n\n",
      "。/x\n",
      " /x\n",
      "还/d\n",
      "可以/c\n",
      "使用/v\n",
      "D3/eng\n",
      "工具/n\n",
      "，/x\n",
      "做成/v\n",
      "网络状/n\n",
      "的/uj\n",
      "示意图/n\n",
      "。/x\n"
     ]
    }
   ],
   "source": [
    "txt = \"使用Flask或者Bottle， 使用Bootstrap + HTML构建 一个简单的网页，在这个网页中，我们能够提交文本内容，然 后会生成表格，表格里边能够显示这个文章中每个人的观点。 还可以使用D3工具，做成网络状的示意图。\"\n",
    "\n",
    "for w in posseg.cut(txt):\n",
    "    print(w)"
   ]
  },
  {
   "cell_type": "markdown",
   "metadata": {},
   "source": [
    "## Dependency parsing\n",
    "基础nlp，但是偏学术，直接使用现有成果即可"
   ]
  },
  {
   "cell_type": "markdown",
   "metadata": {},
   "source": [
    "## How to get related words by word2vec？"
   ]
  },
  {
   "cell_type": "markdown",
   "metadata": {},
   "source": [
    "基于词向量和图搜索"
   ]
  },
  {
   "cell_type": "code",
   "execution_count": 2,
   "metadata": {
    "ExecuteTime": {
     "end_time": "2019-08-12T03:01:30.535508Z",
     "start_time": "2019-08-12T03:01:30.149529Z"
    }
   },
   "outputs": [],
   "source": [
    "import jieba\n",
    "import re"
   ]
  },
  {
   "cell_type": "code",
   "execution_count": 3,
   "metadata": {
    "ExecuteTime": {
     "end_time": "2019-08-12T03:01:33.059055Z",
     "start_time": "2019-08-12T03:01:33.054069Z"
    }
   },
   "outputs": [],
   "source": [
    "def cut(string): \n",
    "    return ' '.join(jieba.cut(string))\n",
    "\n",
    "def token(string):\n",
    "    return re.findall(r'[\\d|\\w|]+', string)"
   ]
  },
  {
   "cell_type": "code",
   "execution_count": 4,
   "metadata": {
    "ExecuteTime": {
     "end_time": "2019-08-12T03:01:34.196432Z",
     "start_time": "2019-08-12T03:01:34.185464Z"
    }
   },
   "outputs": [
    {
     "data": {
      "text/plain": [
       "['这是一个测试']"
      ]
     },
     "execution_count": 4,
     "metadata": {},
     "output_type": "execute_result"
    }
   ],
   "source": [
    "token('这是一个测试\\n\\n\\n')"
   ]
  },
  {
   "cell_type": "code",
   "execution_count": 5,
   "metadata": {
    "ExecuteTime": {
     "end_time": "2019-08-12T03:01:35.669211Z",
     "start_time": "2019-08-12T03:01:35.664225Z"
    }
   },
   "outputs": [],
   "source": [
    "text = \"在确定了谁说的，说了什么之后，我们要做的就是确定这个话语的结束。 要确定这个话语如何结束，最简单的方式解释碰见句号的时候就停止， 但是有的话可能是跨了多个的。那么这个如何确定多个呢？这个时候就 是比较tricky了。\\n在有的时候，我们可以使用tfidf等关键字，或者使用 tfidf关键首先字获得句子的向量然后使用向量进行对比的。获得句子 向量之后，那么我们就可以把判断两句话是不是类似的、说得同一个主 题这个问题变成这两个句子的距离是不是小于某个阈值。Tfidf 的句子 向量化是一种比较基础的向量化方式，长久以来也是大家用的。但是 tfidf不能变成不相同的单词的语义相似性，在词向量提出来之后，有一 个比较好的方式解释基于词向量进行句子的向量化。\\n 基于词向量获得 句子的向量化也是现在的一个研究课题，这里给大家推荐一个简单性和 高效性两者比较平衡的方法，其原理就是使用单词的词向量加权+ PCA 降维这个方法是普林斯顿大家2017年提出来的一个方法，很简单，但 是效果也不错。\""
   ]
  },
  {
   "cell_type": "code",
   "execution_count": 6,
   "metadata": {
    "ExecuteTime": {
     "end_time": "2019-08-12T03:01:36.969883Z",
     "start_time": "2019-08-12T03:01:36.962901Z"
    },
    "scrolled": false
   },
   "outputs": [
    {
     "data": {
      "text/plain": [
       "['在确定了谁说的',\n",
       " '说了什么之后',\n",
       " '我们要做的就是确定这个话语的结束',\n",
       " '要确定这个话语如何结束',\n",
       " '最简单的方式解释碰见句号的时候就停止',\n",
       " '但是有的话可能是跨了多个的',\n",
       " '那么这个如何确定多个呢',\n",
       " '这个时候就',\n",
       " '是比较tricky了',\n",
       " '在有的时候',\n",
       " '我们可以使用tfidf等关键字',\n",
       " '或者使用',\n",
       " 'tfidf关键首先字获得句子的向量然后使用向量进行对比的',\n",
       " '获得句子',\n",
       " '向量之后',\n",
       " '那么我们就可以把判断两句话是不是类似的',\n",
       " '说得同一个主',\n",
       " '题这个问题变成这两个句子的距离是不是小于某个阈值',\n",
       " 'Tfidf',\n",
       " '的句子',\n",
       " '向量化是一种比较基础的向量化方式',\n",
       " '长久以来也是大家用的',\n",
       " '但是',\n",
       " 'tfidf不能变成不相同的单词的语义相似性',\n",
       " '在词向量提出来之后',\n",
       " '有一',\n",
       " '个比较好的方式解释基于词向量进行句子的向量化',\n",
       " '基于词向量获得',\n",
       " '句子的向量化也是现在的一个研究课题',\n",
       " '这里给大家推荐一个简单性和',\n",
       " '高效性两者比较平衡的方法',\n",
       " '其原理就是使用单词的词向量加权',\n",
       " 'PCA',\n",
       " '降维这个方法是普林斯顿大家2017年提出来的一个方法',\n",
       " '很简单',\n",
       " '但',\n",
       " '是效果也不错']"
      ]
     },
     "execution_count": 6,
     "metadata": {},
     "output_type": "execute_result"
    }
   ],
   "source": [
    "token(text)"
   ]
  },
  {
   "cell_type": "code",
   "execution_count": 7,
   "metadata": {
    "ExecuteTime": {
     "end_time": "2019-08-12T03:01:43.613917Z",
     "start_time": "2019-08-12T03:01:42.473874Z"
    }
   },
   "outputs": [
    {
     "name": "stderr",
     "output_type": "stream",
     "text": [
      "Building prefix dict from the default dictionary ...\n",
      "Dumping model to file cache C:\\Users\\qw\\AppData\\Local\\Temp\\jieba.cache\n",
      "Loading model cost 1.129 seconds.\n",
      "Prefix dict has been built succesfully.\n"
     ]
    },
    {
     "data": {
      "text/plain": [
       "'在 确定 了 谁 说 的   说 了 什么 之后   我们 要 做 的 就是 确定 这个 话语 的 结束   要 确定 这个 话语 如何 结束   最 简单 的 方式 解释 碰见 句号 的 时候 就 停止   但是 有 的话 可能 是 跨 了 多个 的   那么 这个 如何 确定 多个 呢   这个 时候 就   是 比较 tricky 了   在 有 的 时候   我们 可以 使用 tfidf 等 关键字   或者 使用   tfidf 关键 首先 字 获得 句子 的 向量 然后 使用 向量 进行 对比 的   获得 句子   向量 之后   那么 我们 就 可以 把 判断 两句话 是不是 类似 的   说 得 同一个 主   题 这个 问题 变成 这 两个 句子 的 距离 是不是 小于 某个 阈值   Tfidf   的 句子   向 量化 是 一种 比较 基础 的 向 量化 方式   长久以来 也 是 大家 用 的   但是   tfidf 不能 变成 不 相同 的 单词 的 语义 相似性   在 词 向量 提出 来 之后   有 一   个 比较 好 的 方式 解释 基于 词 向量 进行 句子 的 向 量化   基于 词 向量 获得   句子 的 向 量化 也 是 现在 的 一个 研究课题   这里 给 大家 推荐 一个 简单 性 和   高效性 两者 比较 平衡 的 方法   其 原理 就是 使用 单词 的 词 向量 加权   PCA   降维 这个 方法 是 普林斯顿 大家 2017 年 提出 来 的 一个 方法   很 简单   但   是 效果 也 不错'"
      ]
     },
     "execution_count": 7,
     "metadata": {},
     "output_type": "execute_result"
    }
   ],
   "source": [
    "cut(' '.join(token(text)))"
   ]
  },
  {
   "cell_type": "code",
   "execution_count": 8,
   "metadata": {
    "ExecuteTime": {
     "end_time": "2019-08-12T03:01:53.610611Z",
     "start_time": "2019-08-12T03:01:53.601623Z"
    },
    "scrolled": true
   },
   "outputs": [
    {
     "data": {
      "text/plain": [
       "['在', '确定', '了', '谁', '说']"
      ]
     },
     "execution_count": 8,
     "metadata": {},
     "output_type": "execute_result"
    }
   ],
   "source": [
    "from itertools import chain\n",
    "\n",
    "# example = chain.from_iterable(cut(''.join(token(text))).split())\n",
    "\n",
    "example = cut(''.join(token(text))).split()\n",
    "\n",
    "example[:5]"
   ]
  },
  {
   "cell_type": "code",
   "execution_count": 9,
   "metadata": {
    "ExecuteTime": {
     "end_time": "2019-08-12T03:02:43.815328Z",
     "start_time": "2019-08-12T03:02:41.657853Z"
    }
   },
   "outputs": [],
   "source": [
    "with open('example.txt', 'wb') as f:\n",
    "    for n in example:\n",
    "        f.write(n.encode() + b'\\n')  # you need to convert '\\n' to bytes as well:"
   ]
  },
  {
   "cell_type": "code",
   "execution_count": 10,
   "metadata": {
    "ExecuteTime": {
     "end_time": "2019-08-12T03:02:53.280937Z",
     "start_time": "2019-08-12T03:02:48.001501Z"
    }
   },
   "outputs": [],
   "source": [
    "from gensim.models import Word2Vec\n",
    "from gensim.models.word2vec import LineSentence"
   ]
  },
  {
   "cell_type": "code",
   "execution_count": 11,
   "metadata": {
    "ExecuteTime": {
     "end_time": "2019-08-12T03:02:54.077288Z",
     "start_time": "2019-08-12T03:02:53.913364Z"
    }
   },
   "outputs": [],
   "source": [
    "example_w2v = Word2Vec(LineSentence('example.txt'), size=64, min_count=1)"
   ]
  },
  {
   "cell_type": "code",
   "execution_count": 12,
   "metadata": {
    "ExecuteTime": {
     "end_time": "2019-08-12T03:02:56.619062Z",
     "start_time": "2019-08-12T03:02:56.433513Z"
    }
   },
   "outputs": [
    {
     "data": {
      "text/plain": [
       "[('基础', 0.37943118810653687),\n",
       " ('两个', 0.3055674135684967),\n",
       " ('推荐', 0.28208595514297485),\n",
       " ('首先', 0.25029096007347107),\n",
       " ('提出', 0.24391242861747742),\n",
       " ('和', 0.23648516833782196),\n",
       " ('可以', 0.22916917502880096),\n",
       " ('了', 0.20575568079948425),\n",
       " ('变成', 0.20155319571495056),\n",
       " ('等', 0.19790491461753845)]"
      ]
     },
     "execution_count": 12,
     "metadata": {},
     "output_type": "execute_result"
    }
   ],
   "source": [
    "example_w2v.wv.most_similar('确定')"
   ]
  },
  {
   "cell_type": "markdown",
   "metadata": {},
   "source": [
    "More Date, Better Results  \n",
    "分词的问题  \n",
    "数据量，数据越多，效果越好，维基百科加进来，那么同义词就要好很多。  \n",
    " "
   ]
  },
  {
   "cell_type": "code",
   "execution_count": 72,
   "metadata": {
    "ExecuteTime": {
     "end_time": "2019-08-07T08:23:29.745125Z",
     "start_time": "2019-08-07T08:23:29.736149Z"
    }
   },
   "outputs": [],
   "source": [
    "from collections import defaultdict"
   ]
  },
  {
   "cell_type": "code",
   "execution_count": null,
   "metadata": {},
   "outputs": [],
   "source": [
    "def get_related_words(initial_words, model):\n",
    "    \"\"\"\n",
    "    获取与‘说’、‘表示’、‘称’等词的相似词\n",
    "    @initial_words are initial words we already know\n",
    "    @model is the word2vec model\n",
    "    \"\"\"\n",
    "    # 节点信息：初步考虑 1. 扩展的次数； 2. 与根节点的相似度\n",
    "    # 算法优化：动态规划"
   ]
  },
  {
   "cell_type": "markdown",
   "metadata": {},
   "source": [
    "## TFIDF Key words\n",
    "\n",
    "inverse documen frequency中取log，使得$\\log\\frac{N}{N}$最小值是从0开始，而不是1开始\n",
    "\n",
    "文本相似性，可以使用每个词构成的tf-idf值向量，进行相似性计算，eg：cosine similarity"
   ]
  },
  {
   "cell_type": "code",
   "execution_count": 13,
   "metadata": {
    "ExecuteTime": {
     "end_time": "2019-08-12T03:03:21.170331Z",
     "start_time": "2019-08-12T03:03:16.402148Z"
    }
   },
   "outputs": [],
   "source": [
    "import pandas as pd"
   ]
  },
  {
   "cell_type": "code",
   "execution_count": 14,
   "metadata": {
    "ExecuteTime": {
     "end_time": "2019-08-12T03:03:21.712970Z",
     "start_time": "2019-08-12T03:03:21.198181Z"
    }
   },
   "outputs": [],
   "source": [
    "origin_txt = pd.read_csv('./dataset7classes.csv', encoding='utf-8', header=None)"
   ]
  },
  {
   "cell_type": "code",
   "execution_count": 17,
   "metadata": {
    "ExecuteTime": {
     "end_time": "2019-08-12T03:04:07.150743Z",
     "start_time": "2019-08-12T03:04:07.137773Z"
    }
   },
   "outputs": [],
   "source": [
    "origin_txt.columns = ['class_label', 'text']\n",
    "origin_txt.head()\n",
    "origin_txt.dropna(inplace=True)"
   ]
  },
  {
   "cell_type": "code",
   "execution_count": 18,
   "metadata": {
    "ExecuteTime": {
     "end_time": "2019-08-12T03:04:23.158069Z",
     "start_time": "2019-08-12T03:04:21.343996Z"
    }
   },
   "outputs": [],
   "source": [
    "import re\n",
    "\n",
    "#正则表达式清洗非中文字符\n",
    "data = []\n",
    "for i in origin_txt[\"text\"]:\n",
    "    chinese = ''.join(re.findall(r'[\\u4e00-\\u9fa5]', i))\n",
    "    data.append(chinese.strip())\n",
    "    \n",
    "origin_txt['text'] = data"
   ]
  },
  {
   "cell_type": "code",
   "execution_count": 20,
   "metadata": {
    "ExecuteTime": {
     "end_time": "2019-08-12T03:05:53.668175Z",
     "start_time": "2019-08-12T03:05:13.619376Z"
    }
   },
   "outputs": [
    {
     "name": "stderr",
     "output_type": "stream",
     "text": [
      "100%|███████████████████████████████████| 25898/25898 [00:29<00:00, 884.31it/s]\n"
     ]
    }
   ],
   "source": [
    "from tqdm import tqdm_notebook, tqdm\n",
    "import jieba\n",
    "\n",
    "\n",
    "jieba.load_userdict('dict_out.csv')\n",
    "\n",
    "cuted_list = []\n",
    "for txt in tqdm(origin_txt['text']):\n",
    "    try:\n",
    "        cuted = ' '.join(jieba.cut(txt))\n",
    "    except AttributeError:\n",
    "        continue\n",
    "    finally:\n",
    "        cuted_list.append(cuted)\n",
    "        \n",
    "origin_txt['tokens'] = cuted_list"
   ]
  },
  {
   "cell_type": "code",
   "execution_count": 21,
   "metadata": {
    "ExecuteTime": {
     "end_time": "2019-08-12T03:06:00.824862Z",
     "start_time": "2019-08-12T03:06:00.815885Z"
    }
   },
   "outputs": [
    {
     "data": {
      "text/html": [
       "<div>\n",
       "<style scoped>\n",
       "    .dataframe tbody tr th:only-of-type {\n",
       "        vertical-align: middle;\n",
       "    }\n",
       "\n",
       "    .dataframe tbody tr th {\n",
       "        vertical-align: top;\n",
       "    }\n",
       "\n",
       "    .dataframe thead th {\n",
       "        text-align: right;\n",
       "    }\n",
       "</style>\n",
       "<table border=\"1\" class=\"dataframe\">\n",
       "  <thead>\n",
       "    <tr style=\"text-align: right;\">\n",
       "      <th></th>\n",
       "      <th>class_label</th>\n",
       "      <th>text</th>\n",
       "      <th>tokens</th>\n",
       "    </tr>\n",
       "  </thead>\n",
       "  <tbody>\n",
       "    <tr>\n",
       "      <th>0</th>\n",
       "      <td>B</td>\n",
       "      <td>文本理解自我理解与自我塑造诠释学文本理解自我理解自我塑造诠释学是一门关于文本理解自我理解和自...</td>\n",
       "      <td>文本 理解 自我 理解 与 自我 塑造 诠释 学 文本 理解 自我 理解 自我 塑造 诠释 ...</td>\n",
       "    </tr>\n",
       "    <tr>\n",
       "      <th>1</th>\n",
       "      <td>B</td>\n",
       "      <td>历史唯物主义的方法论视角及学术意义从对西方学界的几种社会批判理论的批判入手历史唯物主义社会批...</td>\n",
       "      <td>历史唯物主义 的 方法论 视角 及 学术 意义 从 对 西方 学界 的 几种 社会 批判 理...</td>\n",
       "    </tr>\n",
       "  </tbody>\n",
       "</table>\n",
       "</div>"
      ],
      "text/plain": [
       "  class_label                                               text  \\\n",
       "0           B  文本理解自我理解与自我塑造诠释学文本理解自我理解自我塑造诠释学是一门关于文本理解自我理解和自...   \n",
       "1           B  历史唯物主义的方法论视角及学术意义从对西方学界的几种社会批判理论的批判入手历史唯物主义社会批...   \n",
       "\n",
       "                                              tokens  \n",
       "0  文本 理解 自我 理解 与 自我 塑造 诠释 学 文本 理解 自我 理解 自我 塑造 诠释 ...  \n",
       "1  历史唯物主义 的 方法论 视角 及 学术 意义 从 对 西方 学界 的 几种 社会 批判 理...  "
      ]
     },
     "execution_count": 21,
     "metadata": {},
     "output_type": "execute_result"
    }
   ],
   "source": [
    "origin_txt.head(2)"
   ]
  },
  {
   "cell_type": "markdown",
   "metadata": {},
   "source": [
    "### tf-idf完整实现"
   ]
  },
  {
   "cell_type": "code",
   "execution_count": 23,
   "metadata": {
    "ExecuteTime": {
     "end_time": "2019-08-12T03:06:32.476187Z",
     "start_time": "2019-08-12T03:06:32.469174Z"
    }
   },
   "outputs": [],
   "source": [
    "import math\n",
    "\n",
    "def document_frequency(word, doc_list):\n",
    "    return sum(1 for doc in doc_list if word in doc)\n",
    "\n",
    "\n",
    "def idf(word, doc_list):\n",
    "    # 注意这里分母加一，防止出现0\n",
    "    return math.log10(len(doc_list) / document_frequency(word, doc_list) + 1)\n",
    "\n",
    "\n",
    "def tf(word, doc):\n",
    "    words = doc.split()\n",
    "    return sum(1 for w in words if w == word) / len(words)\n",
    "\n",
    "\n",
    "def get_tfidf_of_a_ducment(doc, doc_list):\n",
    "    words_set = set(doc.split())\n",
    "    \n",
    "    tf_idf = [(word, tf(word, doc) * idf(word, doc_list)) for word in words_set]\n",
    "    \n",
    "    tf_idf = sorted(tf_idf, key=lambda x: x[1], reverse=True)\n",
    "    \n",
    "    return tf_idf"
   ]
  },
  {
   "cell_type": "code",
   "execution_count": 24,
   "metadata": {
    "ExecuteTime": {
     "end_time": "2019-08-12T03:07:10.031404Z",
     "start_time": "2019-08-12T03:07:08.906065Z"
    },
    "scrolled": true
   },
   "outputs": [
    {
     "name": "stdout",
     "output_type": "stream",
     "text": [
      " "
     ]
    }
   ],
   "source": [
    "# 详细运行，函数调用情况\n",
    "%prun get_tfidf_of_a_ducment(origin_txt['tokens'][1], origin_txt['tokens'])"
   ]
  },
  {
   "cell_type": "code",
   "execution_count": 32,
   "metadata": {
    "ExecuteTime": {
     "end_time": "2019-08-12T03:13:26.399754Z",
     "start_time": "2019-08-12T03:13:19.338641Z"
    }
   },
   "outputs": [
    {
     "data": {
      "application/vnd.jupyter.widget-view+json": {
       "model_id": "15367ef142ed43909d86c6bb2d135495",
       "version_major": 2,
       "version_minor": 0
      },
      "text/plain": [
       "HBox(children=(IntProgress(value=0, max=501), HTML(value='')))"
      ]
     },
     "metadata": {},
     "output_type": "display_data"
    }
   ],
   "source": [
    "from tqdm import tnrange\n",
    "\n",
    "test_data  = origin_txt['tokens'].loc[:500]\n",
    "content_data = origin_txt['text'].loc[:500]\n",
    "\n",
    "docs_tfidf = []\n",
    "for i in tnrange(test_data.size):\n",
    "    tfidf = get_tfidf_of_a_ducment(test_data[i], test_data)\n",
    "    docs_tfidf.append(tfidf)"
   ]
  },
  {
   "cell_type": "code",
   "execution_count": 35,
   "metadata": {
    "ExecuteTime": {
     "end_time": "2019-08-12T03:15:20.198395Z",
     "start_time": "2019-08-12T03:15:20.193424Z"
    }
   },
   "outputs": [
    {
     "name": "stdout",
     "output_type": "stream",
     "text": [
      "[('诠释', 0.08677665721444204), ('塑造', 0.07019116928046626), ('自我', 0.06556815379056441), ('理解', 0.05136633434659257), ('文本', 0.04896320029011729), ('学的', 0.0326450117942046), ('的', 0.023390944352605043), ('方法论', 0.02020710822052506), ('提炼出', 0.015793588989152157), ('消化', 0.015793588989152157), ('是一门', 0.015793588989152157), ('资源', 0.015284646400488053), ('我们自己', 0.01403823385609325), ('今日', 0.01403823385609325), ('学问', 0.01403823385609325), ('教化', 0.01403823385609325), ('是一项', 0.01403823385609325), ('远远不够', 0.01403823385609325), ('出于', 0.01403823385609325), ('可靠', 0.01403823385609325), ('学', 0.01316579044073235), ('反思', 0.013113630758112881), ('但这', 0.013013504571496273), ('才得以', 0.013013504571496273), ('包含了', 0.013013504571496273), ('尽可能', 0.013013504571496273), ('异质', 0.012287902846729232), ('这一点', 0.012287902846729232), ('实践性', 0.011726201827507488), ('建立在', 0.011726201827507488), ('读者', 0.011726201827507488), ('基础之上', 0.011726201827507488), ('从中', 0.011726201827507488), ('品格', 0.011268167888594692), ('亦即', 0.0108816705980682), ('乃是', 0.010547530966928743), ('不仅是', 0.010547530966928743), ('以及对', 0.010547530966928743), ('梳理', 0.010547530966928743), ('接受', 0.010547530966928743), ('获得了', 0.010547530966928743), ('包含着', 0.010547530966928743), ('传统', 0.010296634162280001), ('而言', 0.010253378167594219), ('我们的', 0.010253378167594219), ('关于', 0.009756019298292944), ('凸显', 0.00975366827963512), ('正确理解', 0.00975366827963512), ('借鉴', 0.009537638123182405), ('起点', 0.009156018674637152), ('与', 0.009129784008845902), ('达到', 0.008985721886383217), ('理念', 0.008826728423614138), ('在此', 0.008826728423614138), ('西方', 0.008524945869132324), ('任务', 0.008404969255450118), ('意义上', 0.008404969255450118), ('功能', 0.00827957735459382), ('双重', 0.008160533381686215), ('丰富', 0.008160533381686215), ('经验', 0.008047245661082269), ('各种', 0.00793920146763821), ('只有', 0.007835953577159946), ('积极', 0.007737109564220475), ('探索', 0.007551287475876169), ('思想', 0.0075351774400282704), ('已经', 0.00737940275849025), ('实践', 0.00737878733925928), ('本身', 0.007143726495360622), ('新的', 0.007070335188015607), ('体现', 0.006863577689662388), ('共同', 0.006798716676019848), ('系统', 0.0065568153790564404), ('自身', 0.006500295550824249), ('建构', 0.006500295550824249), ('提供', 0.006391484361347691), ('体系', 0.006141325201553978), ('就是', 0.006004220980525725), ('同时', 0.0058343109249563065), ('还', 0.005715415294526644), ('通过', 0.005395341249642309), ('了', 0.005269345350034219), ('使', 0.005119515282152322), ('文化', 0.004955174004305997), ('中国', 0.0046415385853204715), ('方式', 0.0046415385853204715), ('我们', 0.0045761172852987935), ('德', 0.004492395987812629), ('就', 0.004298771506770455), ('一种', 0.0042446033614404865), ('也', 0.004226915867500901), ('现代', 0.004174914351631317), ('存在', 0.0038358048452699738), ('研究', 0.00368939366962964), ('来', 0.0034108563012003315), ('其', 0.0029908403692923175), ('而', 0.0029292345097441377), ('理论', 0.0028775876101655774), ('以', 0.002559558569884148), ('对', 0.0024174245904342723), ('和', 0.0022780775904429787)]\n"
     ]
    }
   ],
   "source": [
    "print(docs_tfidf[0])"
   ]
  },
  {
   "cell_type": "code",
   "execution_count": 110,
   "metadata": {
    "ExecuteTime": {
     "end_time": "2019-08-07T09:58:16.819233Z",
     "start_time": "2019-08-07T09:58:16.815243Z"
    }
   },
   "outputs": [],
   "source": [
    "from scipy.spatial.distance import cosine\n",
    "import numpy as np\n",
    "\n",
    "def distance(v1, v2): return cosine(v1, v2)"
   ]
  },
  {
   "cell_type": "markdown",
   "metadata": {
    "ExecuteTime": {
     "end_time": "2019-08-07T10:03:36.261013Z",
     "start_time": "2019-08-07T10:03:36.238075Z"
    }
   },
   "source": [
    "#### TFIDF Vectorizezd"
   ]
  },
  {
   "cell_type": "code",
   "execution_count": 36,
   "metadata": {
    "ExecuteTime": {
     "end_time": "2019-08-12T03:16:18.566255Z",
     "start_time": "2019-08-12T03:16:18.442554Z"
    }
   },
   "outputs": [],
   "source": [
    "from sklearn.feature_extraction.text import TfidfVectorizer\n",
    "\n",
    "\n",
    "vectorized = TfidfVectorizer(max_features=100)\n",
    "\n",
    "X = vectorized.fit_transform(test_data)"
   ]
  },
  {
   "cell_type": "code",
   "execution_count": 37,
   "metadata": {
    "ExecuteTime": {
     "end_time": "2019-08-12T03:16:30.006624Z",
     "start_time": "2019-08-12T03:16:29.999643Z"
    }
   },
   "outputs": [
    {
     "data": {
      "text/plain": [
       "(501, 100)"
      ]
     },
     "execution_count": 37,
     "metadata": {},
     "output_type": "execute_result"
    }
   ],
   "source": [
    "X.shape"
   ]
  },
  {
   "cell_type": "code",
   "execution_count": 51,
   "metadata": {
    "ExecuteTime": {
     "end_time": "2019-08-12T03:36:22.577153Z",
     "start_time": "2019-08-12T03:36:22.570173Z"
    }
   },
   "outputs": [
    {
     "data": {
      "text/plain": [
       "matrix([[0.        , 0.        , 0.        , 0.        , 0.11816552,\n",
       "         0.        , 0.        , 0.        , 0.        , 0.09689842,\n",
       "         0.        , 0.        , 0.        , 0.        , 0.09743203,\n",
       "         0.        , 0.        , 0.        , 0.        , 0.        ,\n",
       "         0.        , 0.        , 0.08018513, 0.        , 0.        ,\n",
       "         0.        , 0.37744509, 0.        , 0.        , 0.        ,\n",
       "         0.        , 0.        , 0.        , 0.        , 0.08111967,\n",
       "         0.        , 0.        , 0.21508219, 0.        , 0.        ,\n",
       "         0.        , 0.        , 0.        , 0.07589696, 0.        ,\n",
       "         0.        , 0.08553463, 0.46189894, 0.        , 0.27880185,\n",
       "         0.        , 0.32722653, 0.        , 0.        , 0.        ,\n",
       "         0.        , 0.        , 0.        , 0.        , 0.        ,\n",
       "         0.08820431, 0.        , 0.        , 0.34806658, 0.        ,\n",
       "         0.        , 0.        , 0.        , 0.26305799, 0.        ,\n",
       "         0.        , 0.        , 0.        , 0.        , 0.        ,\n",
       "         0.        , 0.        , 0.34260317, 0.08080498, 0.        ,\n",
       "         0.        , 0.        , 0.        , 0.        , 0.        ,\n",
       "         0.        , 0.        , 0.        , 0.        , 0.        ,\n",
       "         0.        , 0.0906934 , 0.        , 0.0698615 , 0.        ,\n",
       "         0.        , 0.        , 0.        , 0.13799433, 0.        ]])"
      ]
     },
     "execution_count": 51,
     "metadata": {},
     "output_type": "execute_result"
    }
   ],
   "source": [
    "X[1].todense()"
   ]
  },
  {
   "cell_type": "code",
   "execution_count": 46,
   "metadata": {
    "ExecuteTime": {
     "end_time": "2019-08-12T03:23:06.519450Z",
     "start_time": "2019-08-12T03:23:06.512468Z"
    }
   },
   "outputs": [
    {
     "data": {
      "text/plain": [
       "0.8498558674785053"
      ]
     },
     "execution_count": 46,
     "metadata": {},
     "output_type": "execute_result"
    }
   ],
   "source": [
    "from scipy.spatial.distance import cosine\n",
    "import numpy as np\n",
    "\n",
    "\n",
    "def distance(v1, v2): return cosine(v1, v2)\n",
    "\n",
    "document_1  = X[1].toarray().ravel()                               \n",
    "document_2  = X[2].toarray().ravel()\n",
    "\n",
    "distance(document_1, document_2)"
   ]
  },
  {
   "cell_type": "markdown",
   "metadata": {},
   "source": [
    "### Word_Cloud"
   ]
  },
  {
   "cell_type": "code",
   "execution_count": 59,
   "metadata": {
    "ExecuteTime": {
     "end_time": "2019-08-12T04:03:59.785102Z",
     "start_time": "2019-08-12T04:03:59.045081Z"
    },
    "scrolled": true
   },
   "outputs": [
    {
     "name": "stdout",
     "output_type": "stream",
     "text": [
      "[('哲学', 0.17706558246625706), ('马克思', 0.1162722774115506), ('人的', 0.09526935542156813), ('马克思主义', 0.08633583045060435), ('理论', 0.07569989265013882), ('实践', 0.06472722522409162), ('批判', 0.05558644782898761), ('历史唯物主义', 0.05099561374553214), ('价值', 0.04877793244625707), ('意识形态', 0.04717560515753915), ('社会', 0.04060398881515752), ('当代', 0.036950311264206594), ('中的', 0.03604031334129703), ('现代性', 0.03333360633374153), ('历史', 0.03205810438884552), ('研究', 0.03132421124291891), ('思想', 0.027944333795752282), ('价值观', 0.027373717013451978), ('主体性', 0.027288333144484693), ('意义', 0.025912136874077122)]\n"
     ]
    }
   ],
   "source": [
    "import  jieba.analyse\n",
    "\n",
    "\n",
    "with open('test_data.txt', 'w') as f:\n",
    "    for i in test_data:\n",
    "        f.write(str(i) + '\\n')\n",
    "\n",
    "with open('test_data.txt', 'r') as f:\n",
    "    content = f.read()\n",
    "\n",
    "text_and_freq = jieba.analyse.extract_tags(content, topK=150,  withWeight=True)\n",
    "print(text_and_freq[:20])"
   ]
  },
  {
   "cell_type": "code",
   "execution_count": 61,
   "metadata": {
    "ExecuteTime": {
     "end_time": "2019-08-12T04:04:29.285423Z",
     "start_time": "2019-08-12T04:04:28.573341Z"
    }
   },
   "outputs": [
    {
     "data": {
      "image/png": "[encoded data removed]",
      "text/plain": [
       "<Figure size 432x288 with 1 Axes>"
      ]
     },
     "metadata": {
      "needs_background": "light"
     },
     "output_type": "display_data"
    },
    {
     "data": {
      "text/plain": [
       "<wordcloud.wordcloud.WordCloud at 0x2c99c65ceb8>"
      ]
     },
     "execution_count": 61,
     "metadata": {},
     "output_type": "execute_result"
    }
   ],
   "source": [
    "from wordcloud import WordCloud\n",
    "import matplotlib.pyplot as plt\n",
    "from PIL import Image\n",
    "import numpy as np\n",
    "\n",
    "mask = np.array(Image.open('heart.png'))\n",
    "\n",
    "wc = WordCloud(mask=mask,\n",
    "               font_path= 'simhei.ttf',\n",
    "               mode='RGBA',\n",
    "               max_words=30,\n",
    "               random_state=100,\n",
    "               background_color=None).generate_from_frequencies(text_and_freq)\n",
    "\n",
    "            # color_func=random_color\n",
    "# 从图片中生成颜色\n",
    "# image_colors = ImageColorGenerator(mask)\n",
    "# wc.recolor(color_func=image_colors)\n",
    "\n",
    "# 显示词云\n",
    "plt.imshow(wc, interpolation='bilinear')\n",
    "plt.axis(\"off\")\n",
    "plt.show()\n",
    "\n",
    "# 保存到文件\n",
    "wc.to_file('wordcloud.png')"
   ]
  },
  {
   "cell_type": "markdown",
   "metadata": {},
   "source": [
    "### Build Search Engine"
   ]
  },
  {
   "cell_type": "markdown",
   "metadata": {},
   "source": [
    "Input: Words  \n",
    "Output: Documents"
   ]
  },
  {
   "cell_type": "code",
   "execution_count": 49,
   "metadata": {
    "ExecuteTime": {
     "end_time": "2019-08-12T03:26:17.172529Z",
     "start_time": "2019-08-12T03:26:17.168540Z"
    }
   },
   "outputs": [],
   "source": [
    " # O(D * w)\n",
    "def naive_search(keywords):\n",
    "    news_ids = [i for i, n in enumerate(news_content) if all(w in n for w in keywords)]"
   ]
  },
  {
   "cell_type": "code",
   "execution_count": 67,
   "metadata": {
    "ExecuteTime": {
     "end_time": "2019-08-12T04:09:43.305550Z",
     "start_time": "2019-08-12T04:09:43.301561Z"
    }
   },
   "outputs": [],
   "source": [
    "from functools import reduce\n",
    "from operator import and_\n",
    "\n",
    "# Input word -> the documents which contain this word\n",
    "transposed_x = X.transpose().toarray()   # [word, doc]\n"
   ]
  },
  {
   "cell_type": "code",
   "execution_count": 65,
   "metadata": {
    "ExecuteTime": {
     "end_time": "2019-08-12T04:07:46.509979Z",
     "start_time": "2019-08-12T04:07:46.505020Z"
    }
   },
   "outputs": [],
   "source": [
    "word_2_id = vectorized.vocabulary_\n",
    "id_2_word = {d: w for w, d in word_2_id.items()}"
   ]
  },
  {
   "cell_type": "code",
   "execution_count": 66,
   "metadata": {
    "ExecuteTime": {
     "end_time": "2019-08-12T04:08:02.779802Z",
     "start_time": "2019-08-12T04:08:02.774785Z"
    }
   },
   "outputs": [
    {
     "data": {
      "text/plain": [
       "array([  2,   3,  22,  23,  28,  32,  38,  40,  48,  57,  65,  66,  67,\n",
       "        71,  73,  75,  79,  80,  84,  86, 102, 103, 108, 125, 129, 136,\n",
       "       145, 158, 163, 168, 169, 172, 174, 175, 177, 182, 187, 194, 199,\n",
       "       204, 212, 214, 217, 218, 219, 223, 230, 233, 239, 240, 242, 245,\n",
       "       246, 259, 262, 281, 284, 293, 294, 295, 297, 298, 299, 301, 303,\n",
       "       305, 310, 313, 314, 331, 332, 338, 339, 341, 345, 351, 354, 356,\n",
       "       357, 364, 368, 372, 382, 386, 393, 398, 400, 423, 427, 437, 439,\n",
       "       451, 453, 457, 465, 467, 482, 488, 490, 491, 497, 499], dtype=int64)"
      ]
     },
     "execution_count": 66,
     "metadata": {},
     "output_type": "execute_result"
    }
   ],
   "source": [
    "# get the positions which values are not zero\n",
    "np.where(transposed_x[6])[0]  # 包含第6个词的doc"
   ]
  },
  {
   "cell_type": "code",
   "execution_count": 68,
   "metadata": {
    "ExecuteTime": {
     "end_time": "2019-08-12T04:17:43.421255Z",
     "start_time": "2019-08-12T04:17:43.415266Z"
    }
   },
   "outputs": [],
   "source": [
    "def search_engine(query):\n",
    "    \"\"\"\n",
    "    @query is the searched words, splited by space\n",
    "    @return is the related documents which ranked by tfidf similarity\n",
    "    \"\"\"\n",
    "    words = query.split()\n",
    "    word_id = [word_2_id[w] for w in words]\n",
    "    \n",
    "    # 包含各个词的doc\n",
    "    doc_id = [set(np.where(transposed_x[id_])[0]) for id_ in word_id]\n",
    "    \n",
    "    # 交集\n",
    "    res = reduce(and_, doc_id)\n",
    "    \n",
    "    # 排序\n",
    "    query_vec = vectorized.transform([' '.join(words)]).toarray().ravel()\n",
    "    res = sorted(res, key=lambda id_: distance(query_vec, X[id_].toarray()))\n",
    "    \n",
    "    return res"
   ]
  },
  {
   "cell_type": "markdown",
   "metadata": {},
   "source": [
    "#### 标记搜索关键词"
   ]
  },
  {
   "cell_type": "code",
   "execution_count": 70,
   "metadata": {
    "ExecuteTime": {
     "end_time": "2019-08-12T04:18:57.299152Z",
     "start_time": "2019-08-12T04:18:57.292170Z"
    }
   },
   "outputs": [
    {
     "data": {
      "text/plain": [
       "'美国有线电视**新闻**网援引美国军方**官员**的话说'"
      ]
     },
     "execution_count": 70,
     "metadata": {},
     "output_type": "execute_result"
    }
   ],
   "source": [
    "import re\n",
    "\n",
    "# 标记搜索关键词\n",
    "text = \"\"\"美国有线电视新闻网援引美国军方官员的话说\"\"\"\n",
    "pat = r'(新闻|官员)'\n",
    "\n",
    "re.compile(pat).sub(repl=\"**\\g<1>**\", string=text)"
   ]
  },
  {
   "cell_type": "code",
   "execution_count": 71,
   "metadata": {
    "ExecuteTime": {
     "end_time": "2019-08-12T04:20:23.708736Z",
     "start_time": "2019-08-12T04:20:23.702753Z"
    }
   },
   "outputs": [
    {
     "data": {
      "text/plain": [
       "re.compile(r'(美军|司令|航母)', re.UNICODE)"
      ]
     },
     "execution_count": 71,
     "metadata": {},
     "output_type": "execute_result"
    }
   ],
   "source": [
    "def get_query_pat(query):\n",
    "    return re.compile('({})'.format('|'.join(query.split())))\n",
    "\n",
    "get_query_pat('美军 司令 航母')"
   ]
  },
  {
   "cell_type": "code",
   "execution_count": 72,
   "metadata": {
    "ExecuteTime": {
     "end_time": "2019-08-12T04:22:08.083093Z",
     "start_time": "2019-08-12T04:22:08.079104Z"
    }
   },
   "outputs": [],
   "source": [
    "text = \"\"\"新华社洛杉矶４月８日电（记者黄恒）美国第三舰队８日发布声明说，该舰队下\n",
    "属的“卡尔·文森”航母战斗群当天离开新加坡，改变原定驶往澳大利亚的任务计划，转而\n",
    "北上，前往西太平洋朝鲜半岛附近水域展开行动。\\n　　该舰队网站主页发布的消息说，\n",
    "美军太平洋司令部司令哈里·哈里斯指示“卡尔·文森”航母战斗群向北航行。这一战斗群\n",
    "包括“卡尔·文森”号航空母舰、海军第二航空队、两艘“阿利·伯克”级导弹驱逐舰和一艘\n",
    "“泰孔德罗加”级导弹巡洋舰。\\n　　“卡尔·文森”号航母的母港位于美国加利福尼亚州\n",
    "的圣迭戈，今年１月初前往西太平洋地区执行任务，并参与了日本及韩国的军事演习。\\n\n",
    "美国有线电视新闻网援引美国军方官员的话说，“‘卡尔·文森’号此次行动是为了对近期\n",
    "朝鲜的挑衅行为作出回应”。（完）\"\"\""
   ]
  },
  {
   "cell_type": "code",
   "execution_count": 73,
   "metadata": {
    "ExecuteTime": {
     "end_time": "2019-08-12T04:22:10.698100Z",
     "start_time": "2019-08-12T04:22:10.692115Z"
    }
   },
   "outputs": [
    {
     "data": {
      "text/plain": [
       "'新华社洛杉矶４月８日电（记者黄恒）美国第三舰队８日发布声明说，该舰队下\\n属的“卡尔·文森”**航母**战斗群当天离开新加坡，改变原定驶往澳大利亚的任务计划，转而\\n北上，前往西太平洋朝鲜半岛附近水域展开行动。\\n\\u3000\\u3000该舰队网站主页发布的消息说，\\n**美军**太平洋**司令**部**司令**哈里·哈里斯指示“卡尔·文森”**航母**战斗群向北航行。这一战斗群\\n包括“卡尔·文森”号航空母舰、海军第二航空队、两艘“阿利·伯克”级导弹驱逐舰和一艘\\n“泰孔德罗加”级导弹巡洋舰。\\n\\u3000\\u3000“卡尔·文森”号**航母**的母港位于美国加利福尼亚州\\n的圣迭戈，今年１月初前往西太平洋地区执行任务，并参与了日本及韩国的军事演习。\\n\\n美国有线电视新闻网援引美国军方官员的话说，“‘卡尔·文森’号此次行动是为了对近期\\n朝鲜的挑衅行为作出回应”。（完）'"
      ]
     },
     "execution_count": 73,
     "metadata": {},
     "output_type": "execute_result"
    }
   ],
   "source": [
    "def highlight_keywords(pat, document):\n",
    "    return pat.sub(repl=\"**\\g<1>**\", string=document)\n",
    "\n",
    "highlight_keywords(get_query_pat('美军 司令 航母'), text)"
   ]
  },
  {
   "cell_type": "code",
   "execution_count": 89,
   "metadata": {
    "ExecuteTime": {
     "end_time": "2019-08-12T04:36:03.276977Z",
     "start_time": "2019-08-12T04:36:03.268997Z"
    },
    "scrolled": true
   },
   "outputs": [],
   "source": [
    "from IPython.display import display, Markdown\n",
    "\n",
    "\n",
    "def search_engine(query):\n",
    "    \"\"\"\n",
    "    @query is the searched words, splited by space\n",
    "    @return is the related documents which ranked by tfidf similarity\n",
    "    \"\"\"\n",
    "    words = query.split()\n",
    "    word_id = [word_2_id[w] for w in words]\n",
    "    \n",
    "    # 包含各个词的doc\n",
    "    doc_id = [set(np.where(transposed_x[id_])[0]) for id_ in word_id]\n",
    "    \n",
    "    # 交集\n",
    "    res = reduce(and_, doc_id)\n",
    "    \n",
    "    # 排序\n",
    "    query_vec = vectorized.transform([' '.join(words)]).toarray().ravel()\n",
    "    res = sorted(res, key=lambda id_: distance(query_vec, X[id_].toarray()))\n",
    "    \n",
    "    return res\n",
    "\n",
    "\n",
    "def search_engine_with_pretty_print(query):\n",
    "    candidates_ids = search_engine(query)\n",
    "    \n",
    "    for i, _id in enumerate(candidates_ids):\n",
    "        title = '## Search Result {}'.format(i)\n",
    "        c = content_data[_id]  # 替换为自己的文本位置\n",
    "        c = highlight_keywords(get_query_pat(query), c)    \n",
    "        \n",
    "        display(Markdown(title + '\\n' + c))"
   ]
  },
  {
   "cell_type": "code",
   "execution_count": 91,
   "metadata": {
    "ExecuteTime": {
     "end_time": "2019-08-12T04:37:13.445372Z",
     "start_time": "2019-08-12T04:37:13.435365Z"
    }
   },
   "outputs": [
    {
     "data": {
      "text/markdown": [
       "## Search Result 0\n",
       "人与自然的和解绿色发展的**价值观**审视人与自然绿色发展人类中心主义生态**哲学**内在价值当代环境异化劳动**哲学**手稿对象世界环境问题正从绝对人类中心主义到相对人类中心主义再到自然的内在价值论和回归中国古代的天人合一观念对生态**哲学**的基础的讨论经历了一个漫长的过程然而在实践上收效甚少绿色发展的道在哪里按照笔者的看法如果不打破资本**价值观**的统治绿色发展就仍然只是一个空洞的概念因此对绿色发展必须从**价值观**革命的角度加以审视而在这方面**马克思**关于人与自然的和解的学说为我们提供了理论基础"
      ],
      "text/plain": [
       "<IPython.core.display.Markdown object>"
      ]
     },
     "metadata": {},
     "output_type": "display_data"
    },
    {
     "data": {
      "text/markdown": [
       "## Search Result 1\n",
       "**马克思**生活**哲学**的出场实质及其意义**马克思****哲学**生活**哲学**现实生活真理幸福**马克思**生活**哲学**的出场是对**马克思****哲学**回归生活世界原则的深度推进与实质性提升**马克思**生活**哲学**的研究成为一种探索**马克思****哲学**的新范式为**马克思****哲学**的研究获得了一种全景式的理论图景凸显了**马克思****哲学**在**价值观**批判对象理论目的真理观**哲学**类型理论与生活主体以及**哲学**的归宿等诸多方面所实现的一系列根本性的转变突出了**马克思****哲学**的辩证法所具有的批判性和革命性特质**马克思****哲学**的真理观是生活幸福真理观**马克思**的辩证法本质上是权利辩证法而现实生活则是**马克思****哲学**的总体性范畴对**马克思**生活**哲学**的探索要求我们为推进**马克思****哲学**研究确立起新的理论范式同时自觉地立足于生活世界创造出与我们生活相适应的当代**哲学**样态发展出有中国气派的**哲学**形态"
      ],
      "text/plain": [
       "<IPython.core.display.Markdown object>"
      ]
     },
     "metadata": {},
     "output_type": "display_data"
    }
   ],
   "source": [
    "search_engine_with_pretty_print('哲学 马克思 价值观')"
   ]
  },
  {
   "cell_type": "code",
   "execution_count": 86,
   "metadata": {
    "ExecuteTime": {
     "end_time": "2019-08-12T04:34:42.659595Z",
     "start_time": "2019-08-12T04:34:42.652618Z"
    }
   },
   "outputs": [
    {
     "data": {
      "text/plain": [
       "array([  0,   4,   5,   8,  11,  12,  15,  17,  18,  23,  26,  41,  45,\n",
       "        48,  50,  53,  56,  62,  64,  67,  78,  81,  90,  91,  95,  96,\n",
       "       101, 108, 119, 120, 133, 134, 149, 151, 152, 154, 157, 166, 169,\n",
       "       171, 174, 181, 188, 189, 190, 206, 207, 215, 217, 220, 221, 222,\n",
       "       230, 248, 259, 260, 263, 283, 286, 296, 302, 309, 310, 313, 317,\n",
       "       332, 341, 346, 349, 353, 356, 357, 363, 382, 383, 385, 394, 401,\n",
       "       426, 431, 436, 455, 459, 460, 466, 494, 497, 498], dtype=int64)"
      ]
     },
     "execution_count": 86,
     "metadata": {},
     "output_type": "execute_result"
    }
   ],
   "source": [
    "np.where(transposed_x[1])[0]"
   ]
  },
  {
   "cell_type": "markdown",
   "metadata": {},
   "source": [
    "### PageRank"
   ]
  },
  {
   "cell_type": "code",
   "execution_count": 92,
   "metadata": {
    "ExecuteTime": {
     "end_time": "2019-08-12T04:38:03.672199Z",
     "start_time": "2019-08-12T04:37:59.172115Z"
    }
   },
   "outputs": [],
   "source": [
    "import networkx as nx\n",
    "import random\n",
    "from string import ascii_uppercase"
   ]
  },
  {
   "cell_type": "code",
   "execution_count": 93,
   "metadata": {
    "ExecuteTime": {
     "end_time": "2019-08-12T04:38:06.146462Z",
     "start_time": "2019-08-12T04:38:06.140478Z"
    }
   },
   "outputs": [
    {
     "data": {
      "text/plain": [
       "'ABCDEFGHIJKLMNOPQRSTUVWXYZ'"
      ]
     },
     "execution_count": 93,
     "metadata": {},
     "output_type": "execute_result"
    }
   ],
   "source": [
    "ascii_uppercase"
   ]
  },
  {
   "cell_type": "code",
   "execution_count": 94,
   "metadata": {
    "ExecuteTime": {
     "end_time": "2019-08-12T04:38:37.841688Z",
     "start_time": "2019-08-12T04:38:37.836728Z"
    }
   },
   "outputs": [],
   "source": [
    "def genearte_random_website():\n",
    "    return ''.join([random.choice(ascii_uppercase) for _ in range(random.randint(3, 5))]) + '.'  + random.choice(['com', 'cn', 'net'])"
   ]
  },
  {
   "cell_type": "code",
   "execution_count": 95,
   "metadata": {
    "ExecuteTime": {
     "end_time": "2019-08-12T04:38:50.243566Z",
     "start_time": "2019-08-12T04:38:50.237610Z"
    }
   },
   "outputs": [
    {
     "data": {
      "text/plain": [
       "['UUCFD.com',\n",
       " 'PFCK.com',\n",
       " 'YZU.net',\n",
       " 'OMNF.net',\n",
       " 'UYM.net',\n",
       " 'QFB.net',\n",
       " 'ATDLG.net',\n",
       " 'DMP.cn',\n",
       " 'DUNU.com',\n",
       " 'FEUUT.net',\n",
       " 'BXKU.net',\n",
       " 'GOS.com',\n",
       " 'MGOQN.cn',\n",
       " 'UYFW.cn',\n",
       " 'WFUZ.net',\n",
       " 'DJIO.cn',\n",
       " 'XOIZ.com',\n",
       " 'UZBB.net',\n",
       " 'FOG.cn',\n",
       " 'OOQUM.net',\n",
       " 'OCAH.net',\n",
       " 'YPZI.com',\n",
       " 'YNNBG.com',\n",
       " 'XGKJ.com',\n",
       " 'ANPL.net']"
      ]
     },
     "execution_count": 95,
     "metadata": {},
     "output_type": "execute_result"
    }
   ],
   "source": [
    "websites = [genearte_random_website() for _ in range(25)]\n",
    "websites"
   ]
  },
  {
   "cell_type": "code",
   "execution_count": 96,
   "metadata": {
    "ExecuteTime": {
     "end_time": "2019-08-12T04:39:03.338868Z",
     "start_time": "2019-08-12T04:39:03.333854Z"
    }
   },
   "outputs": [
    {
     "data": {
      "text/plain": [
       "['DMP.cn',\n",
       " 'UUCFD.com',\n",
       " 'FEUUT.net',\n",
       " 'QFB.net',\n",
       " 'PFCK.com',\n",
       " 'UZBB.net',\n",
       " 'BXKU.net',\n",
       " 'UYFW.cn',\n",
       " 'WFUZ.net',\n",
       " 'YPZI.com']"
      ]
     },
     "execution_count": 96,
     "metadata": {},
     "output_type": "execute_result"
    }
   ],
   "source": [
    "random.sample(websites, 10)"
   ]
  },
  {
   "cell_type": "code",
   "execution_count": 97,
   "metadata": {
    "ExecuteTime": {
     "end_time": "2019-08-12T04:39:20.569840Z",
     "start_time": "2019-08-12T04:39:20.564854Z"
    }
   },
   "outputs": [],
   "source": [
    "website_connection = {\n",
    "    websites[0]: random.sample(websites, 10),\n",
    "    websites[1]: random.sample(websites, 5),\n",
    "    websites[3]: random.sample(websites, 7),\n",
    "    websites[4]: random.sample(websites, 2),\n",
    "    websites[5]: random.sample(websites, 1),\n",
    "}"
   ]
  },
  {
   "cell_type": "code",
   "execution_count": 99,
   "metadata": {
    "ExecuteTime": {
     "end_time": "2019-08-12T04:40:05.591470Z",
     "start_time": "2019-08-12T04:40:03.485135Z"
    }
   },
   "outputs": [
    {
     "name": "stderr",
     "output_type": "stream",
     "text": [
      "D:\\ProgramData\\Anaconda3\\lib\\site-packages\\networkx\\drawing\\nx_pylab.py:579: MatplotlibDeprecationWarning: \n",
      "The iterable function was deprecated in Matplotlib 3.1 and will be removed in 3.3. Use np.iterable instead.\n",
      "  if not cb.iterable(width):\n"
     ]
    },
    {
     "data": {
      "image/png": "[encoded data removed]",
      "text/plain": [
       "<Figure size 864x864 with 1 Axes>"
      ]
     },
     "metadata": {},
     "output_type": "display_data"
    }
   ],
   "source": [
    "website_network = nx.graph.Graph(website_connection)\n",
    "\n",
    "plt.figure(3,figsize=(12,12))\n",
    "nx.draw_networkx(website_network, font_size=10)"
   ]
  },
  {
   "cell_type": "code",
   "execution_count": 100,
   "metadata": {
    "ExecuteTime": {
     "end_time": "2019-08-12T04:41:21.785070Z",
     "start_time": "2019-08-12T04:41:21.773103Z"
    }
   },
   "outputs": [
    {
     "data": {
      "text/plain": [
       "[('UUCFD.com', 0.20306387993289488),\n",
       " ('OMNF.net', 0.12878031387383018),\n",
       " ('PFCK.com', 0.09400545424207642),\n",
       " ('UYM.net', 0.06171870456494866),\n",
       " ('QFB.net', 0.05),\n",
       " ('ATDLG.net', 0.04067838808799574),\n",
       " ('ANPL.net', 0.039172899582144864),\n",
       " ('YPZI.com', 0.039172899582144864),\n",
       " ('FOG.cn', 0.03911927860278631),\n",
       " ('YZU.net', 0.03911927860278631),\n",
       " ('FEUUT.net', 0.038829403814562735),\n",
       " ('OOQUM.net', 0.038829403814562735),\n",
       " ('DMP.cn', 0.024986875691035096),\n",
       " ('WFUZ.net', 0.02348138718518422),\n",
       " ('OCAH.net', 0.02319151239696065),\n",
       " ('MGOQN.cn', 0.02319151239696065),\n",
       " ('BXKU.net', 0.02319151239696065),\n",
       " ('UZBB.net', 0.02319151239696065),\n",
       " ('DJIO.cn', 0.023137891417602093),\n",
       " ('YNNBG.com', 0.023137891417602093)]"
      ]
     },
     "execution_count": 100,
     "metadata": {},
     "output_type": "execute_result"
    }
   ],
   "source": [
    "sorted(nx.pagerank(website_network).items(), key=lambda x: x[1], reverse=True)"
   ]
  },
  {
   "cell_type": "code",
   "execution_count": 101,
   "metadata": {
    "ExecuteTime": {
     "end_time": "2019-08-12T04:42:48.382934Z",
     "start_time": "2019-08-12T04:42:48.378945Z"
    }
   },
   "outputs": [],
   "source": [
    "text = \"\"\"新华社洛杉矶４月８日电（记者黄恒）美国第三舰队８日发布声明说，该舰队下\n",
    "属的“卡尔·文森”航母战斗群当天离开新加坡，改变原定驶往澳大利亚的任务计划，转而\n",
    "北上，前往西太平洋朝鲜半岛附近水域展开行动。\\n　　该舰队网站主页发布的消息说，\n",
    "美军太平洋司令部司令哈里·哈里斯指示“卡尔·文森”航母战斗群向北航行。这一战斗群\n",
    "包括“卡尔·文森”号航空母舰、海军第二航空队、两艘“阿利·伯克”级导弹驱逐舰和一艘\n",
    "“泰孔德罗加”级导弹巡洋舰。\\n　　“卡尔·文森”号航母的母港位于美国加利福尼亚州\n",
    "的圣迭戈，今年１月初前往西太平洋地区执行任务，并参与了日本及韩国的军事演习。\\n\n",
    "美国有线电视新闻网援引美国军方官员的话说，“‘卡尔·文森’号此次行动是为了对近期\n",
    "朝鲜的挑衅行为作出回应”。（完）\"\"\""
   ]
  },
  {
   "cell_type": "markdown",
   "metadata": {},
   "source": [
    "#### TextRank"
   ]
  },
  {
   "cell_type": "code",
   "execution_count": 103,
   "metadata": {
    "ExecuteTime": {
     "end_time": "2019-08-12T04:43:20.626678Z",
     "start_time": "2019-08-12T04:43:20.613708Z"
    },
    "scrolled": true
   },
   "outputs": [
    {
     "data": {
      "text/plain": [
       "[(pair('美国', 'ns'), 1.0),\n",
       " (pair('航母', 'n'), 0.8200257803947554),\n",
       " (pair('战斗群', 'n'), 0.7554257032878658),\n",
       " (pair('舰队', 'n'), 0.7102533099405931),\n",
       " (pair('航空队', 'n'), 0.685357883202769),\n",
       " (pair('司令', 'n'), 0.6803874350969537),\n",
       " (pair('发布', 'v'), 0.6095676052896687),\n",
       " (pair('参与', 'v'), 0.5843395918245947),\n",
       " (pair('驶往', 'v'), 0.5686694930347852),\n",
       " (pair('韩国', 'ns'), 0.5590246983680632),\n",
       " (pair('日本', 'ns'), 0.5570504450348736),\n",
       " (pair('新加坡', 'ns'), 0.5281897073379386),\n",
       " (pair('行为', 'v'), 0.5112374670488903),\n",
       " (pair('水域', 'n'), 0.5086522728316377),\n",
       " (pair('挑衅', 'v'), 0.5083786197169354),\n",
       " (pair('朝鲜半岛', 'ns'), 0.5070976172581215),\n",
       " (pair('展开', 'v'), 0.5054398201913777),\n",
       " (pair('作出', 'v'), 0.5051642366184098),\n",
       " (pair('澳大利亚', 'ns'), 0.4692638378904362),\n",
       " (pair('罗加', 'ns'), 0.4636262367509774)]"
      ]
     },
     "execution_count": 103,
     "metadata": {},
     "output_type": "execute_result"
    }
   ],
   "source": [
    "jieba.analyse.textrank(text, withWeight=True, withFlag=True)"
   ]
  },
  {
   "cell_type": "code",
   "execution_count": null,
   "metadata": {},
   "outputs": [],
   "source": []
  }
 ],
 "metadata": {
  "kernelspec": {
   "display_name": "Python 3",
   "language": "python",
   "name": "python3"
  },
  "language_info": {
   "codemirror_mode": {
    "name": "ipython",
    "version": 3
   },
   "file_extension": ".py",
   "mimetype": "text/x-python",
   "name": "python",
   "nbconvert_exporter": "python",
   "pygments_lexer": "ipython3",
   "version": "3.6.8"
  },
  "toc": {
   "base_numbering": 1,
   "nav_menu": {},
   "number_sections": true,
   "sideBar": true,
   "skip_h1_title": false,
   "title_cell": "Table of Contents",
   "title_sidebar": "Contents",
   "toc_cell": false,
   "toc_position": {},
   "toc_section_display": true,
   "toc_window_display": false
  },
  "varInspector": {
   "cols": {
    "lenName": 16,
    "lenType": 16,
    "lenVar": 40
   },
   "kernels_config": {
    "python": {
     "delete_cmd_postfix": "",
     "delete_cmd_prefix": "del ",
     "library": "var_list.py",
     "varRefreshCmd": "print(var_dic_list())"
    },
    "r": {
     "delete_cmd_postfix": ") ",
     "delete_cmd_prefix": "rm(",
     "library": "var_list.r",
     "varRefreshCmd": "cat(var_dic_list()) "
    }
   },
   "position": {
    "height": "471px",
    "left": "1019px",
    "right": "20px",
    "top": "120px",
    "width": "486.4px"
   },
   "types_to_exclude": [
    "module",
    "function",
    "builtin_function_or_method",
    "instance",
    "_Feature"
   ],
   "window_display": false
  }
 },
 "nbformat": 4,
 "nbformat_minor": 2
}
