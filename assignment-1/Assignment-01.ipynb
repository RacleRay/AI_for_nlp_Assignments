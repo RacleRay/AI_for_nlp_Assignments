{
 "cells": [
  {
   "cell_type": "markdown",
   "metadata": {},
   "source": [
    "## Lesson-01 Assignment"
   ]
  },
  {
   "cell_type": "markdown",
   "metadata": {},
   "source": [
    ">"
   ]
  },
  {
   "cell_type": "markdown",
   "metadata": {
    "heading_collapsed": true
   },
   "source": [
    "##  复现代码"
   ]
  },
  {
   "cell_type": "code",
   "execution_count": 67,
   "metadata": {
    "ExecuteTime": {
     "end_time": "2019-06-30T14:07:11.721388Z",
     "start_time": "2019-06-30T14:07:11.714381Z"
    },
    "hidden": true,
    "run_control": {
     "marked": true
    }
   },
   "outputs": [
    {
     "name": "stdout",
     "output_type": "stream",
     "text": [
      "{'sentence': [['noun_phrase', 'verb_phrase']], 'noun_phrase': [['Article', 'Adj*', 'noun']], 'Adj*': [['null'], ['Adj', 'Adj*']], 'verb_phrase': [['verb', 'noun_phrase']], 'Article': [['一个'], ['这个']], 'noun': [['女人'], ['篮球'], ['桌子'], ['小猫']], 'verb': [['看着'], ['听着'], ['看见']], 'Adj': [['蓝色的'], ['好看的'], ['小小的'], ['年轻的']]}\n"
     ]
    }
   ],
   "source": [
    "import random\n",
    "\n",
    "simple = \"\"\"\n",
    "sentence => noun_phrase verb_phrase\n",
    "noun_phrase => Article Adj* noun\n",
    "Adj* => null | Adj Adj*\n",
    "verb_phrase => verb noun_phrase\n",
    "Article => 一个 | 这个\n",
    "noun => 女人 | 篮球 | 桌子 | 小猫\n",
    "verb => 看着 | 听着 | 看见\n",
    "Adj => 蓝色的 | 好看的 | 小小的 | 年轻的\n",
    "\"\"\"\n",
    "\n",
    "def create_grammar(grammar_str, split='=>', line_split='\\n'):\n",
    "    grammar = {}\n",
    "    for line in grammar_str.split(line_split):\n",
    "        if not line.strip(): continue  # None > continue\n",
    "        exp, stmt = line.split(split)\n",
    "        grammar[exp.strip()] = [s.split() for s in stmt.split('|')]\n",
    "    return grammar\n",
    "\n",
    "print(create_grammar(simple))\n",
    "\n",
    "example = create_grammar(simple)"
   ]
  },
  {
   "cell_type": "code",
   "execution_count": 68,
   "metadata": {
    "ExecuteTime": {
     "end_time": "2019-06-30T14:07:21.269016Z",
     "start_time": "2019-06-30T14:07:21.259042Z"
    },
    "code_folding": [],
    "hidden": true,
    "run_control": {
     "marked": false
    }
   },
   "outputs": [],
   "source": [
    "def generate(gram, target):\n",
    "    if target not in gram: return target  # terminal expression 终止条件\n",
    "    expanded = [generate(gram, t) for t in random.choice(gram[target])]\n",
    "    return ''.join([e for e in expanded if e != 'null'])"
   ]
  },
  {
   "cell_type": "code",
   "execution_count": 8,
   "metadata": {
    "ExecuteTime": {
     "end_time": "2019-06-30T09:41:24.989666Z",
     "start_time": "2019-06-30T09:41:24.986667Z"
    },
    "hidden": true
   },
   "outputs": [
    {
     "name": "stdout",
     "output_type": "stream",
     "text": [
      "一个小猫看见这个桌子\n"
     ]
    }
   ],
   "source": [
    "print(generate(example, 'sentence'))"
   ]
  },
  {
   "cell_type": "code",
   "execution_count": 9,
   "metadata": {
    "ExecuteTime": {
     "end_time": "2019-06-30T09:42:15.696100Z",
     "start_time": "2019-06-30T09:42:15.355906Z"
    },
    "hidden": true
   },
   "outputs": [],
   "source": [
    "import re\n",
    "import pandas as pd"
   ]
  },
  {
   "cell_type": "code",
   "execution_count": 10,
   "metadata": {
    "ExecuteTime": {
     "end_time": "2019-06-30T09:42:16.087866Z",
     "start_time": "2019-06-30T09:42:16.082878Z"
    },
    "hidden": true
   },
   "outputs": [],
   "source": [
    "def preprocessing(csv_name):\n",
    "    content = pd.read_csv(csv_name, encoding='gb18030')\n",
    "    articles = content['content'].tolist()\n",
    "    def token(string):\n",
    "        return re.findall('\\w+', string) \n",
    "    articles_clean = [''.join(token(str(a)))for a in articles]\n",
    "    \n",
    "    with open('article_9k.txt', 'w') as f:\n",
    "        for a in articles_clean:\n",
    "            f.write(a + '\\n')\n",
    "    \n",
    "    print('Total articles:', len(articles))"
   ]
  },
  {
   "cell_type": "code",
   "execution_count": 11,
   "metadata": {
    "ExecuteTime": {
     "end_time": "2019-06-30T09:42:19.676064Z",
     "start_time": "2019-06-30T09:42:19.260490Z"
    },
    "hidden": true
   },
   "outputs": [],
   "source": [
    "import jieba"
   ]
  },
  {
   "cell_type": "code",
   "execution_count": 12,
   "metadata": {
    "ExecuteTime": {
     "end_time": "2019-06-30T09:45:01.628285Z",
     "start_time": "2019-06-30T09:42:21.061225Z"
    },
    "hidden": true,
    "run_control": {
     "marked": true
    },
    "scrolled": true
   },
   "outputs": [
    {
     "name": "stderr",
     "output_type": "stream",
     "text": [
      "Building prefix dict from the default dictionary ...\n",
      "Loading model from cache C:\\Users\\qw\\AppData\\Local\\Temp\\jieba.cache\n"
     ]
    },
    {
     "name": "stdout",
     "output_type": "stream",
     "text": [
      "0\n"
     ]
    },
    {
     "name": "stderr",
     "output_type": "stream",
     "text": [
      "Loading model cost 0.783 seconds.\n",
      "Prefix dict has been built succesfully.\n"
     ]
    },
    {
     "name": "stdout",
     "output_type": "stream",
     "text": [
      "1000\n",
      "2000\n",
      "3000\n",
      "4000\n",
      "5000\n",
      "6000\n",
      "7000\n",
      "8000\n",
      "9000\n",
      "10000\n",
      "11000\n",
      "12000\n",
      "13000\n",
      "14000\n",
      "15000\n",
      "16000\n",
      "17000\n",
      "18000\n",
      "19000\n",
      "20000\n",
      "21000\n",
      "22000\n",
      "23000\n",
      "24000\n",
      "25000\n",
      "26000\n",
      "27000\n",
      "28000\n",
      "29000\n",
      "30000\n",
      "31000\n",
      "32000\n",
      "33000\n",
      "34000\n",
      "35000\n",
      "36000\n",
      "37000\n",
      "38000\n",
      "39000\n",
      "40000\n",
      "41000\n",
      "42000\n",
      "43000\n",
      "44000\n",
      "45000\n",
      "46000\n",
      "47000\n",
      "48000\n",
      "49000\n",
      "50000\n",
      "51000\n",
      "52000\n",
      "53000\n",
      "54000\n",
      "55000\n",
      "56000\n",
      "57000\n",
      "58000\n",
      "59000\n",
      "60000\n",
      "61000\n",
      "62000\n",
      "63000\n",
      "64000\n",
      "65000\n",
      "66000\n",
      "67000\n",
      "68000\n",
      "69000\n",
      "70000\n",
      "71000\n",
      "72000\n",
      "73000\n",
      "74000\n",
      "75000\n",
      "76000\n",
      "77000\n",
      "78000\n",
      "79000\n",
      "80000\n",
      "81000\n",
      "82000\n",
      "83000\n",
      "84000\n",
      "85000\n",
      "86000\n",
      "87000\n",
      "88000\n",
      "89000\n"
     ]
    }
   ],
   "source": [
    "def cut(string): return list(jieba.cut(string))\n",
    "\n",
    "TOKEN = []\n",
    "for i, line in enumerate((open('article_9k.txt', encoding='utf-8'))):\n",
    "    if i % 1000 == 0: print(i)\n",
    "    # if i > 85000: break    \n",
    "    TOKEN += cut(line)"
   ]
  },
  {
   "cell_type": "code",
   "execution_count": 13,
   "metadata": {
    "ExecuteTime": {
     "end_time": "2019-06-30T09:45:06.108217Z",
     "start_time": "2019-06-30T09:45:05.916715Z"
    },
    "hidden": true
   },
   "outputs": [],
   "source": [
    "from functools import reduce\n",
    "from operator import add, mul\n",
    "from collections import Counter\n",
    "import matplotlib.pyplot as plt\n",
    "\n",
    "%matplotlib inline"
   ]
  },
  {
   "cell_type": "code",
   "execution_count": 14,
   "metadata": {
    "ExecuteTime": {
     "end_time": "2019-06-30T09:45:13.316711Z",
     "start_time": "2019-06-30T09:45:10.162795Z"
    },
    "hidden": true,
    "run_control": {
     "marked": true
    },
    "scrolled": true
   },
   "outputs": [
    {
     "data": {
      "text/plain": [
       "[('的', 703716),\n",
       " ('n', 382020),\n",
       " ('在', 263597),\n",
       " ('月', 189330),\n",
       " ('日', 166300),\n",
       " ('新华社', 142462),\n",
       " ('和', 134061),\n",
       " ('年', 123106),\n",
       " ('了', 121938),\n",
       " ('是', 100909),\n",
       " ('\\n', 89611),\n",
       " ('１', 88187),\n",
       " ('０', 84945),\n",
       " ('外代', 83268),\n",
       " ('中', 73926),\n",
       " ('中国', 71179),\n",
       " ('２', 70521),\n",
       " ('2017', 69894),\n",
       " ('记者', 62147),\n",
       " ('二线', 61998),\n",
       " ('将', 61420),\n",
       " ('与', 58309),\n",
       " ('等', 58162),\n",
       " ('为', 57019),\n",
       " ('5', 54578),\n",
       " ('照片', 52271),\n",
       " ('4', 51626),\n",
       " ('对', 50317),\n",
       " ('上', 47452),\n",
       " ('也', 47401),\n",
       " ('有', 45767),\n",
       " ('５', 40857),\n",
       " ('说', 39017),\n",
       " ('发展', 37632),\n",
       " ('他', 37194),\n",
       " ('３', 36906),\n",
       " ('以', 36867),\n",
       " ('国际', 35842),\n",
       " ('nn', 35330),\n",
       " ('４', 34659),\n",
       " ('比赛', 32232),\n",
       " ('６', 30575),\n",
       " ('到', 30109),\n",
       " ('人', 29572),\n",
       " ('从', 29489),\n",
       " ('6', 29002),\n",
       " ('都', 28027),\n",
       " ('不', 27963),\n",
       " ('后', 27393),\n",
       " ('当日', 27186),\n",
       " ('就', 26684),\n",
       " ('并', 26568),\n",
       " ('国家', 26439),\n",
       " ('７', 26386),\n",
       " ('企业', 26147),\n",
       " ('进行', 25987),\n",
       " ('3', 25491),\n",
       " ('美国', 25485),\n",
       " ('举行', 25389),\n",
       " ('被', 25277),\n",
       " ('北京', 25245),\n",
       " ('体育', 24873),\n",
       " ('2', 24376),\n",
       " ('1', 24182),\n",
       " ('这', 24118),\n",
       " ('新', 23828),\n",
       " ('但', 23385),\n",
       " ('比', 23229),\n",
       " ('个', 23081),\n",
       " ('足球', 22554),\n",
       " ('表示', 22134),\n",
       " ('经济', 22006),\n",
       " ('我', 21940),\n",
       " ('一个', 21932),\n",
       " ('９', 21920),\n",
       " ('还', 21861),\n",
       " ('合作', 21567),\n",
       " ('要', 21045),\n",
       " ('n5', 20946),\n",
       " ('已', 20882),\n",
       " ('摄', 20837),\n",
       " ('８', 20701),\n",
       " ('工作', 20700),\n",
       " ('n4', 20658),\n",
       " ('选手', 19986),\n",
       " ('我们', 19982),\n",
       " ('市场', 19001),\n",
       " ('一路', 18978),\n",
       " ('一带', 18907),\n",
       " ('建设', 18634),\n",
       " ('让', 18609),\n",
       " ('日电', 18384),\n",
       " ('通过', 18159),\n",
       " ('多', 17760),\n",
       " ('时', 17750),\n",
       " ('完', 17424),\n",
       " ('于', 17421),\n",
       " ('问题', 17338),\n",
       " ('更', 17275),\n",
       " ('项目', 17260)]"
      ]
     },
     "execution_count": 14,
     "metadata": {},
     "output_type": "execute_result"
    }
   ],
   "source": [
    "words_count = Counter(TOKEN)\n",
    "words_count.most_common(100)"
   ]
  },
  {
   "cell_type": "code",
   "execution_count": 15,
   "metadata": {
    "ExecuteTime": {
     "end_time": "2019-06-30T09:45:18.098403Z",
     "start_time": "2019-06-30T09:45:18.094413Z"
    },
    "hidden": true
   },
   "outputs": [],
   "source": [
    "def plot(num, trans_func=None):\n",
    "    x = [i for i in range(num)]\n",
    "    frequiences = [f for w, f in words_count.most_common(num)]\n",
    "    y = frequiences if trans_func == None else trans_func(frequiences)\n",
    "    plt.plot(x, y)"
   ]
  },
  {
   "cell_type": "code",
   "execution_count": 16,
   "metadata": {
    "ExecuteTime": {
     "end_time": "2019-06-30T09:45:23.038001Z",
     "start_time": "2019-06-30T09:45:22.859094Z"
    },
    "hidden": true
   },
   "outputs": [
    {
     "data": {
      "image/png": "[encoded data removed]",
      "text/plain": [
       "<Figure size 432x288 with 1 Axes>"
      ]
     },
     "metadata": {},
     "output_type": "display_data"
    }
   ],
   "source": [
    "plot(200)"
   ]
  },
  {
   "cell_type": "code",
   "execution_count": 17,
   "metadata": {
    "ExecuteTime": {
     "end_time": "2019-06-30T09:45:28.051491Z",
     "start_time": "2019-06-30T09:45:28.046504Z"
    },
    "hidden": true
   },
   "outputs": [],
   "source": [
    "import numpy as np"
   ]
  },
  {
   "cell_type": "code",
   "execution_count": 18,
   "metadata": {
    "ExecuteTime": {
     "end_time": "2019-06-30T09:45:33.078515Z",
     "start_time": "2019-06-30T09:45:32.919934Z"
    },
    "hidden": true
   },
   "outputs": [
    {
     "data": {
      "image/png": "[encoded data removed]",
      "text/plain": [
       "<Figure size 432x288 with 1 Axes>"
      ]
     },
     "metadata": {},
     "output_type": "display_data"
    }
   ],
   "source": [
    "plot(200, np.log)"
   ]
  },
  {
   "cell_type": "code",
   "execution_count": 19,
   "metadata": {
    "ExecuteTime": {
     "end_time": "2019-06-30T09:45:37.505050Z",
     "start_time": "2019-06-30T09:45:37.499059Z"
    },
    "hidden": true
   },
   "outputs": [
    {
     "data": {
      "text/plain": [
       "1.4189828345078916e-06"
      ]
     },
     "execution_count": 19,
     "metadata": {},
     "output_type": "execute_result"
    }
   ],
   "source": [
    "# probability\n",
    "def prob(word):\n",
    "    return words_count[word] / len(TOKEN)\n",
    "\n",
    "prob('无知')"
   ]
  },
  {
   "cell_type": "code",
   "execution_count": 20,
   "metadata": {
    "ExecuteTime": {
     "end_time": "2019-06-30T09:45:54.145798Z",
     "start_time": "2019-06-30T09:45:41.964972Z"
    },
    "hidden": true
   },
   "outputs": [],
   "source": [
    "# 2-gram\n",
    "TOKEN_2_GRAM = [''.join(TOKEN[i:i+2]) for i in range(len(TOKEN[:-2]))]\n",
    "\n",
    "words_count_2 = Counter(TOKEN_2_GRAM)\n",
    "\n",
    "def prob_2_gram(word1, word2):\n",
    "    if word1 + word2 in words_count_2: \n",
    "        return words_count_2[word1 + word2] / len(TOKEN_2_GRAM)\n",
    "    else:\n",
    "        return 1 / len(TOKEN_2_GRAM)"
   ]
  },
  {
   "cell_type": "code",
   "execution_count": 21,
   "metadata": {
    "ExecuteTime": {
     "end_time": "2019-06-30T09:46:12.583665Z",
     "start_time": "2019-06-30T09:46:12.571696Z"
    },
    "hidden": true
   },
   "outputs": [
    {
     "data": {
      "text/plain": [
       "7.946304775297799e-07"
      ]
     },
     "execution_count": 21,
     "metadata": {},
     "output_type": "execute_result"
    }
   ],
   "source": [
    "prob_2_gram('去', '吃饭')"
   ]
  },
  {
   "cell_type": "code",
   "execution_count": 22,
   "metadata": {
    "ExecuteTime": {
     "end_time": "2019-06-30T09:46:30.712279Z",
     "start_time": "2019-06-30T09:46:30.702306Z"
    },
    "hidden": true
   },
   "outputs": [],
   "source": [
    "def get_probablity(sentence):\n",
    "    \"\"\"2 gram sentence prob\"\"\"\n",
    "    words = cut(sentence)\n",
    "    sentence_pro = 1\n",
    "    for i, word in enumerate(words[:-1]):\n",
    "        next_ = words[i+1]\n",
    "        probability = prob_2_gram(word, next_)\n",
    "        sentence_pro *= probability\n",
    "    return sentence_pro"
   ]
  },
  {
   "cell_type": "code",
   "execution_count": 23,
   "metadata": {
    "ExecuteTime": {
     "end_time": "2019-06-30T09:46:48.536026Z",
     "start_time": "2019-06-30T09:46:48.519072Z"
    },
    "hidden": true
   },
   "outputs": [
    {
     "name": "stdout",
     "output_type": "stream",
     "text": [
      "sentence: 一个女人看着一个女人 with Prb: 8.406858712653339e-28\n",
      "sentence: 这个好看的蓝色的蓝色的年轻的篮球看着一个好看的好看的小小的小猫 with Prb: 2.2539549407909485e-105\n",
      "sentence: 一个女人看见这个好看的年轻的好看的蓝色的小猫 with Prb: 4.928987359010095e-73\n",
      "sentence: 一个年轻的小小的小猫听着这个年轻的桌子 with Prb: 2.6492771248229757e-61\n",
      "sentence: 一个年轻的小小的女人看着一个年轻的小小的蓝色的女人 with Prb: 1.8005540088294004e-76\n",
      "sentence: 一个篮球听着这个蓝色的桌子 with Prb: 1.9101789563138843e-45\n",
      "sentence: 这个篮球听着一个年轻的篮球 with Prb: 3.3277936100684336e-42\n",
      "sentence: 这个小小的桌子听着这个女人 with Prb: 1.2115445118276601e-39\n",
      "sentence: 一个好看的小小的篮球看见这个小小的年轻的年轻的桌子 with Prb: 6.988436938411302e-76\n",
      "sentence: 一个女人看见这个年轻的小小的桌子 with Prb: 4.519523265341167e-46\n"
     ]
    }
   ],
   "source": [
    "# 判断第一部分生成句子的概率\n",
    "for sen in [generate(gram=example, target='sentence') for i in range(10)]:\n",
    "    print('sentence: {} with Prb: {}'.format(sen, get_probablity(sen)))"
   ]
  },
  {
   "cell_type": "code",
   "execution_count": 24,
   "metadata": {
    "ExecuteTime": {
     "end_time": "2019-06-30T09:47:06.960509Z",
     "start_time": "2019-06-30T09:47:06.945549Z"
    },
    "hidden": true
   },
   "outputs": [
    {
     "name": "stdout",
     "output_type": "stream",
     "text": [
      "今天晚上请你吃大餐，我们一起吃日料 is more possible\n",
      "---- 今天晚上请你吃大餐，我们一起吃日料 with probility 1.8889745916921315e-66\n",
      "---- 明天晚上请你吃大餐，我们一起吃苹果 with probility 1.5111796733537052e-66\n",
      "真是一只好看的小猫 is more possible\n",
      "---- 真事一只好看的小猫 with probility 4.5242555959271015e-34\n",
      "---- 真是一只好看的小猫 with probility 7.970947520145384e-27\n",
      "今晚我去吃火锅 is more possible\n",
      "---- 今晚我去吃火锅 with probility 3.401139863085618e-20\n",
      "---- 今晚火锅去吃我 with probility 5.396995716765105e-28\n",
      "养乐多绿来一杯 is more possible\n",
      "---- 洋葱奶昔来一杯 with probility 1.8285698188632354e-22\n",
      "---- 养乐多绿来一杯 with probility 3.2216203868326836e-15\n"
     ]
    }
   ],
   "source": [
    "need_compared = [\n",
    "    \"今天晚上请你吃大餐，我们一起吃日料 明天晚上请你吃大餐，我们一起吃苹果\",\n",
    "    \"真事一只好看的小猫 真是一只好看的小猫\",\n",
    "    \"今晚我去吃火锅 今晚火锅去吃我\",\n",
    "    \"洋葱奶昔来一杯 养乐多绿来一杯\"\n",
    "]\n",
    "\n",
    "for s in need_compared:\n",
    "    s1, s2 = s.split()\n",
    "    p1, p2 = get_probablity(s1), get_probablity(s2)\n",
    "    \n",
    "    better = s1 if p1 > p2 else s2\n",
    "    \n",
    "    print('{} is more possible'.format(better))\n",
    "    print('-'*4 + ' {} with probility {}'.format(s1, p1))\n",
    "    print('-'*4 + ' {} with probility {}'.format(s2, p2))"
   ]
  },
  {
   "cell_type": "markdown",
   "metadata": {
    "hidden": true
   },
   "source": [
    ">"
   ]
  },
  {
   "cell_type": "markdown",
   "metadata": {},
   "source": [
    "## 基础理论部分"
   ]
  },
  {
   "cell_type": "markdown",
   "metadata": {},
   "source": [
    "#### 0. Can you come up out 3 sceneraies which use AI methods? "
   ]
  },
  {
   "cell_type": "markdown",
   "metadata": {},
   "source": [
    "Ans: chatbot, text information extraction, machine translation"
   ]
  },
  {
   "cell_type": "markdown",
   "metadata": {},
   "source": [
    "#### 1. How do we use Github; Why do we use Jupyter and Pycharm;"
   ]
  },
  {
   "cell_type": "markdown",
   "metadata": {},
   "source": [
    "Ans: By git command lines; Jupyter is for checking code output immediately, displaying results and making notes; while Pycharm is for big project developing."
   ]
  },
  {
   "cell_type": "markdown",
   "metadata": {},
   "source": [
    "#### 2. What's the Probability Model?"
   ]
  },
  {
   "cell_type": "markdown",
   "metadata": {},
   "source": [
    "Ans: A probability model is a mathematical representation of a random phenomenon. It is defined by its sample space, events within the sample space, and probabilities associated with each event."
   ]
  },
  {
   "cell_type": "markdown",
   "metadata": {},
   "source": [
    "#### 3. Can you came up with some sceneraies at which we could use Probability Model?"
   ]
  },
  {
   "cell_type": "markdown",
   "metadata": {},
   "source": [
    "Ans: Weather forecasting, language model, machine translation"
   ]
  },
  {
   "cell_type": "markdown",
   "metadata": {},
   "source": [
    "#### 4. Why do we use probability and what's the difficult points for programming based on parsing and pattern match?"
   ]
  },
  {
   "cell_type": "markdown",
   "metadata": {},
   "source": [
    "Ans: Probability tells us the information behind data, gives us predictions about what will happen in the future. \n",
    "    \n",
    "    The difficulties are that we can`t make sure the rationality of results, and which one is better. "
   ]
  },
  {
   "cell_type": "markdown",
   "metadata": {},
   "source": [
    "#### 5. What's the Language Model;"
   ]
  },
  {
   "cell_type": "markdown",
   "metadata": {},
   "source": [
    "Ans: A Language model is a probability distribution over sequences of words. "
   ]
  },
  {
   "cell_type": "markdown",
   "metadata": {},
   "source": [
    "#### 6. Can you came up with some sceneraies at which we could use Language Model?\n"
   ]
  },
  {
   "cell_type": "markdown",
   "metadata": {},
   "source": [
    "Ans: Typo detection, machine translation, speech recognition."
   ]
  },
  {
   "cell_type": "markdown",
   "metadata": {},
   "source": [
    "#### 7. What's the 1-gram language model;"
   ]
  },
  {
   "cell_type": "markdown",
   "metadata": {},
   "source": [
    "Ans: Only count a single word`s frequency when computing sentence probability."
   ]
  },
  {
   "cell_type": "markdown",
   "metadata": {},
   "source": [
    "#### 8. What's the disadvantages and advantages of 1-gram language model;"
   ]
  },
  {
   "cell_type": "markdown",
   "metadata": {},
   "source": [
    "Ans: disadvantages: ignore the word dependence, P(I I I) maybe >> P(I am Harry).\n",
    "    \n",
    "    advantages: it`s stable and fast."
   ]
  },
  {
   "cell_type": "markdown",
   "metadata": {},
   "source": [
    "#### 9. What't the 2-gram models;"
   ]
  },
  {
   "cell_type": "markdown",
   "metadata": {},
   "source": [
    "Ans: count two neighbor words` frequency when computing sentence probability."
   ]
  },
  {
   "cell_type": "markdown",
   "metadata": {},
   "source": [
    "## 编程实践部分"
   ]
  },
  {
   "cell_type": "markdown",
   "metadata": {},
   "source": [
    "#### 1. 设计你自己的句子生成器"
   ]
  },
  {
   "cell_type": "markdown",
   "metadata": {},
   "source": [
    "如何生成句子是一个很经典的问题，从1940s开始，图灵提出机器智能的时候，就使用的是人类能不能流畅和计算机进行对话。和计算机对话的一个前提是，计算机能够生成语言。\n",
    "\n",
    "计算机如何能生成语言是一个经典但是又很复杂的问题。 我们课程上为大家介绍的是一种基于规则（Rule Based）的生成方法。该方法虽然提出的时间早，但是现在依然在很多地方能够大显身手。值得说明的是，现在很多很实用的算法，都是很久之前提出的，例如，二分查找提出与1940s, Dijstra算法提出于1960s 等等。"
   ]
  },
  {
   "cell_type": "markdown",
   "metadata": {},
   "source": [
    "在著名的电视剧，电影《西部世界》中，这些机器人们语言生成的方法就是使用的SyntaxTree生成语言的方法。\n",
    "\n",
    "> \n",
    ">\n",
    "\n",
    "![WstWorld](https://timgsa.baidu.com/timg?image&quality=80&size=b10000_10000&sec=1561818705&di=95ca9ff2ff37fcb88ae47b82c7079feb&src=http://s7.sinaimg.cn/mw690/006BKUGwzy75VK46FMi66&690)\n",
    "\n",
    "> \n",
    ">"
   ]
  },
  {
   "cell_type": "markdown",
   "metadata": {},
   "source": [
    "在这一部分，需要各位同学首先定义自己的语言。 大家可以先想一个应用场景，然后在这个场景下，定义语法。例如：\n",
    "\n",
    "在西部世界里，一个”人类“的语言可以定义为：\n",
    "``` \n",
    "human = \"\"\"\n",
    "human = 自己 寻找 活动\n",
    "自己 = 我 | 俺 | 我们 \n",
    "寻找 = 看看 | 找找 | 想找点\n",
    "活动 = 乐子 | 玩的\n",
    "\"\"\"\n",
    "```\n",
    "\n",
    "一个“接待员”的语言可以定义为\n",
    "```\n",
    "host = \"\"\"\n",
    "host = 寒暄 报数 询问 业务相关 结尾 \n",
    "报数 = 我是 数字 号 ,\n",
    "数字 = 单个数字 | 数字 单个数字 \n",
    "单个数字 = 1 | 2 | 3 | 4 | 5 | 6 | 7 | 8 | 9 \n",
    "寒暄 = 称谓 打招呼 | 打招呼\n",
    "称谓 = 人称 ,\n",
    "人称 = 先生 | 女士 | 小朋友\n",
    "打招呼 = 你好 | 您好 \n",
    "询问 = 请问你要 | 您需要\n",
    "业务相关 = 玩玩 具体业务\n",
    "玩玩 = 耍一耍 | 玩一玩\n",
    "具体业务 = 喝酒 | 打牌 | 打猎 | 赌博\n",
    "结尾 = 吗？\"\"\"\n",
    "\n",
    "```\n",
    "\n",
    "\n"
   ]
  },
  {
   "cell_type": "markdown",
   "metadata": {},
   "source": [
    "请定义你自己的语法: "
   ]
  },
  {
   "cell_type": "markdown",
   "metadata": {},
   "source": [
    "第一个语法："
   ]
  },
  {
   "cell_type": "code",
   "execution_count": 25,
   "metadata": {
    "ExecuteTime": {
     "end_time": "2019-06-30T09:47:24.683481Z",
     "start_time": "2019-06-30T09:47:24.679492Z"
    },
    "run_control": {
     "marked": false
    }
   },
   "outputs": [],
   "source": [
    "swordsman = '''\n",
    "swordsman = 声明 自报家门 缘由 行为\n",
    "声明 = 上圣 敬语 ，\n",
    "上圣 = 荆尊 | 剑圣 | 吾王\n",
    "敬语 = 在上 | 圣听\n",
    "自报家门 = 主语 师承 身份等级\n",
    "主语 = 吾 | 缁衣剑客\n",
    "师承 = 绝息剑 | 逍遥剑\n",
    "身份等级 = 第 代数 传人\n",
    "代数 = 66 | 77 | 99\n",
    "缘由 = 替天行道 | 劫富济贫 | 路见不平\n",
    "行为 = 诛杀 恶贼\n",
    "恶贼 = 小明 | 小凯 | 小芳\n",
    "'''"
   ]
  },
  {
   "cell_type": "markdown",
   "metadata": {},
   "source": [
    "第二个语法："
   ]
  },
  {
   "cell_type": "code",
   "execution_count": 31,
   "metadata": {
    "ExecuteTime": {
     "end_time": "2019-06-30T09:50:29.754544Z",
     "start_time": "2019-06-30T09:50:29.751524Z"
    }
   },
   "outputs": [],
   "source": [
    "houseman = '''\n",
    "houseman = 称谓 打招呼 询问 业务 结尾\n",
    "形容 = 尊贵的 | 高贵的\n",
    "称谓 = 形容 人称 ,\n",
    "人称 = 先生 | 女士 | 小朋友\n",
    "打招呼 = 你好! | 您好! \n",
    "询问 = 请问你要 | 您需要\n",
    "业务 = 汗血宝马 | 赤兔马 | 白龙马\n",
    "结尾 = 吗？ | 不？\n",
    "'''"
   ]
  },
  {
   "cell_type": "markdown",
   "metadata": {},
   "source": [
    "TODO: 然后，使用自己之前定义的generate函数，使用此函数生成句子。"
   ]
  },
  {
   "cell_type": "code",
   "execution_count": 28,
   "metadata": {
    "ExecuteTime": {
     "end_time": "2019-06-30T09:48:53.682011Z",
     "start_time": "2019-06-30T09:48:53.677051Z"
    }
   },
   "outputs": [
    {
     "data": {
      "text/plain": [
       "'剑圣在上，吾逍遥剑第99传人替天行道诛杀小明'"
      ]
     },
     "execution_count": 28,
     "metadata": {},
     "output_type": "execute_result"
    }
   ],
   "source": [
    "generate(create_grammar(swordsman, split='='), 'swordsman')"
   ]
  },
  {
   "cell_type": "code",
   "execution_count": 32,
   "metadata": {
    "ExecuteTime": {
     "end_time": "2019-06-30T09:50:47.479673Z",
     "start_time": "2019-06-30T09:50:47.469700Z"
    },
    "scrolled": false
   },
   "outputs": [
    {
     "data": {
      "text/plain": [
       "'尊贵的先生,您好!您需要汗血宝马不？'"
      ]
     },
     "execution_count": 32,
     "metadata": {},
     "output_type": "execute_result"
    }
   ],
   "source": [
    "generate(create_grammar(houseman, split='='), 'houseman')"
   ]
  },
  {
   "cell_type": "markdown",
   "metadata": {},
   "source": [
    "TODO: 然后，定义一个函数，generate_n，将generate扩展，使其能够生成n个句子:"
   ]
  },
  {
   "cell_type": "code",
   "execution_count": 36,
   "metadata": {
    "ExecuteTime": {
     "end_time": "2019-06-30T09:57:30.626955Z",
     "start_time": "2019-06-30T09:57:30.614987Z"
    },
    "run_control": {
     "marked": true
    }
   },
   "outputs": [],
   "source": [
    "def generate_n(gram, target, n):\n",
    "    sens = []\n",
    "    for i in range(n):\n",
    "        sen = generate(create_grammar(gram, split='='), target=target)\n",
    "        sens.append(sen)\n",
    "        # print(generate(create_grammar(gram, split='='), target=target))\n",
    "    return sens"
   ]
  },
  {
   "cell_type": "code",
   "execution_count": 37,
   "metadata": {
    "ExecuteTime": {
     "end_time": "2019-06-30T09:57:48.553184Z",
     "start_time": "2019-06-30T09:57:48.546203Z"
    }
   },
   "outputs": [
    {
     "data": {
      "text/plain": [
       "['吾王圣听，吾逍遥剑第99传人路见不平诛杀小明',\n",
       " '剑圣圣听，吾逍遥剑第77传人替天行道诛杀小明',\n",
       " '剑圣在上，缁衣剑客逍遥剑第99传人劫富济贫诛杀小明',\n",
       " '荆尊在上，缁衣剑客逍遥剑第66传人替天行道诛杀小明',\n",
       " '剑圣圣听，吾绝息剑第66传人劫富济贫诛杀小凯']"
      ]
     },
     "execution_count": 37,
     "metadata": {},
     "output_type": "execute_result"
    }
   ],
   "source": [
    "generate_n(swordsman, 'swordsman', 5)"
   ]
  },
  {
   "cell_type": "markdown",
   "metadata": {},
   "source": [
    ">"
   ]
  },
  {
   "cell_type": "markdown",
   "metadata": {},
   "source": [
    "#### 2. 使用新数据源完成语言模型的训练"
   ]
  },
  {
   "cell_type": "markdown",
   "metadata": {},
   "source": [
    "按照我们上文中定义的`prob_2`函数，我们更换一个文本数据源，获得新的Language Model:\n",
    "\n",
    "1. 下载文本数据集（你可以在以下数据集中任选一个，也可以两个都使用）\n",
    "    + 可选数据集1，保险行业问询对话集： https://github.com/Computing-Intelligence/insuranceqa-corpus-zh/raw/release/corpus/pool/train.txt.gz\n",
    "    + 可选数据集2：豆瓣评论数据集：https://github.com/Computing-Intelligence/datasource/raw/master/movie_comments.csv\n",
    "2. 修改代码，获得新的**2-gram**语言模型\n",
    "    + 进行文本清洗，获得所有的纯文本\n",
    "    + 将这些文本进行切词\n",
    "    + 送入之前定义的语言模型中，判断文本的合理程度"
   ]
  },
  {
   "cell_type": "code",
   "execution_count": 3,
   "metadata": {
    "ExecuteTime": {
     "end_time": "2019-06-30T10:12:44.489935Z",
     "start_time": "2019-06-30T10:12:44.238459Z"
    }
   },
   "outputs": [],
   "source": [
    "import requests"
   ]
  },
  {
   "cell_type": "code",
   "execution_count": 43,
   "metadata": {
    "ExecuteTime": {
     "end_time": "2019-06-30T10:10:26.112046Z",
     "start_time": "2019-06-30T10:10:11.986453Z"
    }
   },
   "outputs": [],
   "source": [
    "request_1 = requests.get(\"https://github.com/Computing-Intelligence/insuranceqa-corpus-zh/raw/release/corpus/pool/train.txt.gz\")\n",
    "with open('Insurance_train.txt.gz', 'wb') as f:\n",
    "    f.write(request_1.content)"
   ]
  },
  {
   "cell_type": "code",
   "execution_count": 12,
   "metadata": {
    "ExecuteTime": {
     "end_time": "2019-06-30T10:31:31.301055Z",
     "start_time": "2019-06-30T10:31:31.284100Z"
    }
   },
   "outputs": [],
   "source": [
    "import gzip, os, shutil\n",
    "with gzip.GzipFile('Insurance_train.txt.gz') as zipf:\n",
    "    open('Insurance_train.txt', \"wb+\").write(zipf.read())     "
   ]
  },
  {
   "cell_type": "code",
   "execution_count": 4,
   "metadata": {
    "ExecuteTime": {
     "end_time": "2019-06-30T10:14:43.179190Z",
     "start_time": "2019-06-30T10:12:48.003140Z"
    }
   },
   "outputs": [],
   "source": [
    "# ! curl https://github.com/Computing-Intelligence/datasource/raw/master/movie_comments.csv\n",
    "request_2 = requests.get(\"https://github.com/Computing-Intelligence/datasource/raw/master/movie_comments.csv\")\n",
    "with open('movie_comments.csv', 'wb') as f:\n",
    "    f.write(request_2.content)"
   ]
  },
  {
   "cell_type": "code",
   "execution_count": 13,
   "metadata": {
    "ExecuteTime": {
     "end_time": "2019-06-30T10:41:34.389692Z",
     "start_time": "2019-06-30T10:41:34.073535Z"
    }
   },
   "outputs": [],
   "source": [
    "import pandas as pd"
   ]
  },
  {
   "cell_type": "code",
   "execution_count": 16,
   "metadata": {
    "ExecuteTime": {
     "end_time": "2019-06-30T10:45:28.006984Z",
     "start_time": "2019-06-30T10:45:27.140325Z"
    }
   },
   "outputs": [
    {
     "name": "stderr",
     "output_type": "stream",
     "text": [
      "D:\\ProgramData\\Anaconda3\\lib\\site-packages\\IPython\\core\\interactiveshell.py:2785: DtypeWarning: Columns (0,4) have mixed types. Specify dtype option on import or set low_memory=False.\n",
      "  interactivity=interactivity, compiler=compiler, result=result)\n"
     ]
    },
    {
     "data": {
      "text/html": [
       "<div>\n",
       "<style scoped>\n",
       "    .dataframe tbody tr th:only-of-type {\n",
       "        vertical-align: middle;\n",
       "    }\n",
       "\n",
       "    .dataframe tbody tr th {\n",
       "        vertical-align: top;\n",
       "    }\n",
       "\n",
       "    .dataframe thead th {\n",
       "        text-align: right;\n",
       "    }\n",
       "</style>\n",
       "<table border=\"1\" class=\"dataframe\">\n",
       "  <thead>\n",
       "    <tr style=\"text-align: right;\">\n",
       "      <th></th>\n",
       "      <th>id</th>\n",
       "      <th>link</th>\n",
       "      <th>name</th>\n",
       "      <th>comment</th>\n",
       "      <th>star</th>\n",
       "    </tr>\n",
       "  </thead>\n",
       "  <tbody>\n",
       "    <tr>\n",
       "      <th>130037</th>\n",
       "      <td>128690</td>\n",
       "      <td>https://movie.douban.com/subject/1292222/</td>\n",
       "      <td>出租车司机 Taxi Driver</td>\n",
       "      <td>朱帝福斯特当年多萝莉，电影出名的只是引起刺杀里根的事吧</td>\n",
       "      <td>3</td>\n",
       "    </tr>\n",
       "    <tr>\n",
       "      <th>257117</th>\n",
       "      <td>255770</td>\n",
       "      <td>https://movie.douban.com/subject/3715144/</td>\n",
       "      <td>烈日当空 烈日當空</td>\n",
       "      <td>喜欢到没有词形容</td>\n",
       "      <td>5</td>\n",
       "    </tr>\n",
       "    <tr>\n",
       "      <th>193770</th>\n",
       "      <td>192423</td>\n",
       "      <td>https://movie.douban.com/subject/1293764/</td>\n",
       "      <td>与狼共舞 Dances with Wolves</td>\n",
       "      <td>忘了什么时候看的了，剧情也记得个大概。</td>\n",
       "      <td>4</td>\n",
       "    </tr>\n",
       "    <tr>\n",
       "      <th>225478</th>\n",
       "      <td>224131</td>\n",
       "      <td>https://movie.douban.com/subject/25863024/</td>\n",
       "      <td>仙球大战</td>\n",
       "      <td>乡村非主流综艺网大级超级大喜（lan）剧（pian）</td>\n",
       "      <td>1</td>\n",
       "    </tr>\n",
       "    <tr>\n",
       "      <th>247790</th>\n",
       "      <td>246443</td>\n",
       "      <td>https://movie.douban.com/subject/1309226/</td>\n",
       "      <td>小花</td>\n",
       "      <td>陈冲和刘晓庆还带着萌萌的婴儿肥，纯真的美，唐国强帅的秒杀韩国欧巴。片子整体还是浓浓的主旋律。</td>\n",
       "      <td>3</td>\n",
       "    </tr>\n",
       "    <tr>\n",
       "      <th>186499</th>\n",
       "      <td>185152</td>\n",
       "      <td>https://movie.douban.com/subject/1306472/</td>\n",
       "      <td>晚餐游戏 Le dîner de cons</td>\n",
       "      <td>中间很棒，就是结尾实在太圣母啦！</td>\n",
       "      <td>3</td>\n",
       "    </tr>\n",
       "    <tr>\n",
       "      <th>131470</th>\n",
       "      <td>130123</td>\n",
       "      <td>https://movie.douban.com/subject/3178770/</td>\n",
       "      <td>马达加斯加3 Madagascar 3: Europe's Most Wanted</td>\n",
       "      <td>视觉效果相当棒</td>\n",
       "      <td>4</td>\n",
       "    </tr>\n",
       "    <tr>\n",
       "      <th>194995</th>\n",
       "      <td>193648</td>\n",
       "      <td>https://movie.douban.com/subject/1305724/</td>\n",
       "      <td>X战警2 X2</td>\n",
       "      <td>这么酷！！</td>\n",
       "      <td>5</td>\n",
       "    </tr>\n",
       "    <tr>\n",
       "      <th>131547</th>\n",
       "      <td>130200</td>\n",
       "      <td>https://movie.douban.com/subject/3178770/</td>\n",
       "      <td>马达加斯加3 Madagascar 3: Europe's Most Wanted</td>\n",
       "      <td>颜色很绚丽，3D效果还不错。配乐有些偷懒，都用的老歌。</td>\n",
       "      <td>4</td>\n",
       "    </tr>\n",
       "    <tr>\n",
       "      <th>217969</th>\n",
       "      <td>216622</td>\n",
       "      <td>https://movie.douban.com/subject/1921686/</td>\n",
       "      <td>街头霸王: 春丽传奇 Street Fighter: The Legend of Chun-Li</td>\n",
       "      <td>春丽真美丽</td>\n",
       "      <td>4</td>\n",
       "    </tr>\n",
       "  </tbody>\n",
       "</table>\n",
       "</div>"
      ],
      "text/plain": [
       "            id                                        link  \\\n",
       "130037  128690   https://movie.douban.com/subject/1292222/   \n",
       "257117  255770   https://movie.douban.com/subject/3715144/   \n",
       "193770  192423   https://movie.douban.com/subject/1293764/   \n",
       "225478  224131  https://movie.douban.com/subject/25863024/   \n",
       "247790  246443   https://movie.douban.com/subject/1309226/   \n",
       "186499  185152   https://movie.douban.com/subject/1306472/   \n",
       "131470  130123   https://movie.douban.com/subject/3178770/   \n",
       "194995  193648   https://movie.douban.com/subject/1305724/   \n",
       "131547  130200   https://movie.douban.com/subject/3178770/   \n",
       "217969  216622   https://movie.douban.com/subject/1921686/   \n",
       "\n",
       "                                                    name  \\\n",
       "130037                                 出租车司机 Taxi Driver   \n",
       "257117                                         烈日当空 烈日當空   \n",
       "193770                           与狼共舞 Dances with Wolves   \n",
       "225478                                              仙球大战   \n",
       "247790                                                小花   \n",
       "186499                             晚餐游戏 Le dîner de cons   \n",
       "131470         马达加斯加3 Madagascar 3: Europe's Most Wanted   \n",
       "194995                                           X战警2 X2   \n",
       "131547         马达加斯加3 Madagascar 3: Europe's Most Wanted   \n",
       "217969  街头霸王: 春丽传奇 Street Fighter: The Legend of Chun-Li   \n",
       "\n",
       "                                               comment star  \n",
       "130037                     朱帝福斯特当年多萝莉，电影出名的只是引起刺杀里根的事吧    3  \n",
       "257117                                        喜欢到没有词形容    5  \n",
       "193770                             忘了什么时候看的了，剧情也记得个大概。    4  \n",
       "225478                      乡村非主流综艺网大级超级大喜（lan）剧（pian）    1  \n",
       "247790  陈冲和刘晓庆还带着萌萌的婴儿肥，纯真的美，唐国强帅的秒杀韩国欧巴。片子整体还是浓浓的主旋律。    3  \n",
       "186499                                中间很棒，就是结尾实在太圣母啦！    3  \n",
       "131470                                         视觉效果相当棒    4  \n",
       "194995                                           这么酷！！    5  \n",
       "131547                     颜色很绚丽，3D效果还不错。配乐有些偷懒，都用的老歌。    4  \n",
       "217969                                           春丽真美丽    4  "
      ]
     },
     "execution_count": 16,
     "metadata": {},
     "output_type": "execute_result"
    }
   ],
   "source": [
    "movie_data = pd.read_csv('movie_comments.csv')\n",
    "movie_data.sample(10)"
   ]
  },
  {
   "cell_type": "code",
   "execution_count": 60,
   "metadata": {
    "ExecuteTime": {
     "end_time": "2019-06-30T13:46:41.170793Z",
     "start_time": "2019-06-30T13:46:41.166771Z"
    }
   },
   "outputs": [
    {
     "name": "stdout",
     "output_type": "stream",
     "text": [
      "['颜色很绚丽', '效果还不错', '配乐有些偷懒', '都用的老歌']\n",
      "['颜色很绚丽', '效果还不错', '配乐有些偷懒', '都用的老歌']\n"
     ]
    }
   ],
   "source": [
    "def token(string):\n",
    "        return re.findall('[\\u4e00-\\u9fa5]+', string) \n",
    "\n",
    "# print(token(\"颜色很绚丽，3D效果还不错。配乐有些偷懒，都用的老歌。\"))\n",
    "\n",
    "m = map(token, [\"颜色很绚丽，3D效果还不错。配乐有些偷懒，都用的老歌。\", \n",
    "                \"颜色很绚丽，3D效果还不错。配乐有些偷懒，都用的老歌。\"])\n",
    "for a in m:\n",
    "    print(a)"
   ]
  },
  {
   "cell_type": "code",
   "execution_count": 56,
   "metadata": {
    "ExecuteTime": {
     "end_time": "2019-06-30T13:44:13.990067Z",
     "start_time": "2019-06-30T13:44:13.985081Z"
    }
   },
   "outputs": [],
   "source": [
    "import re\n",
    "import jieba\n",
    "from functools import reduce\n",
    "\n",
    "def filte(string):\n",
    "#     print(string)\n",
    "    return re.findall('[\\u4e00-\\u9fa5]+', string) \n",
    "\n",
    "def cut(string):\n",
    "#     print(string)\n",
    "    return jieba.cut(string)\n",
    "    \n",
    "def preprocessing(content):\n",
    "    \"content: dataframe of comments\"\n",
    "    comments = content.tolist()\n",
    "    comments_clean = map(filte, comments)\n",
    "    TOKEN = []\n",
    "    for comment in comments_clean:\n",
    "        for sen in comment:\n",
    "            TOKEN += list(cut(sen))\n",
    "    print('Total tokens:', len(TOKEN))\n",
    "    return TOKEN"
   ]
  },
  {
   "cell_type": "code",
   "execution_count": 57,
   "metadata": {
    "ExecuteTime": {
     "end_time": "2019-06-30T13:45:21.766396Z",
     "start_time": "2019-06-30T13:44:23.869178Z"
    }
   },
   "outputs": [
    {
     "name": "stdout",
     "output_type": "stream",
     "text": [
      "Total tokens: 4410111\n"
     ]
    }
   ],
   "source": [
    "TOKEN = preprocessing(movie_data.comment.dropna())"
   ]
  },
  {
   "cell_type": "code",
   "execution_count": 59,
   "metadata": {
    "ExecuteTime": {
     "end_time": "2019-06-30T13:45:54.174250Z",
     "start_time": "2019-06-30T13:45:53.449501Z"
    },
    "scrolled": true
   },
   "outputs": [
    {
     "data": {
      "text/plain": [
       "[('的', 328305),\n",
       " ('了', 102410),\n",
       " ('是', 72753),\n",
       " ('我', 49980),\n",
       " ('都', 36284),\n",
       " ('很', 34705),\n",
       " ('看', 34388),\n",
       " ('电影', 33753),\n",
       " ('也', 32055),\n",
       " ('和', 31316),\n",
       " ('在', 31245),\n",
       " ('不', 28475),\n",
       " ('有', 27968),\n",
       " ('就', 25662),\n",
       " ('人', 24231),\n",
       " ('好', 23242),\n",
       " ('啊', 20859),\n",
       " ('还', 17529),\n",
       " ('一个', 17343),\n",
       " ('你', 17229),\n",
       " ('这', 16940),\n",
       " ('还是', 16426),\n",
       " ('但', 15496),\n",
       " ('故事', 15050),\n",
       " ('没有', 14343),\n",
       " ('就是', 14016),\n",
       " ('喜欢', 13561),\n",
       " ('让', 13328),\n",
       " ('太', 12978),\n",
       " ('又', 11556),\n",
       " ('剧情', 11373),\n",
       " ('没', 10895),\n",
       " ('说', 10797),\n",
       " ('吧', 10752),\n",
       " ('他', 10641),\n",
       " ('不错', 10416),\n",
       " ('到', 10405),\n",
       " ('给', 10319),\n",
       " ('得', 10148),\n",
       " ('上', 10140),\n",
       " ('这个', 10056),\n",
       " ('被', 9937),\n",
       " ('对', 9856),\n",
       " ('最后', 9692),\n",
       " ('一部', 9691),\n",
       " ('片子', 9594),\n",
       " ('能', 9583),\n",
       " ('什么', 9565),\n",
       " ('多', 9267),\n",
       " ('与', 9163)]"
      ]
     },
     "execution_count": 59,
     "metadata": {},
     "output_type": "execute_result"
    }
   ],
   "source": [
    "from collections import Counter\n",
    "\n",
    "words_count = Counter(TOKEN)\n",
    "words_count.most_common(50)"
   ]
  },
  {
   "cell_type": "code",
   "execution_count": 63,
   "metadata": {
    "ExecuteTime": {
     "end_time": "2019-06-30T14:03:10.452922Z",
     "start_time": "2019-06-30T14:03:07.011550Z"
    }
   },
   "outputs": [],
   "source": [
    "# bigram\n",
    "TOKEN_bigram = [''.join(TOKEN[i:i+2]) for i in range(len(TOKEN[:-2]))]\n",
    "words_count_2 = Counter(TOKEN_bigram)"
   ]
  },
  {
   "cell_type": "code",
   "execution_count": 69,
   "metadata": {
    "ExecuteTime": {
     "end_time": "2019-06-30T14:12:40.650586Z",
     "start_time": "2019-06-30T14:12:40.645600Z"
    }
   },
   "outputs": [],
   "source": [
    "from operator import add\n",
    "\n",
    "def unigram(word):\n",
    "    return words_count[word] / len(TOKEN)\n",
    "\n",
    "def bigram(w1, w2):\n",
    "    if w1 + w2 in words_count_2:\n",
    "        return words_count_2[w1 + w2] / len(TOKEN_bigram)\n",
    "    else:\n",
    "        return 1 / len(TOKEN_bigram)\n",
    "    \n",
    "def sentence_probablity(sen):\n",
    "    words = reduce(add, [list(jieba.cut(s)) for s in filte(sen)])\n",
    "    sentence_pro = 1\n",
    "    for i, word in enumerate(words[:-2]):\n",
    "        probability = bigram(word, words[i+1])\n",
    "        sentence_pro *= probability\n",
    "    return sentence_pro"
   ]
  },
  {
   "cell_type": "code",
   "execution_count": 70,
   "metadata": {
    "ExecuteTime": {
     "end_time": "2019-06-30T14:12:49.989575Z",
     "start_time": "2019-06-30T14:12:49.969633Z"
    }
   },
   "outputs": [
    {
     "name": "stdout",
     "output_type": "stream",
     "text": [
      "今天晚上请你吃大餐，我们一起吃日料 is more possible\n",
      "---- 今天晚上请你吃大餐，我们一起吃日料 with probility 3.332630757480242e-47\n",
      "---- 明天晚上请你吃大餐，我们一起吃苹果 with probility 1.333052302992097e-47\n",
      "真是一只好看的小猫 is more possible\n",
      "---- 真事一只好看的小猫 with probility 4.7649010280967494e-23\n",
      "---- 真是一只好看的小猫 with probility 1.7511444090098942e-17\n",
      "今晚我去吃火锅 is more possible\n",
      "---- 今晚我去吃火锅 with probility 1.0180439868561215e-11\n",
      "---- 今晚火锅去吃我 with probility 2.3317502117308844e-19\n",
      "养乐多绿来一杯 is more possible\n",
      "---- 洋葱奶昔来一杯 with probility 5.141636297253139e-14\n",
      "---- 养乐多绿来一杯 with probility 2.2675176509242743e-07\n"
     ]
    }
   ],
   "source": [
    "need_compared = [\n",
    "    \"今天晚上请你吃大餐，我们一起吃日料 明天晚上请你吃大餐，我们一起吃苹果\",\n",
    "    \"真事一只好看的小猫 真是一只好看的小猫\",\n",
    "    \"今晚我去吃火锅 今晚火锅去吃我\",\n",
    "    \"洋葱奶昔来一杯 养乐多绿来一杯\"\n",
    "]\n",
    "\n",
    "for s in need_compared:\n",
    "    s1, s2 = s.split()\n",
    "    p1, p2 = sentence_probablity(s1), sentence_probablity(s2)\n",
    "    \n",
    "    better = s1 if p1 > p2 else s2\n",
    "    \n",
    "    print('{} is more possible'.format(better))\n",
    "    print('-'*4 + ' {} with probility {}'.format(s1, p1))\n",
    "    print('-'*4 + ' {} with probility {}'.format(s2, p2))"
   ]
  },
  {
   "cell_type": "markdown",
   "metadata": {},
   "source": [
    "> "
   ]
  },
  {
   "cell_type": "markdown",
   "metadata": {},
   "source": [
    "#### 3. 获得最优质的的语言"
   ]
  },
  {
   "cell_type": "markdown",
   "metadata": {},
   "source": [
    "当我们能够生成随机的语言并且能判断之后，我们就可以生成更加合理的语言了。请定义 generate_best 函数，该函数输入一个语法 + 语言模型，能够生成**n**个句子，并能选择一个最合理的句子: \n",
    "\n"
   ]
  },
  {
   "cell_type": "code",
   "execution_count": 80,
   "metadata": {
    "ExecuteTime": {
     "end_time": "2019-06-30T14:41:30.689307Z",
     "start_time": "2019-06-30T14:41:30.684319Z"
    }
   },
   "outputs": [],
   "source": [
    "def generate_best(n, gram, target, lm, m):\n",
    "    \"\"\"n: num of sentence\n",
    "       m: m-gram language model\"\"\"\n",
    "    sen_and_score = []\n",
    "    for i in range(n):\n",
    "        sen = generate(create_grammar(gram), target)\n",
    "        words = reduce(add, [list(jieba.cut(s)) for s in filte(sen)])\n",
    "        sentence_pro = 1\n",
    "        for i, word in enumerate(words[:-m]):\n",
    "            probability = lm(*words[i:i+m])\n",
    "            sentence_pro *= probability\n",
    "        sen_and_score += [(sen, sentence_pro)]\n",
    "    print(sen_and_score)\n",
    "    sort_list = sorted(sen_and_score, key=lambda x: x[1], reverse=True)\n",
    "    print(sort_list)\n",
    "    return sort_list[0]"
   ]
  },
  {
   "cell_type": "code",
   "execution_count": 81,
   "metadata": {
    "ExecuteTime": {
     "end_time": "2019-06-30T14:41:39.807997Z",
     "start_time": "2019-06-30T14:41:39.792040Z"
    }
   },
   "outputs": [
    {
     "name": "stdout",
     "output_type": "stream",
     "text": [
      "[('一个桌子看见一个小小的蓝色的女人', 3.2445649880320158e-37), ('这个篮球听着这个篮球', 1.0080208399984967e-23), ('这个年轻的篮球看着这个好看的桌子', 6.23302358842027e-39), ('一个年轻的年轻的小小的篮球看着一个女人', 1.2933273443629323e-44), ('一个好看的蓝色的好看的小猫听着这个年轻的小小的小小的桌子', 2.7570927719330856e-73), ('这个篮球看见一个年轻的小猫', 1.0985531260140523e-29), ('一个好看的小猫看着这个女人', 1.62067457791749e-28), ('一个小猫看着一个篮球', 3.4976253175963264e-20), ('这个年轻的小小的桌子看着一个小猫', 9.15057038099352e-37), ('一个桌子看着这个年轻的女人', 8.967780620522879e-31)]\n",
      "[('一个小猫看着一个篮球', 3.4976253175963264e-20), ('这个篮球听着这个篮球', 1.0080208399984967e-23), ('一个好看的小猫看着这个女人', 1.62067457791749e-28), ('这个篮球看见一个年轻的小猫', 1.0985531260140523e-29), ('一个桌子看着这个年轻的女人', 8.967780620522879e-31), ('这个年轻的小小的桌子看着一个小猫', 9.15057038099352e-37), ('一个桌子看见一个小小的蓝色的女人', 3.2445649880320158e-37), ('这个年轻的篮球看着这个好看的桌子', 6.23302358842027e-39), ('一个年轻的年轻的小小的篮球看着一个女人', 1.2933273443629323e-44), ('一个好看的蓝色的好看的小猫听着这个年轻的小小的小小的桌子', 2.7570927719330856e-73)]\n"
     ]
    },
    {
     "data": {
      "text/plain": [
       "('一个小猫看着一个篮球', 3.4976253175963264e-20)"
      ]
     },
     "execution_count": 81,
     "metadata": {},
     "output_type": "execute_result"
    }
   ],
   "source": [
    "generate_best(10, simple, target='sentence', lm=bigram, m=2)"
   ]
  },
  {
   "cell_type": "markdown",
   "metadata": {},
   "source": [
    "提示，要实现这个函数，你需要Python的sorted函数"
   ]
  },
  {
   "cell_type": "code",
   "execution_count": 13,
   "metadata": {},
   "outputs": [
    {
     "data": {
      "text/plain": [
       "[1, 2, 3, 5]"
      ]
     },
     "execution_count": 13,
     "metadata": {},
     "output_type": "execute_result"
    }
   ],
   "source": [
    "sorted([1, 3, 5, 2])"
   ]
  },
  {
   "cell_type": "markdown",
   "metadata": {},
   "source": [
    "这个函数接受一个参数key，这个参数接受一个函数作为输入，例如"
   ]
  },
  {
   "cell_type": "code",
   "execution_count": 15,
   "metadata": {},
   "outputs": [
    {
     "data": {
      "text/plain": [
       "[(1, 4), (2, 5), (4, 4), (5, 0)]"
      ]
     },
     "execution_count": 15,
     "metadata": {},
     "output_type": "execute_result"
    }
   ],
   "source": [
    "sorted([(2, 5), (1, 4), (5, 0), (4, 4)], key=lambda x: x[0])"
   ]
  },
  {
   "cell_type": "markdown",
   "metadata": {},
   "source": [
    "能够让list按照第0个元素进行排序."
   ]
  },
  {
   "cell_type": "code",
   "execution_count": 16,
   "metadata": {},
   "outputs": [
    {
     "data": {
      "text/plain": [
       "[(5, 0), (1, 4), (4, 4), (2, 5)]"
      ]
     },
     "execution_count": 16,
     "metadata": {},
     "output_type": "execute_result"
    }
   ],
   "source": [
    "sorted([(2, 5), (1, 4), (5, 0), (4, 4)], key=lambda x: x[1])"
   ]
  },
  {
   "cell_type": "markdown",
   "metadata": {},
   "source": [
    "能够让list按照第1个元素进行排序."
   ]
  },
  {
   "cell_type": "code",
   "execution_count": 17,
   "metadata": {},
   "outputs": [
    {
     "data": {
      "text/plain": [
       "[(2, 5), (1, 4), (4, 4), (5, 0)]"
      ]
     },
     "execution_count": 17,
     "metadata": {},
     "output_type": "execute_result"
    }
   ],
   "source": [
    "sorted([(2, 5), (1, 4), (5, 0), (4, 4)], key=lambda x: x[1], reverse=True)"
   ]
  },
  {
   "cell_type": "markdown",
   "metadata": {},
   "source": [
    "能够让list按照第1个元素进行排序, 但是是递减的顺序。"
   ]
  },
  {
   "cell_type": "markdown",
   "metadata": {},
   "source": [
    ">"
   ]
  },
  {
   "cell_type": "markdown",
   "metadata": {},
   "source": [
    "Q: 这个模型有什么问题？ 你准备如何提升？ "
   ]
  },
  {
   "cell_type": "markdown",
   "metadata": {},
   "source": [
    "Ans: 问题有两个，只能生成给定形式的句子，同时判定句子合理性依赖使用的语料库；另外，当出现低频的合理词汇，或者语料库中不存在，统计语言模型效果会变差。\n",
    "   并且，模型本身并不具备语言理解、推理的能力。\n",
    "   提升效果的途径，1：使用更大的语料库；2：同时使用多种n-gram进行计算；使用更高级的算法生成多样的合理的语法结构。"
   ]
  }
 ],
 "metadata": {
  "kernelspec": {
   "display_name": "Python 3",
   "language": "python",
   "name": "python3"
  },
  "language_info": {
   "codemirror_mode": {
    "name": "ipython",
    "version": 3
   },
   "file_extension": ".py",
   "mimetype": "text/x-python",
   "name": "python",
   "nbconvert_exporter": "python",
   "pygments_lexer": "ipython3",
   "version": "3.6.5"
  },
  "toc": {
   "base_numbering": 1,
   "nav_menu": {},
   "number_sections": true,
   "sideBar": true,
   "skip_h1_title": false,
   "title_cell": "Table of Contents",
   "title_sidebar": "Contents",
   "toc_cell": false,
   "toc_position": {},
   "toc_section_display": true,
   "toc_window_display": false
  },
  "varInspector": {
   "cols": {
    "lenName": 16,
    "lenType": 16,
    "lenVar": 40
   },
   "kernels_config": {
    "python": {
     "delete_cmd_postfix": "",
     "delete_cmd_prefix": "del ",
     "library": "var_list.py",
     "varRefreshCmd": "print(var_dic_list())"
    },
    "r": {
     "delete_cmd_postfix": ") ",
     "delete_cmd_prefix": "rm(",
     "library": "var_list.r",
     "varRefreshCmd": "cat(var_dic_list()) "
    }
   },
   "types_to_exclude": [
    "module",
    "function",
    "builtin_function_or_method",
    "instance",
    "_Feature"
   ],
   "window_display": false
  }
 },
 "nbformat": 4,
 "nbformat_minor": 2
}
