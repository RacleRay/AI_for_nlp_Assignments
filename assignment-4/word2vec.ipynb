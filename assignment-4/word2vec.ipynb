{
 "cells": [
  {
   "cell_type": "markdown",
   "metadata": {
    "colab_type": "text",
    "id": "spkL7JmS79Xm"
   },
   "source": [
    "[gensim doc](https://radimrehurek.com/gensim/models/keyedvectors.html)  \n",
    "\n",
    "参考资料 (optional)：\n",
    "> + word2vec 的原论文（Mikolov et al. 2013）:\n",
    "https://arxiv.org/abs/1301.3781\n",
    "+ skip-gram word2vec tutorial:\n",
    "http://mccormickml.com/2016/04/19/word2vec-tutorial-the-skip-gram-model/\n",
    "+ improvements on skip-gram (hierarchical softmax & negative sampling):\n",
    "https://papers.nips.cc/paper/5021-distributed-representations-of-words-and-phrases-and-their-compositionality.pdf\n",
    "\n",
    "论文中结论：According to the authors, hierarchical softmax works better for infrequent words while negative sampling works better for frequent words and better with low dimensional vectors.\n",
    "\n",
    "### 操作过程\n",
    "在本章，你将使用Gensim和维基百科获得你的第一批词向量，并且感受词向量的基本过程。\n",
    "\n",
    "- Step-01: Download Wikipedia Chinese Corpus: https://dumps.wikimedia.org/zhwiki/20190720/  \n",
    "第一步：使用维基百科下载中文语料库\n",
    "\n",
    "- Step-02: Using https://github.com/attardi/wikiextractor to extract the wikipedia corpus  \n",
    "第二步：使用python wikipedia extractor抽取维基百科的内容\n",
    "\n",
    "- Step-03: Using gensim get word vectors:\n",
    "Reference:\n",
    "https://radimrehurek.com/gensim/models/word2vec.html\n",
    "https://www.kaggle.com/jeffd23/visualizing-word-vectors-with-t-sne  \n",
    "第三步：参考Gensim的文档和Kaggle的参考文档，获得词向量。 注意，你要使用Jieba分词把维基百科的内容切分成一个一个单词，然后存进新的文件中。然后，你需要用Gensim的LineSentence这个类进行文件的读取。  \n",
    "在训练成词向量Model.\n",
    "\n",
    "- Step-04: Using some words to test your preformance.  \n",
    "第四步，测试同义词，找几个单词。\n",
    "\n",
    "- Step-05: Using visualization tools: https://www.kaggle.com/jeffd23/visualizing-word-vectors-with-t-sne  \n",
    "第五步：使用Kaggle给出的T-SEN进行词向量的可视化。"
   ]
  },
  {
   "cell_type": "markdown",
   "metadata": {
    "colab_type": "text",
    "id": "5p_bbSzk_bgq"
   },
   "source": [
    "### Wikipedia Chinese Corpus"
   ]
  },
  {
   "cell_type": "code",
   "execution_count": 1,
   "metadata": {
    "colab": {
     "base_uri": "https://localhost:8080/",
     "height": 433
    },
    "colab_type": "code",
    "executionInfo": {
     "elapsed": 952593,
     "status": "ok",
     "timestamp": 1565181143149,
     "user": {
      "displayName": "Racle He",
      "photoUrl": "https://lh5.googleusercontent.com/-duAtIP62aCM/AAAAAAAAAAI/AAAAAAAAABU/2UGgZTjRHOg/s64/photo.jpg",
      "userId": "10673173760458122172"
     },
     "user_tz": -480
    },
    "id": "N66VmV5r75mA",
    "outputId": "6ec48fba-eddb-407e-f15f-9b28329cf403"
   },
   "outputs": [
    {
     "name": "stdout",
     "output_type": "stream",
     "text": [
      "--2019-08-10 05:59:06--  https://dumps.wikimedia.org/zhwiki/20190720/zhwiki-20190720-pages-articles-multistream.xml.bz2\n",
      "Resolving dumps.wikimedia.org (dumps.wikimedia.org)... 208.80.155.106, 2620:0:861:4:208:80:155:106\n",
      "Connecting to dumps.wikimedia.org (dumps.wikimedia.org)|208.80.155.106|:443... connected.\n",
      "HTTP request sent, awaiting response... 200 OK\n",
      "Length: 1901117847 (1.8G) [application/octet-stream]\n",
      "Saving to: ‘zhwiki-20190720-pages-articles-multistream.xml.bz2’\n",
      "\n",
      "zhwiki-20190720-pag 100%[===================>]   1.77G  2.00MB/s    in 15m 13s \n",
      "\n",
      "2019-08-10 06:14:20 (1.99 MB/s) - ‘zhwiki-20190720-pages-articles-multistream.xml.bz2’ saved [1901117847/1901117847]\n",
      "\n",
      "--2019-08-10 06:14:20--  https://dumps.wikimedia.org/zhwiki/20190720/zhwiki-20190720-pages-articles-multistream-index.txt.bz2\n",
      "Resolving dumps.wikimedia.org (dumps.wikimedia.org)... 208.80.155.106, 2620:0:861:4:208:80:155:106\n",
      "Connecting to dumps.wikimedia.org (dumps.wikimedia.org)|208.80.155.106|:443... connected.\n",
      "HTTP request sent, awaiting response... 200 OK\n",
      "Length: 27138296 (26M) [application/octet-stream]\n",
      "Saving to: ‘zhwiki-20190720-pages-articles-multistream-index.txt.bz2’\n",
      "\n",
      "zhwiki-20190720-pag 100%[===================>]  25.88M  1.98MB/s    in 13s     \n",
      "\n",
      "2019-08-10 06:14:33 (2.01 MB/s) - ‘zhwiki-20190720-pages-articles-multistream-index.txt.bz2’ saved [27138296/27138296]\n",
      "\n"
     ]
    }
   ],
   "source": [
    "! wget  https://dumps.wikimedia.org/zhwiki/20190720/zhwiki-20190720-pages-articles-multistream.xml.bz2\n",
    "! wget  https://dumps.wikimedia.org/zhwiki/20190720/zhwiki-20190720-pages-articles-multistream-index.txt.bz2"
   ]
  },
  {
   "cell_type": "code",
   "execution_count": 2,
   "metadata": {
    "colab": {},
    "colab_type": "code",
    "id": "XuD5zi6BLz-9"
   },
   "outputs": [],
   "source": [
    "# ! mv zhwiki-20190720-pages-articles-multistream.xml.bz2 ./word2vec/zhwiki-20190720-pages-articles-multistream.xml.bz2\n",
    "\n",
    "# ! mv zhwiki-20190720-pages-articles-multistream-index.txt.bz2 ./word2vec/zhwiki-20190720-pages-articles-multistream-index.txt.bz2"
   ]
  },
  {
   "cell_type": "markdown",
   "metadata": {
    "colab_type": "text",
    "id": "43K981tf-gc8"
   },
   "source": [
    "### wikiextractor"
   ]
  },
  {
   "cell_type": "code",
   "execution_count": 3,
   "metadata": {
    "colab": {
     "base_uri": "https://localhost:8080/",
     "height": 161
    },
    "colab_type": "code",
    "executionInfo": {
     "elapsed": 5295,
     "status": "ok",
     "timestamp": 1565183260465,
     "user": {
      "displayName": "Racle He",
      "photoUrl": "https://lh5.googleusercontent.com/-duAtIP62aCM/AAAAAAAAAAI/AAAAAAAAABU/2UGgZTjRHOg/s64/photo.jpg",
      "userId": "10673173760458122172"
     },
     "user_tz": -480
    },
    "id": "11P4aEKY950c",
    "outputId": "84a79aa9-ef06-41d5-ef23-a12eb1076438"
   },
   "outputs": [
    {
     "name": "stdout",
     "output_type": "stream",
     "text": [
      "Cloning into 'wikiextractor'...\n",
      "warning: --local is ignored\n",
      "remote: Enumerating objects: 607, done.\u001b[K\n",
      "remote: Total 607 (delta 0), reused 0 (delta 0), pack-reused 607\u001b[K\n",
      "Receiving objects: 100% (607/607), 1.23 MiB | 0 bytes/s, done.\n",
      "Resolving deltas: 100% (348/348), done.\n",
      "Checking connectivity... done.\n",
      "/home/racleme3/wikiextractor\n",
      "categories.filter  cirrus-extract.py  extract.sh  README.md  WikiExtractor.py\n"
     ]
    }
   ],
   "source": [
    "# Clone the entire repo.\n",
    "!git clone -l -s https://github.com/attardi/wikiextractor.git wikiextractor\n",
    "%cd wikiextractor\n",
    "!ls"
   ]
  },
  {
   "cell_type": "code",
   "execution_count": 4,
   "metadata": {
    "colab": {
     "base_uri": "https://localhost:8080/",
     "height": 1000
    },
    "colab_type": "code",
    "collapsed": true,
    "executionInfo": {
     "elapsed": 2375067,
     "status": "ok",
     "timestamp": 1565192745992,
     "user": {
      "displayName": "Racle He",
      "photoUrl": "https://lh5.googleusercontent.com/-duAtIP62aCM/AAAAAAAAAAI/AAAAAAAAABU/2UGgZTjRHOg/s64/photo.jpg",
      "userId": "10673173760458122172"
     },
     "user_tz": -480
    },
    "id": "LS2TqJMQMUSC",
    "outputId": "b6574e61-b805-4a93-ff25-57b2f5fac014"
   },
   "outputs": [
    {
     "name": "stdout",
     "output_type": "stream",
     "text": [
      "WARNING: Template errors in article 'J·K·罗琳' (40039): title(1) recursion(0, 0, 0)\n",
      "WARNING: Template errors in article '单元素集合' (93854): title(1) recursion(0, 0, 0)\n",
      "WARNING: Template errors in article '护国法轮寺' (162351): title(1) recursion(0, 0, 0)\n",
      "WARNING: Template errors in article '熱刺足球俱樂部歷史' (175052): title(1) recursion(0, 0, 0)\n",
      "WARNING: Template errors in article '中華統一促進黨' (220402): title(1) recursion(0, 0, 0)\n",
      "WARNING: Template errors in article '自然演绎' (292517): title(2) recursion(0, 0, 0)\n",
      "WARNING: Template errors in article '2008年夏季奧林匹克運動會網球比賽' (353877): title(1) recursion(0, 0, 0)\n",
      "WARNING: Template errors in article '2008年夏季奧林匹克運動會鐵人三項比賽' (355169): title(1) recursion(0, 0, 0)\n",
      "WARNING: Template errors in article '2008年夏季奧林匹克運動會足球比賽' (355106): title(1) recursion(0, 0, 0)\n",
      "WARNING: Template errors in article '2008年夏季奧林匹克運動會帆船比賽' (356645): title(1) recursion(0, 0, 0)\n",
      "WARNING: Template errors in article '2008年夏季奧林匹克運動會現代五項比賽' (357473): title(1) recursion(0, 0, 0)\n",
      "WARNING: Template errors in article '2008年夏季奧林匹克運動會壘球比賽' (357492): title(1) recursion(0, 0, 0)\n",
      "WARNING: Template errors in article '2008年夏季奧林匹克運動會棒球比賽' (357512): title(1) recursion(0, 0, 0)\n",
      "WARNING: Template errors in article '2008年夏季奥林匹克运动会乒乓球比赛' (358213): title(1) recursion(0, 0, 0)\n",
      "WARNING: Template errors in article '2008年夏季奧林匹克運動會籃球比賽' (358447): title(1) recursion(0, 0, 0)\n",
      "WARNING: Template errors in article '2008年夏季奧林匹克運動會曲棍球比賽' (358465): title(1) recursion(0, 0, 0)\n",
      "WARNING: Template errors in article '2008年夏季奧林匹克運動會手球比賽' (359382): title(1) recursion(0, 0, 0)\n",
      "WARNING: Template errors in article '2008年夏季奧林匹克運動會水球比賽' (359391): title(1) recursion(0, 0, 0)\n",
      "WARNING: Template errors in article '2008年夏季奧林匹克運動會排球比賽' (360964): title(2) recursion(0, 0, 0)\n",
      "WARNING: Template errors in article '張婯嬅' (373724): title(1) recursion(0, 0, 0)\n",
      "WARNING: Template errors in article '2008年夏季奧林匹克運動會跆拳道比賽' (376215): title(1) recursion(0, 0, 0)\n",
      "WARNING: Template errors in article '2008年夏季奧林匹克運動會拳擊比賽' (388217): title(1) recursion(0, 0, 0)\n",
      "WARNING: Template errors in article '2008年夏季奧林匹克運動會摔跤比賽' (399032): title(1) recursion(0, 0, 0)\n",
      "WARNING: Template errors in article '二元集合' (405063): title(1) recursion(0, 0, 0)\n",
      "WARNING: Template errors in article '2008年夏季奧林匹克運動會體操比賽' (411007): title(3) recursion(0, 0, 0)\n",
      "WARNING: Template errors in article '2008年夏季奧林匹克運動會蹦床比賽' (411617): title(1) recursion(0, 0, 0)\n",
      "WARNING: Template errors in article '2008年夏季奧林匹克運動會藝術體操比賽' (411638): title(1) recursion(0, 0, 0)\n",
      "WARNING: Template errors in article '2008年夏季奧林匹克運動會皮划艇比賽' (424989): title(1) recursion(0, 0, 0)\n",
      "WARNING: Template errors in article '2008年夏季奧林匹克運動會花樣游泳比賽' (429645): title(1) recursion(0, 0, 0)\n",
      "WARNING: Template errors in article '2008年夏季奧林匹克運動會賽艇比賽' (442080): title(1) recursion(0, 0, 0)\n",
      "WARNING: Template errors in article 'AIM-132先進短程空對空飛彈' (498106): title(1) recursion(0, 0, 0)\n",
      "WARNING: Template errors in article '愛因斯坦-嘉當理論' (539852): title(16) recursion(0, 0, 0)\n",
      "WARNING: Template errors in article '刻赤' (659351): title(1) recursion(0, 0, 0)\n",
      "WARNING: Template errors in article '氢化锂' (733624): title(1) recursion(0, 0, 0)\n",
      "WARNING: Template errors in article '等化器' (789846): title(1) recursion(0, 0, 0)\n",
      "WARNING: Template errors in article '2008年夏季残奥会射箭比赛' (797674): title(1) recursion(0, 0, 0)\n",
      "WARNING: Template errors in article '2008年夏季残奥会田径比赛' (797789): title(1) recursion(0, 0, 0)\n",
      "WARNING: Template errors in article '2008年夏季残奥会马术比赛' (797949): title(1) recursion(0, 0, 0)\n",
      "WARNING: Template errors in article '2008年夏季残奥会柔道比赛' (798804): title(1) recursion(0, 0, 0)\n",
      "WARNING: Template errors in article '2008年夏季残奥会举重比赛' (798815): title(1) recursion(0, 0, 0)\n",
      "WARNING: Template errors in article '2008年夏季残奥会自行车比赛' (798794): title(2) recursion(0, 0, 0)\n",
      "WARNING: Template errors in article '2008年夏季残奥会帆船比赛' (798852): title(1) recursion(0, 0, 0)\n",
      "WARNING: Template errors in article '2008年夏季残奥会射击比赛' (798870): title(1) recursion(0, 0, 0)\n",
      "WARNING: Template errors in article '2008年夏季残奥会游泳比赛' (798900): title(1) recursion(0, 0, 0)\n",
      "WARNING: Template errors in article '2008年夏季残奥会轮椅击剑比赛' (799154): title(1) recursion(0, 0, 0)\n",
      "WARNING: Template errors in article '2008年夏季残奥会轮椅网球比赛' (799239): title(1) recursion(0, 0, 0)\n",
      "WARNING: Template errors in article '劉文慶' (809471): title(1) recursion(0, 0, 0)\n",
      "WARNING: Template errors in article '宮心計' (906212): title(1) recursion(0, 0, 0)\n",
      "WARNING: Template errors in article '2010年冬季奥林匹克运动会高山滑雪比赛' (928845): title(1) recursion(0, 0, 0)\n",
      "WARNING: Template errors in article '2010年冬季残奥会高山滑雪比赛' (930806): title(1) recursion(0, 0, 0)\n",
      "WARNING: Template errors in article '2010年亞洲運動會棋類比賽' (932237): title(3) recursion(0, 0, 0)\n",
      "WARNING: Template errors in article '2010年冬季奥林匹克运动会冬季两项比赛' (943696): title(1) recursion(0, 0, 0)\n",
      "WARNING: Template errors in article '2010年冬季残奥会冬季两项比赛' (943703): title(1) recursion(0, 0, 0)\n",
      "WARNING: Template errors in article '2010年冬季奥林匹克运动会有舵雪橇比赛' (944611): title(1) recursion(0, 0, 0)\n",
      "WARNING: Template errors in article '2010年冬季残奥会越野滑雪比赛' (944627): title(1) recursion(0, 0, 0)\n",
      "WARNING: Template errors in article '2010年冬季奥林匹克运动会冰壶比赛' (944659): title(1) recursion(0, 0, 0)\n",
      "WARNING: Template errors in article '2010年冬季奥林匹克运动会花样滑冰比赛' (956193): title(1) recursion(0, 0, 0)\n",
      "WARNING: Template errors in article '2010年冬季奥林匹克运动会自由式滑雪比赛' (956395): title(1) recursion(0, 0, 0)\n",
      "WARNING: Template errors in article '2010年冬季奥林匹克运动会冰球比赛' (956406): title(1) recursion(0, 0, 0)\n",
      "WARNING: Template errors in article '峰值因數' (956856): title(1) recursion(0, 0, 0)\n",
      "WARNING: Template errors in article '2010年冬季奥林匹克运动会无舵雪橇比赛' (965148): title(1) recursion(0, 0, 0)\n",
      "WARNING: Template errors in article '2010年冬季奥林匹克运动会北欧两项比赛' (967267): title(1) recursion(0, 0, 0)\n",
      "WARNING: Template errors in article '2010年冬季奥林匹克运动会俯式冰撬比赛' (967352): title(1) recursion(0, 0, 0)\n",
      "WARNING: Template errors in article '2010年冬季奥林匹克运动会速度滑冰比赛' (967409): title(1) recursion(0, 0, 0)\n",
      "WARNING: Template errors in article '2010年亞洲運動會羽毛球比賽' (968499): title(1) recursion(0, 0, 0)\n",
      "WARNING: Template errors in article '2010年亞洲運動會網球比賽' (968521): title(1) recursion(0, 0, 0)\n",
      "WARNING: Template errors in article '2010年亞洲運動會田徑比賽' (968532): title(1) recursion(0, 0, 0)\n",
      "WARNING: Template errors in article '2010年亞洲運動會水球比賽' (971313): title(1) recursion(0, 0, 0)\n",
      "WARNING: Template errors in article '2010年亞洲運動會曲棍球比賽' (971351): title(1) recursion(0, 0, 0)\n",
      "WARNING: Template errors in article '2010年亞洲運動會籃球比賽' (971317): title(1) recursion(0, 0, 0)\n",
      "WARNING: Template errors in article '2010年亞洲運動會足球比賽' (971355): title(1) recursion(0, 0, 0)\n",
      "WARNING: Template errors in article '2010年亞洲運動會高爾夫球比賽' (971359): title(1) recursion(0, 0, 0)\n",
      "WARNING: Template errors in article '2010年亞洲運動會柔道比賽' (971374): title(1) recursion(0, 0, 0)\n",
      "WARNING: Template errors in article '2010年亞洲運動會手球比賽' (971371): title(1) recursion(0, 0, 0)\n",
      "WARNING: Template errors in article '2010年亞洲運動會跳水比賽' (971431): title(1) recursion(0, 0, 0)\n",
      "WARNING: Template errors in article '2010年亞洲運動會划船比賽' (971604): title(1) recursion(0, 0, 0)\n",
      "WARNING: Template errors in article '2010年亞洲運動會帆船比賽' (971613): title(1) recursion(0, 0, 0)\n",
      "WARNING: Template errors in article '2010年亞洲運動會板球比賽' (971662): title(1) recursion(0, 0, 0)\n",
      "WARNING: Template errors in article '2010年亞洲運動會跆拳道比賽' (971675): title(1) recursion(0, 0, 0)\n",
      "WARNING: Template errors in article '2010年亞洲運動會摔跤比賽' (971688): title(1) recursion(0, 0, 0)\n",
      "WARNING: Template errors in article '2010年亞洲運動會龍舟比賽' (971758): title(1) recursion(0, 0, 0)\n",
      "WARNING: Template errors in article '世界冰壶锦标赛' (1016861): title(1) recursion(0, 0, 0)\n",
      "WARNING: Template errors in article '纽博格林赛道' (1088876): title(1) recursion(0, 0, 0)\n",
      "WARNING: Template errors in article '2009年世界運動會壘球比賽' (1091499): title(1) recursion(0, 0, 0)\n",
      "WARNING: Template errors in article 'Theora' (1124199): title(1) recursion(0, 0, 0)\n",
      "WARNING: Template errors in article 'HK P2000手槍' (1213726): title(1) recursion(0, 0, 0)\n",
      "WARNING: Template errors in article '2010年亞洲運動會圍棋比賽' (1348735): title(1) recursion(0, 0, 0)\n",
      "WARNING: Template errors in article '2010年亞洲運動會壘球比賽' (1466147): title(1) recursion(0, 0, 0)\n",
      "WARNING: Template errors in article '2010年亞洲運動會象棋比賽' (1466642): title(1) recursion(0, 0, 0)\n",
      "WARNING: Template errors in article '2010年亞洲運動會國際象棋比賽' (1466639): title(1) recursion(0, 0, 0)\n"
     ]
    },
    {
     "name": "stdout",
     "output_type": "stream",
     "text": [
      "WARNING: Template errors in article '2010年亞洲運動會跳水比賽－男子雙人10米跳台' (1498483): title(1) recursion(0, 0, 0)\n",
      "WARNING: Template errors in article '2010年亞洲運動會跳水比賽－男子雙人3米跳板' (1498485): title(1) recursion(0, 0, 0)\n",
      "WARNING: Template errors in article '2010年亞洲運動會跳水比賽－女子雙人3米跳板' (1498487): title(1) recursion(0, 0, 0)\n",
      "WARNING: Template errors in article '2010年亞洲運動會跳水比賽－男子1米跳板' (1498491): title(1) recursion(0, 0, 0)\n",
      "WARNING: Template errors in article '2010年亞洲運動會跳水比賽－女子雙人10米跳台' (1498484): title(1) recursion(0, 0, 0)\n",
      "WARNING: Template errors in article '2010年亞洲運動會跳水比賽－女子1米跳板' (1498494): title(1) recursion(0, 0, 0)\n",
      "WARNING: Template errors in article '2010年亞洲運動會跳水比賽－女子10米跳台' (1498535): title(1) recursion(0, 0, 0)\n",
      "WARNING: Template errors in article '2010年亞洲運動會跳水比賽－女子3米跳板' (1499056): title(1) recursion(0, 0, 0)\n",
      "WARNING: Template errors in article '2010年亞洲運動會跳水比賽－男子10米跳台' (1499156): title(1) recursion(0, 0, 0)\n",
      "WARNING: Template errors in article '2010年亞洲運動會跳水比賽－男子3米跳板' (1499138): title(1) recursion(0, 0, 0)\n",
      "WARNING: Template errors in article '2006年亞洲運動會花樣游泳比賽' (1546329): title(1) recursion(0, 0, 0)\n",
      "WARNING: Template errors in article '後牛頓形式論' (1590636): title(12) recursion(0, 0, 0)\n",
      "WARNING: Template errors in article '亞洲運動會軟式網球比賽' (1596973): title(1) recursion(0, 0, 0)\n",
      "WARNING: Template errors in article '1984年夏季奧林匹克運動會手球比賽' (1603580): title(1) recursion(0, 0, 0)\n",
      "WARNING: Template errors in article '1988年夏季奧林匹克運動會手球比賽' (1603569): title(1) recursion(0, 0, 0)\n",
      "WARNING: Template errors in article '1980年夏季奧林匹克運動會手球比賽' (1603587): title(1) recursion(0, 0, 0)\n",
      "WARNING: Template errors in article '1976年夏季奧林匹克運動會手球比賽' (1603885): title(1) recursion(0, 0, 0)\n",
      "WARNING: Template errors in article '1972年夏季奧林匹克運動會手球比賽' (1603938): title(1) recursion(0, 0, 0)\n",
      "WARNING: Template errors in article '1936年夏季奧林匹克運動會手球比賽' (1604021): title(1) recursion(0, 0, 0)\n",
      "WARNING: Template errors in article 'ECT理论-牛顿引力理论' (1605966): title(4) recursion(0, 0, 0)\n",
      "WARNING: Template errors in article '1988年夏季奧林匹克運動會水球比賽' (1606996): title(1) recursion(0, 0, 0)\n",
      "WARNING: Template errors in article '1984年夏季奧林匹克運動會水球比賽' (1607010): title(1) recursion(0, 0, 0)\n",
      "WARNING: Template errors in article '1980年夏季奧林匹克運動會水球比賽' (1607035): title(1) recursion(0, 0, 0)\n",
      "WARNING: Template errors in article '1976年夏季奧林匹克運動會水球比賽' (1607052): title(1) recursion(0, 0, 0)\n",
      "WARNING: Template errors in article '1972年夏季奧林匹克運動會水球比賽' (1607184): title(1) recursion(0, 0, 0)\n",
      "WARNING: Template errors in article '1968年夏季奧林匹克運動會水球比賽' (1607663): title(1) recursion(0, 0, 0)\n",
      "WARNING: Template errors in article '1964年夏季奧林匹克運動會水球比賽' (1607670): title(1) recursion(0, 0, 0)\n",
      "WARNING: Template errors in article '1960年夏季奧林匹克運動會水球比賽' (1607675): title(1) recursion(0, 0, 0)\n",
      "WARNING: Template errors in article '1956年夏季奧林匹克運動會水球比賽' (1607689): title(1) recursion(0, 0, 0)\n",
      "WARNING: Template errors in article '1952年夏季奧林匹克運動會水球比賽' (1608495): title(1) recursion(0, 0, 0)\n",
      "WARNING: Template errors in article '1932年夏季奧林匹克運動會水球比賽' (1608507): title(1) recursion(0, 0, 0)\n",
      "WARNING: Template errors in article '1928年夏季奧林匹克運動會水球比賽' (1608511): title(1) recursion(0, 0, 0)\n",
      "WARNING: Template errors in article '1936年夏季奧林匹克運動會水球比賽' (1608505): title(1) recursion(0, 0, 0)\n",
      "WARNING: Template errors in article '1924年夏季奧林匹克運動會水球比賽' (1608520): title(1) recursion(0, 0, 0)\n",
      "WARNING: Template errors in article '1920年夏季奧林匹克運動會水球比賽' (1608530): title(1) recursion(0, 0, 0)\n",
      "WARNING: Template errors in article '1912年夏季奧林匹克運動會水球比賽' (1608533): title(1) recursion(0, 0, 0)\n",
      "WARNING: Template errors in article '1908年夏季奧林匹克運動會水球比賽' (1608547): title(1) recursion(0, 0, 0)\n",
      "WARNING: Template errors in article '1904年夏季奧林匹克運動會水球比賽' (1608554): title(1) recursion(0, 0, 0)\n",
      "WARNING: Template errors in article '1948年夏季奧林匹克運動會水球比賽' (1608502): title(1) recursion(0, 0, 0)\n",
      "WARNING: Template errors in article '台灣摩天大樓列表' (1731881): title(1) recursion(0, 0, 0)\n",
      "WARNING: Template errors in article '钟公庙街道' (1900923): title(2) recursion(0, 0, 0)\n",
      "WARNING: Template errors in article '焦家庄乡' (1906808): title(1) recursion(0, 0, 0)\n",
      "WARNING: Template errors in article '吉珠沟' (1920625): title(1) recursion(0, 0, 0)\n",
      "WARNING: Template errors in article '最小哈希' (2812987): title(1) recursion(0, 0, 0)\n",
      "WARNING: Template errors in article 'The Pretty Reckless' (2894306): title(1) recursion(0, 0, 0)\n",
      "WARNING: Template errors in article '雷千瑩' (2938572): title(1) recursion(0, 0, 0)\n",
      "WARNING: Template errors in article '潘金英' (3038983): title(1) recursion(0, 0, 0)\n",
      "WARNING: Template errors in article '变异铁角蕨' (3274495): title(1) recursion(0, 0, 0)\n",
      "WARNING: Template errors in article '泰安县衙' (3339249): title(1) recursion(0, 0, 0)\n",
      "WARNING: Template errors in article '少年悍將GO！' (3724500): title(1) recursion(0, 0, 0)\n",
      "WARNING: Template errors in article '广义超几何函数' (4193439): title(1) recursion(0, 0, 0)\n",
      "WARNING: Template errors in article '歷任橫綱列表' (5569536): title(1) recursion(0, 0, 0)\n",
      "WARNING: Template errors in article '安娜·泰瑞莎·姬爾美可' (5649929): title(1) recursion(0, 0, 0)\n",
      "WARNING: Template errors in article '拟松螺属' (5714447): title(1) recursion(0, 0, 0)\n",
      "WARNING: Template errors in article '雅卡尔指数' (6295389): title(2) recursion(0, 0, 0)\n",
      "WARNING: Template errors in article '2019年SBL明星賽' (6460477): title(3) recursion(0, 0, 0)\n"
     ]
    }
   ],
   "source": [
    "!python WikiExtractor.py  -q --processes 20 -o .. -b 2G ../zhwiki-20190720-pages-articles-multistream.xml.bz2"
   ]
  },
  {
   "cell_type": "code",
   "execution_count": 7,
   "metadata": {
    "colab": {
     "base_uri": "https://localhost:8080/",
     "height": 35
    },
    "colab_type": "code",
    "executionInfo": {
     "elapsed": 1136,
     "status": "ok",
     "timestamp": 1565406727679,
     "user": {
      "displayName": "Racle He",
      "photoUrl": "https://lh5.googleusercontent.com/-duAtIP62aCM/AAAAAAAAAAI/AAAAAAAAABU/2UGgZTjRHOg/s64/photo.jpg",
      "userId": "10673173760458122172"
     },
     "user_tz": -480
    },
    "id": "DxbnGashzoen",
    "outputId": "8b4e1d60-b569-40c2-b942-bc084d174a77"
   },
   "outputs": [
    {
     "name": "stdout",
     "output_type": "stream",
     "text": [
      "/home/racleme3\n",
      "total 1883136\r\n",
      "drwxrwxr-x  2 racleme3 racleme3       4096 Aug 10 06:21 AA\r\n",
      "drwxrwxr-x 26 racleme3 racleme3       4096 Aug 10 05:53 anaconda3\r\n",
      "drwxrwxr-x  2 racleme3 racleme3       4096 Mar 27 13:22 bin\r\n",
      "-rw-rw-r--  1 racleme3 racleme3       1167 Aug 10 04:38 test.ipynb\r\n",
      "drwxrwxr-x  3 racleme3 racleme3       4096 Aug 10 06:19 wikiextractor\r\n",
      "-rw-rw-r--  1 racleme3 racleme3      44847 Aug 10 06:51 word2vec.ipynb\r\n",
      "-rw-rw-r--  1 racleme3 racleme3   27138296 Jul 26 07:56 zhwiki-20190720-pages-articles-multistream-index.txt.bz2\r\n",
      "-rw-rw-r--  1 racleme3 racleme3 1901117847 Jul 26 07:53 zhwiki-20190720-pages-articles-multistream.xml.bz2\r\n"
     ]
    }
   ],
   "source": [
    "%cd ..\n",
    "! ls -l ."
   ]
  },
  {
   "cell_type": "markdown",
   "metadata": {
    "colab_type": "text",
    "id": "1KjfnnKN7sXo"
   },
   "source": [
    "### 简繁体转化"
   ]
  },
  {
   "cell_type": "code",
   "execution_count": 8,
   "metadata": {
    "colab": {
     "base_uri": "https://localhost:8080/",
     "height": 217
    },
    "colab_type": "code",
    "executionInfo": {
     "elapsed": 8886,
     "status": "ok",
     "timestamp": 1565406745015,
     "user": {
      "displayName": "Racle He",
      "photoUrl": "https://lh5.googleusercontent.com/-duAtIP62aCM/AAAAAAAAAAI/AAAAAAAAABU/2UGgZTjRHOg/s64/photo.jpg",
      "userId": "10673173760458122172"
     },
     "user_tz": -480
    },
    "id": "rx5IzqAI7lwv",
    "outputId": "ffccd7e4-ab36-4c73-b9b3-c0e90c2dc6ff"
   },
   "outputs": [
    {
     "name": "stdout",
     "output_type": "stream",
     "text": [
      "Collecting hanziconv==0.3\n",
      "\u001b[?25l  Downloading https://files.pythonhosted.org/packages/aa/78/aa953b61c3b4a311728f22ae94ddbcb611b14a174603efd33511927a2ba7/hanziconv-0.3.tar.gz (273kB)\n",
      "\u001b[K     |████████████████████████████████| 276kB 5.0MB/s eta 0:00:01\n",
      "\u001b[?25hBuilding wheels for collected packages: hanziconv\n",
      "  Building wheel for hanziconv (setup.py) ... \u001b[?25ldone\n",
      "\u001b[?25h  Stored in directory: /home/racleme3/.cache/pip/wheels/0c/7c/34/2281a105db2041dd9b128f86ffd34a7c250d8a0f661c9bf255\n",
      "Successfully built hanziconv\n",
      "Installing collected packages: hanziconv\n",
      "Successfully installed hanziconv-0.3\n"
     ]
    }
   ],
   "source": [
    "! pip install hanziconv==0.3"
   ]
  },
  {
   "cell_type": "code",
   "execution_count": 9,
   "metadata": {
    "colab": {},
    "colab_type": "code",
    "id": "ca0xuANz7lwy"
   },
   "outputs": [],
   "source": [
    "from hanziconv import HanziConv"
   ]
  },
  {
   "cell_type": "code",
   "execution_count": 10,
   "metadata": {
    "colab": {
     "base_uri": "https://localhost:8080/",
     "height": 377
    },
    "colab_type": "code",
    "executionInfo": {
     "elapsed": 378706,
     "status": "ok",
     "timestamp": 1565368627607,
     "user": {
      "displayName": "Racle He",
      "photoUrl": "https://lh5.googleusercontent.com/-duAtIP62aCM/AAAAAAAAAAI/AAAAAAAAABU/2UGgZTjRHOg/s64/photo.jpg",
      "userId": "10673173760458122172"
     },
     "user_tz": -480
    },
    "id": "0Y1WzWlxz_qY",
    "outputId": "33a8ac0d-bf11-4708-859c-44397ef8f112"
   },
   "outputs": [
    {
     "name": "stdout",
     "output_type": "stream",
     "text": [
      "30720000\n",
      "30720000\n",
      "30720000\n",
      "30720000\n",
      "30720000\n",
      "30720000\n",
      "30720000\n",
      "30720000\n",
      "30720000\n",
      "30720000\n",
      "30720000\n",
      "30720000\n",
      "30720000\n",
      "30720000\n",
      "30720000\n",
      "30720000\n",
      "30720000\n",
      "30720000\n",
      "9289150\n",
      "0\n"
     ]
    }
   ],
   "source": [
    "Simplified_txt = \"\"\n",
    "with open('./AA/wiki_00', 'r', encoding='utf-8') as f:\n",
    "    while True:\n",
    "        Simplified = HanziConv.toSimplified(f.read(1024 * 30000))\n",
    "        print(len(Simplified))\n",
    "        if len(Simplified) == 0:\n",
    "            break\n",
    "        Simplified_txt += Simplified\n",
    "    del Simplified"
   ]
  },
  {
   "cell_type": "code",
   "execution_count": 11,
   "metadata": {
    "colab": {
     "base_uri": "https://localhost:8080/",
     "height": 35
    },
    "colab_type": "code",
    "executionInfo": {
     "elapsed": 828,
     "status": "ok",
     "timestamp": 1565368632251,
     "user": {
      "displayName": "Racle He",
      "photoUrl": "https://lh5.googleusercontent.com/-duAtIP62aCM/AAAAAAAAAAI/AAAAAAAAABU/2UGgZTjRHOg/s64/photo.jpg",
      "userId": "10673173760458122172"
     },
     "user_tz": -480
    },
    "id": "xz8TWgPg1rxO",
    "outputId": "8884427e-41d1-4ce8-eaf5-6f49be3ddb75"
   },
   "outputs": [
    {
     "data": {
      "text/plain": [
       "562249150"
      ]
     },
     "execution_count": 11,
     "metadata": {},
     "output_type": "execute_result"
    }
   ],
   "source": [
    "len(Simplified_txt)"
   ]
  },
  {
   "cell_type": "code",
   "execution_count": 12,
   "metadata": {
    "colab": {
     "base_uri": "https://localhost:8080/",
     "height": 55
    },
    "colab_type": "code",
    "executionInfo": {
     "elapsed": 1018,
     "status": "ok",
     "timestamp": 1565368634595,
     "user": {
      "displayName": "Racle He",
      "photoUrl": "https://lh5.googleusercontent.com/-duAtIP62aCM/AAAAAAAAAAI/AAAAAAAAABU/2UGgZTjRHOg/s64/photo.jpg",
      "userId": "10673173760458122172"
     },
     "user_tz": -480
    },
    "id": "mKVVSTyfBl7W",
    "outputId": "5f3c72ca-139c-4bc4-da61-6176604f4894"
   },
   "outputs": [
    {
     "data": {
      "text/plain": [
       "'<doc id=\"13\" url=\"https://zh.wikipedia.org/wiki?curid=13\" title=\"数学\">\\n数学\\n\\n数学是利用符号语言研究数量、结构、变化以及空间等概念的一门学科，从某种角度看属于形式科学的一种。数学透过抽象化和逻辑推理的使用，由计数、计算、量度和对物体形状及运动的观察而产生。数学家们拓展这些概念，为了公式化新的猜想以及从选定的公理及定义中建立起严谨'"
      ]
     },
     "execution_count": 12,
     "metadata": {},
     "output_type": "execute_result"
    }
   ],
   "source": [
    "Simplified_txt[:200]"
   ]
  },
  {
   "cell_type": "markdown",
   "metadata": {
    "colab_type": "text",
    "id": "uuVtvzHz-q0I"
   },
   "source": [
    "### gensim"
   ]
  },
  {
   "cell_type": "code",
   "execution_count": 13,
   "metadata": {
    "colab": {},
    "colab_type": "code",
    "id": "g7EID32_68jP"
   },
   "outputs": [],
   "source": [
    "import re\n",
    "from multiprocessing import Pool, Manager\n",
    "\n",
    "def preprocessing(txt, pattern, queue):\n",
    "    re_tokens = re.findall(pattern, txt)\n",
    "    queue.put(re_tokens)\n",
    "\n",
    "tokens = []\n",
    "def multipro(txt):\n",
    "    \" \"\n",
    "    pool = Pool(10)\n",
    "    queue = Manager().Queue()\n",
    "\n",
    "    step = int(len(Simplified_txt) / 10)\n",
    "    for i in range(10):\n",
    "        txt = Simplified_txt[i * step : (i+1) * step]\n",
    "        pool.apply_async(preprocessing, args=(txt, r'[\\u4e00-\\u9fa5]+', queue))\n",
    "    \n",
    "    i = 0\n",
    "    while i < 10:\n",
    "        token = queue.get()\n",
    "        # print(token[:10])\n",
    "        tokens.extend(token)\n",
    "        i += 1\n",
    "        print('\\r{}%'.format(i / 10 * 100), end='')\n",
    "\n",
    "    pool.close()\n",
    "    pool.join()"
   ]
  },
  {
   "cell_type": "code",
   "execution_count": 14,
   "metadata": {
    "colab": {
     "base_uri": "https://localhost:8080/",
     "height": 35
    },
    "colab_type": "code",
    "executionInfo": {
     "elapsed": 74073,
     "status": "ok",
     "timestamp": 1565368902067,
     "user": {
      "displayName": "Racle He",
      "photoUrl": "https://lh5.googleusercontent.com/-duAtIP62aCM/AAAAAAAAAAI/AAAAAAAAABU/2UGgZTjRHOg/s64/photo.jpg",
      "userId": "10673173760458122172"
     },
     "user_tz": -480
    },
    "id": "zaaK_jE6JVf0",
    "outputId": "8ed3fdd8-f89e-433a-c42d-f020f91875f3"
   },
   "outputs": [
    {
     "name": "stdout",
     "output_type": "stream",
     "text": [
      "100.0%"
     ]
    }
   ],
   "source": [
    "multipro(Simplified_txt)"
   ]
  },
  {
   "cell_type": "code",
   "execution_count": 16,
   "metadata": {
    "colab": {
     "base_uri": "https://localhost:8080/",
     "height": 197
    },
    "colab_type": "code",
    "executionInfo": {
     "elapsed": 882,
     "status": "ok",
     "timestamp": 1565369886322,
     "user": {
      "displayName": "Racle He",
      "photoUrl": "https://lh5.googleusercontent.com/-duAtIP62aCM/AAAAAAAAAAI/AAAAAAAAABU/2UGgZTjRHOg/s64/photo.jpg",
      "userId": "10673173760458122172"
     },
     "user_tz": -480
    },
    "id": "Yq6BugEKLBaT",
    "outputId": "f2871999-f088-428c-93b3-0b54831cff09",
    "scrolled": false
   },
   "outputs": [
    {
     "data": {
      "text/plain": [
       "['数学',\n",
       " '数学',\n",
       " '数学是利用符号语言研究数量',\n",
       " '结构',\n",
       " '变化以及空间等概念的一门学科',\n",
       " '从某种角度看属于形式科学的一种',\n",
       " '数学透过抽象化和逻辑推理的使用',\n",
       " '由计数',\n",
       " '计算',\n",
       " '量度和对物体形状及运动的观察而产生']"
      ]
     },
     "execution_count": 16,
     "metadata": {},
     "output_type": "execute_result"
    }
   ],
   "source": [
    "# del Simplified_txt\n",
    "tokens[:10]"
   ]
  },
  {
   "cell_type": "code",
   "execution_count": 17,
   "metadata": {
    "colab": {},
    "colab_type": "code",
    "id": "CidtIsfFUjaT"
   },
   "outputs": [],
   "source": [
    "# 保存临时文件\n",
    "import pickle\n",
    "\n",
    "with open('tmp.pickle', 'wb') as f:\n",
    "    pickle.dump(tokens, f)"
   ]
  },
  {
   "cell_type": "code",
   "execution_count": 1,
   "metadata": {
    "colab": {},
    "colab_type": "code",
    "id": "J8SmCiMEg9CB"
   },
   "outputs": [],
   "source": [
    "# 加载临时文件\n",
    "import pickle\n",
    "\n",
    "with open('tmp.pickle', 'rb') as f:\n",
    "    tokens = pickle.load(f, encoding='utf-8')"
   ]
  },
  {
   "cell_type": "code",
   "execution_count": 2,
   "metadata": {
    "colab": {
     "base_uri": "https://localhost:8080/",
     "height": 35
    },
    "colab_type": "code",
    "executionInfo": {
     "elapsed": 1180,
     "status": "ok",
     "timestamp": 1565406949456,
     "user": {
      "displayName": "Racle He",
      "photoUrl": "https://lh5.googleusercontent.com/-duAtIP62aCM/AAAAAAAAAAI/AAAAAAAAABU/2UGgZTjRHOg/s64/photo.jpg",
      "userId": "10673173760458122172"
     },
     "user_tz": -480
    },
    "id": "wmOaPuXOa-aY",
    "outputId": "8092bff6-b5b7-43c3-bcd5-9de1acffa7c9",
    "scrolled": false
   },
   "outputs": [
    {
     "data": {
      "text/plain": [
       "47994811"
      ]
     },
     "execution_count": 2,
     "metadata": {},
     "output_type": "execute_result"
    }
   ],
   "source": [
    "len(tokens)"
   ]
  },
  {
   "cell_type": "code",
   "execution_count": 3,
   "metadata": {},
   "outputs": [
    {
     "data": {
      "text/plain": [
       "['数学',\n",
       " '数学',\n",
       " '数学是利用符号语言研究数量',\n",
       " '结构',\n",
       " '变化以及空间等概念的一门学科',\n",
       " '从某种角度看属于形式科学的一种',\n",
       " '数学透过抽象化和逻辑推理的使用',\n",
       " '由计数',\n",
       " '计算',\n",
       " '量度和对物体形状及运动的观察而产生']"
      ]
     },
     "execution_count": 3,
     "metadata": {},
     "output_type": "execute_result"
    }
   ],
   "source": [
    "tokens[:10]"
   ]
  },
  {
   "cell_type": "code",
   "execution_count": 8,
   "metadata": {
    "colab": {
     "base_uri": "https://localhost:8080/",
     "height": 35
    },
    "colab_type": "code",
    "id": "0vBTgbhXNLwK",
    "outputId": "905408ad-c4f2-471f-e1fe-aa7dc5677632"
   },
   "outputs": [],
   "source": [
    "import jieba\n",
    "import tqdm\n",
    "\n",
    "# jieba.enable_parallel(2)\n",
    "sentence_list = []\n",
    "with open('sentences.txt', 'a', encoding='utf-8') as f: \n",
    "    for i in tqdm.trange(0, int(len(tokens) / 100)):\n",
    "\n",
    "        tokens_gen =  ' '.join(jieba.cut(' '.join(tokens[i * 100 : (i+1) * 100])))\n",
    "        f.write(tokens_gen + '\\n')\n",
    "        sentence_list.append(tokens_gen) \n",
    "\n",
    "        if i == int(len(tokens) / 100) - 1:\n",
    "            tokens_gen = ' '.join(jieba.cut(' '.join(tokens[(i+1) * 100 : ])))\n",
    "            f.write(tokens_gen + '\\n')\n",
    "            sentence_list.append(tokens_gen) "
   ]
  },
  {
   "cell_type": "code",
   "execution_count": 11,
   "metadata": {},
   "outputs": [
    {
     "name": "stdout",
     "output_type": "stream",
     "text": [
      "['实为 自愿 入 黑暗 位面   从 黑暗 圣女 确认 为 新任 黑暗 王   伊之纱   前任 神女   叶心 夏 父亲 文泰 的 妹妹   现任 帕特农 神女 候选人   有 极大 的 野心   试图 通过 复活 神术 来 达到 操纵 所有 人类 强大 的 势力 的 目的   十四年 前 由于 帕特农 神魂 没有 降临到 自己 身上 而是 降临到 了 文泰 身上 而 对 文泰 产生 了 极大 的 妒忌   设计 使用 黑暗 圣裁 杀死 文泰 夺取 帕特农 神魂   但']\n",
      "1\n"
     ]
    }
   ],
   "source": [
    "print(sentence_list[-5:])\n",
    "print(len(sentence_list))"
   ]
  },
  {
   "cell_type": "markdown",
   "metadata": {},
   "source": [
    "#### gensim训练"
   ]
  },
  {
   "cell_type": "code",
   "execution_count": 6,
   "metadata": {
    "colab": {},
    "colab_type": "code",
    "id": "s4K4fe3g-fwV",
    "scrolled": true
   },
   "outputs": [],
   "source": [
    "from gensim.models import Word2Vec\n",
    "from gensim.models.word2vec import LineSentence"
   ]
  },
  {
   "cell_type": "code",
   "execution_count": 12,
   "metadata": {
    "colab": {},
    "colab_type": "code",
    "id": "s4K4fe3g-fwV",
    "scrolled": true
   },
   "outputs": [
    {
     "name": "stdout",
     "output_type": "stream",
     "text": [
      "CPU times: user 3 µs, sys: 0 ns, total: 3 µs\n",
      "Wall time: 7.15 µs\n"
     ]
    }
   ],
   "source": [
    "%time\n",
    "sentences = LineSentence('sentences.txt')"
   ]
  },
  {
   "cell_type": "code",
   "execution_count": 14,
   "metadata": {
    "colab": {},
    "colab_type": "code",
    "id": "s4K4fe3g-fwV"
   },
   "outputs": [],
   "source": [
    "#min_count：忽略频率低于改值的词\n",
    "#size：训练的词向量的长度\n",
    "model = Word2Vec(sentences, min_count=5, size=200, workers=6)"
   ]
  },
  {
   "cell_type": "code",
   "execution_count": 21,
   "metadata": {},
   "outputs": [
    {
     "ename": "SyntaxError",
     "evalue": "invalid character in identifier (<ipython-input-21-ea573f08a5d9>, line 1)",
     "output_type": "error",
     "traceback": [
      "\u001b[0;36m  File \u001b[0;32m\"<ipython-input-21-ea573f08a5d9>\"\u001b[0;36m, line \u001b[0;32m1\u001b[0m\n\u001b[0;31m    model.most_similar('你好'，topn=20)\u001b[0m\n\u001b[0m                               ^\u001b[0m\n\u001b[0;31mSyntaxError\u001b[0m\u001b[0;31m:\u001b[0m invalid character in identifier\n"
     ]
    }
   ],
   "source": [
    "model.most_similar('你好'，topn=20)"
   ]
  },
  {
   "cell_type": "code",
   "execution_count": 26,
   "metadata": {},
   "outputs": [
    {
     "name": "stderr",
     "output_type": "stream",
     "text": [
      "/home/racleme3/anaconda3/lib/python3.6/site-packages/ipykernel_launcher.py:1: DeprecationWarning: Call to deprecated `most_similar` (Method will be removed in 4.0.0, use self.wv.most_similar() instead).\n",
      "  \"\"\"Entry point for launching an IPython kernel.\n"
     ]
    },
    {
     "data": {
      "text/plain": [
       "[('虎贲', 0.7116403579711914),\n",
       " ('中军', 0.6938284635543823),\n",
       " ('马军', 0.6936951279640198),\n",
       " ('下军', 0.6582335233688354),\n",
       " ('六军', 0.6538777351379395),\n",
       " ('五威', 0.6505539417266846),\n",
       " ('统军', 0.6487195491790771),\n",
       " ('军马', 0.6487146615982056),\n",
       " ('左军', 0.6485307216644287),\n",
       " ('诸军', 0.6386147141456604)]"
      ]
     },
     "execution_count": 26,
     "metadata": {},
     "output_type": "execute_result"
    }
   ],
   "source": [
    "model.most_similar('帅')"
   ]
  },
  {
   "cell_type": "code",
   "execution_count": 17,
   "metadata": {},
   "outputs": [],
   "source": [
    "word_vectors = model.wv"
   ]
  },
  {
   "cell_type": "code",
   "execution_count": 22,
   "metadata": {},
   "outputs": [
    {
     "data": {
      "text/plain": [
       "array([ 0.31431022, -0.49659508, -0.41180485, -0.9388593 ,  1.1792672 ,\n",
       "       -0.68977827,  1.6992861 , -0.23453262, -0.67727226,  0.976191  ,\n",
       "        0.16994295, -0.27437338,  0.56341237,  0.44257885,  0.24988951,\n",
       "        0.9972586 ,  0.77312094, -0.62149525, -0.28615594, -0.03804397,\n",
       "        0.47982404,  0.41198653,  0.73709136,  0.01349468, -0.30985498,\n",
       "        2.0627558 ,  0.01506568, -0.7384937 , -0.85345733,  1.9329855 ,\n",
       "        0.04097642,  0.36355823,  0.46070406, -0.48479882,  0.0665291 ,\n",
       "        1.4704207 ,  0.656128  , -0.14783195, -0.39312753, -0.33782053,\n",
       "        0.9794409 , -0.1612481 , -0.4890576 , -1.0449501 ,  1.0866667 ,\n",
       "       -0.31846702,  1.0449609 , -0.08068615,  0.88902146, -0.2146927 ,\n",
       "       -0.31309587,  0.0656997 , -0.32980585, -0.03476756, -0.8022183 ,\n",
       "        1.0568886 ,  0.4411424 , -0.89434737,  1.1862843 ,  0.55774057,\n",
       "        1.8298851 , -1.0133578 , -1.6699753 ,  1.0041021 , -0.5227925 ,\n",
       "        0.6669368 ,  0.8731735 ,  1.0764211 ,  1.1917291 , -1.0713569 ,\n",
       "       -0.670179  , -1.3220019 , -0.11781947, -1.4308963 ,  0.26957166,\n",
       "       -0.33116958, -0.19810946, -1.1881975 , -1.0034842 , -0.4880975 ,\n",
       "        0.7165145 ,  0.20197214, -0.87404615, -1.2826967 ,  1.5619049 ,\n",
       "        0.7042156 , -0.5251059 , -0.16827962, -1.2105595 , -1.2001929 ,\n",
       "       -0.55365235,  0.44326028,  0.44250873, -0.30737928,  1.2849431 ,\n",
       "       -1.8668399 ,  1.3204062 , -0.8865    ,  0.8990089 ,  1.2319747 ,\n",
       "       -0.3710756 , -1.3930132 , -0.03938591,  1.069575  , -0.6795819 ,\n",
       "       -1.4848384 ,  1.2783622 , -0.47887912, -0.41781193,  0.6812794 ,\n",
       "        0.69624853, -1.226791  , -0.3727119 ,  0.12892151,  0.5205758 ,\n",
       "        0.46544296, -0.31944624, -1.275497  , -0.6762951 ,  1.7424281 ,\n",
       "       -2.09944   , -1.6853626 , -0.60413325,  0.1400825 , -2.3748317 ,\n",
       "       -0.32260796,  0.4247374 ,  0.63092405, -1.0664383 , -1.2144622 ,\n",
       "        0.5864229 , -0.64692354,  0.33030146,  0.00865893, -0.6776544 ,\n",
       "        0.9365104 ,  0.777674  ,  0.5681679 ,  1.1354483 , -0.89862293,\n",
       "       -0.6414191 , -0.63694906,  0.95523477, -1.3717687 , -0.54286987,\n",
       "       -0.03389372, -0.6050805 , -1.1892585 , -0.31625792, -0.10611682,\n",
       "        1.1904922 , -0.8703593 ,  0.31030583,  0.1598531 , -0.08725152,\n",
       "        2.2342334 , -1.3439637 , -0.6633121 , -0.2896137 ,  0.6896178 ,\n",
       "        0.80533904, -1.7770953 , -0.10937396,  0.04978505,  1.0421438 ,\n",
       "        0.6845539 , -0.16585036, -0.30829346,  0.5137373 ,  1.0581266 ,\n",
       "        1.1281914 ,  0.5571191 ,  1.0472046 ,  0.22438562,  0.5077674 ,\n",
       "       -0.7980665 ,  0.05005562, -1.6174204 , -0.34817818, -0.40885505,\n",
       "        0.7492044 ,  1.4534523 ,  0.5659607 , -0.40459836,  1.2996668 ,\n",
       "       -0.3000414 , -0.6107532 ,  1.2114865 ,  1.923098  ,  0.3992569 ,\n",
       "        0.37400612, -0.23485868, -0.68994415,  0.89912117,  0.8106868 ,\n",
       "       -0.4827946 ,  1.5940706 , -1.3419448 ,  0.93253094, -0.1170421 ],\n",
       "      dtype=float32)"
      ]
     },
     "execution_count": 22,
     "metadata": {},
     "output_type": "execute_result"
    }
   ],
   "source": [
    "word_vectors.get_vector('库里')"
   ]
  },
  {
   "cell_type": "code",
   "execution_count": 27,
   "metadata": {},
   "outputs": [],
   "source": [
    "# 保存一\n",
    "model.save('word2vec_model_200v.w2v')\n",
    "\n",
    "# from gensim.test.utils import datapath\n",
    "\n",
    "# news_model_1 = Word2Vec.load('')"
   ]
  },
  {
   "cell_type": "code",
   "execution_count": 28,
   "metadata": {},
   "outputs": [],
   "source": [
    "# 保存二\n",
    "word_vectors.save('word2vec_keyvector_200v.w2v')\n",
    "\n",
    "# from gensim.models import KeyedVectors\n",
    "\n",
    "# word_vectors_1 = KeyedVectors.load('')\n",
    "\n",
    "# or\n",
    "# word_vectors.save_word2vec_format(\"word2vec_model_5.txt\", binary=True)\n",
    "# word2vec = KeyedVectors.load_word2vec_format(path)"
   ]
  },
  {
   "cell_type": "markdown",
   "metadata": {},
   "source": [
    "```python\n",
    ">>> import gensim.downloader as api\n",
    ">>>\n",
    ">>> word_vectors = api.load(\"glove-wiki-gigaword-100\")  # load pre-trained word-vectors from gensim-data\n",
    ">>>\n",
    ">>> result = word_vectors.most_similar(positive=['woman', 'king'], negative=['man'])\n",
    ">>> print(\"{}: {:.4f}\".format(*result[0]))\n",
    "queen: 0.7699\n",
    ">>>\n",
    ">>> result = word_vectors.most_similar_cosmul(positive=['woman', 'king'], negative=['man'])\n",
    ">>> print(\"{}: {:.4f}\".format(*result[0]))\n",
    "queen: 0.8965\n",
    ">>>\n",
    ">>> print(word_vectors.doesnt_match(\"breakfast cereal dinner lunch\".split()))\n",
    "cereal\n",
    ">>>\n",
    ">>> similarity = word_vectors.similarity('woman', 'man')\n",
    ">>> similarity > 0.8\n",
    "True\n",
    ">>>\n",
    ">>> result = word_vectors.similar_by_word(\"cat\")\n",
    ">>> print(\"{}: {:.4f}\".format(*result[0]))\n",
    "dog: 0.8798\n",
    ">>>\n",
    ">>> sentence_obama = 'Obama speaks to the media in Illinois'.lower().split()\n",
    ">>> sentence_president = 'The president greets the press in Chicago'.lower().split()\n",
    ">>>\n",
    ">>> similarity = word_vectors.wmdistance(sentence_obama, sentence_president)\n",
    ">>> print(\"{:.4f}\".format(similarity))\n",
    "3.4893\n",
    ">>>\n",
    ">>> distance = word_vectors.distance(\"media\", \"media\")\n",
    ">>> print(\"{:.1f}\".format(distance))\n",
    "0.0\n",
    ">>>\n",
    ">>> sim = word_vectors.n_similarity(['sushi', 'shop'], ['japanese', 'restaurant'])\n",
    ">>> print(\"{:.4f}\".format(sim))\n",
    "0.7067\n",
    ">>>\n",
    ">>> vector = word_vectors['computer']  # numpy vector of a word\n",
    ">>> vector.shape\n",
    "(100,)\n",
    ">>>\n",
    ">>> vector = word_vectors.wv.word_vec('office', use_norm=True)\n",
    ">>> vector.shape\n",
    "(100,)\n",
    "\n",
    "# Correlation with human opinion on word similarity\n",
    ">>> from gensim.test.utils import datapath\n",
    ">>>\n",
    ">>> similarities = model.wv.evaluate_word_pairs(datapath('wordsim353.tsv'))\n",
    "\n",
    "\n",
    ">>> analogy_scores = model.wv.evaluate_word_analogies(datapath('questions-words.txt'))\n",
    "```"
   ]
  },
  {
   "cell_type": "markdown",
   "metadata": {
    "colab_type": "text",
    "id": "PwAocQ_3_JEF"
   },
   "source": [
    "### T-SEN"
   ]
  },
  {
   "cell_type": "code",
   "execution_count": 0,
   "metadata": {
    "colab": {},
    "colab_type": "code",
    "id": "TnJsRYyb_ITb"
   },
   "outputs": [],
   "source": [
    "from sklearn.manifold import TSNE\n",
    "import matplotlib.pyplot as plt\n",
    "%matplotlib inline\n",
    "\n",
    "\n",
    "def tsne_plot(model):\n",
    "    \"Creates and TSNE model and plots it\"\n",
    "    labels = []\n",
    "    tokens = []\n",
    "    \n",
    "    num = 0\n",
    "    for word in model.wv.vocab:\n",
    "        tokens.append(model[word])\n",
    "        labels.append(word)\n",
    "        num += 1\n",
    "        if num == 100:\n",
    "            break\n",
    "    \n",
    "    tsne_model = TSNE(perplexity=40, n_components=2, init='pca', n_iter=2500, random_state=23)\n",
    "    new_values = tsne_model.fit_transform(tokens)\n",
    "\n",
    "    x = []\n",
    "    y = []\n",
    "    for value in new_values:\n",
    "        x.append(value[0])\n",
    "        y.append(value[1])\n",
    "        \n",
    "    plt.figure(figsize=(16, 16)) \n",
    "    for i in range(len(x)):\n",
    "        plt.scatter(x[i],y[i])\n",
    "        plt.annotate(labels[i],\n",
    "                     xy=(x[i], y[i]),\n",
    "                     xytext=(5, 2),\n",
    "                     textcoords='offset points',\n",
    "                     ha='right',\n",
    "                     va='bottom')\n",
    "    plt.show()"
   ]
  }
 ],
 "metadata": {
  "accelerator": "GPU",
  "colab": {
   "collapsed_sections": [
    "5p_bbSzk_bgq"
   ],
   "machine_shape": "hm",
   "name": "word2vec.ipynb",
   "provenance": [],
   "toc_visible": true,
   "version": "0.3.2"
  },
  "kernelspec": {
   "display_name": "Python 3",
   "language": "python",
   "name": "python3"
  },
  "language_info": {
   "codemirror_mode": {
    "name": "ipython",
    "version": 3
   },
   "file_extension": ".py",
   "mimetype": "text/x-python",
   "name": "python",
   "nbconvert_exporter": "python",
   "pygments_lexer": "ipython3",
   "version": "3.6.9"
  }
 },
 "nbformat": 4,
 "nbformat_minor": 1
}
