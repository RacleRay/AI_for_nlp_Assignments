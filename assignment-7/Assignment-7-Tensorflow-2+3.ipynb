{
 "cells": [
  {
   "cell_type": "code",
   "execution_count": 2,
   "metadata": {
    "ExecuteTime": {
     "end_time": "2019-09-20T15:17:40.400912Z",
     "start_time": "2019-09-20T15:17:40.379992Z"
    }
   },
   "outputs": [],
   "source": [
    "from __future__ import print_function\n",
    "import numpy as np\n",
    "import tensorflow as tf\n",
    "from six.moves import cPickle as pickle\n",
    "from six.moves import range"
   ]
  },
  {
   "cell_type": "code",
   "execution_count": 3,
   "metadata": {
    "ExecuteTime": {
     "end_time": "2019-09-20T15:17:59.224072Z",
     "start_time": "2019-09-20T15:17:58.366964Z"
    }
   },
   "outputs": [
    {
     "name": "stdout",
     "output_type": "stream",
     "text": [
      "Training set (200000, 28, 28) (200000,)\n",
      "Validation set (8933, 28, 28) (8933,)\n",
      "Test set (8676, 28, 28) (8676,)\n"
     ]
    }
   ],
   "source": [
    "pickle_file = 'notMNIST_sanitized.pickle'\n",
    "\n",
    "with open(pickle_file, 'rb') as f:\n",
    "    save = pickle.load(f)\n",
    "    train_dataset = save['train_dataset']\n",
    "    train_labels = save['train_labels']\n",
    "    valid_dataset = save['valid_dataset']\n",
    "    valid_labels = save['valid_labels']\n",
    "    test_dataset = save['test_dataset']\n",
    "    test_labels = save['test_labels']\n",
    "    del save  # hint to help gc free up memory\n",
    "    print('Training set', train_dataset.shape, train_labels.shape)\n",
    "    print('Validation set', valid_dataset.shape, valid_labels.shape)\n",
    "    print('Test set', test_dataset.shape, test_labels.shape)"
   ]
  },
  {
   "cell_type": "markdown",
   "metadata": {},
   "source": [
    "Reformat into a shape that's more adapted to the models we're going to train:\n",
    "\n",
    "- data as a flat matrix,\n",
    "- labels as float 1-hot encodings."
   ]
  },
  {
   "cell_type": "code",
   "execution_count": 4,
   "metadata": {
    "ExecuteTime": {
     "end_time": "2019-09-20T15:18:31.331415Z",
     "start_time": "2019-09-20T15:18:29.648977Z"
    }
   },
   "outputs": [
    {
     "name": "stdout",
     "output_type": "stream",
     "text": [
      "Training set (200000, 784) (200000, 10)\n",
      "Validation set (8933, 784) (8933, 10)\n",
      "Test set (8676, 784) (8676, 10)\n"
     ]
    }
   ],
   "source": [
    "image_size = 28\n",
    "num_labels = 10\n",
    "\n",
    "\n",
    "def reformat(dataset, labels):\n",
    "    dataset = dataset.reshape((-1, image_size * image_size)).astype(np.float32)\n",
    "    # Map 0 to [1.0, 0.0, 0.0 ...], 1 to [0.0, 1.0, 0.0 ...]\n",
    "    labels = (np.arange(num_labels) == labels[:, None]).astype(np.float32)\n",
    "    return dataset, labels\n",
    "\n",
    "\n",
    "train_dataset, train_labels = reformat(train_dataset, train_labels)\n",
    "valid_dataset, valid_labels = reformat(valid_dataset, valid_labels)\n",
    "test_dataset, test_labels = reformat(test_dataset, test_labels)\n",
    "print('Training set', train_dataset.shape, train_labels.shape)\n",
    "print('Validation set', valid_dataset.shape, valid_labels.shape)\n",
    "print('Test set', test_dataset.shape, test_labels.shape)"
   ]
  },
  {
   "cell_type": "markdown",
   "metadata": {},
   "source": [
    "Let's load all the data into TensorFlow and build the computation graph corresponding to our training:"
   ]
  },
  {
   "cell_type": "code",
   "execution_count": 5,
   "metadata": {
    "ExecuteTime": {
     "end_time": "2019-09-20T15:21:17.462343Z",
     "start_time": "2019-09-20T15:21:13.099719Z"
    }
   },
   "outputs": [
    {
     "name": "stdout",
     "output_type": "stream",
     "text": [
      "WARNING:tensorflow:From <ipython-input-5-a4b89a6269a3>:32: softmax_cross_entropy_with_logits (from tensorflow.python.ops.nn_ops) is deprecated and will be removed in a future version.\n",
      "Instructions for updating:\n",
      "\n",
      "Future major versions of TensorFlow will allow gradients to flow\n",
      "into the labels input on backprop by default.\n",
      "\n",
      "See @{tf.nn.softmax_cross_entropy_with_logits_v2}.\n",
      "\n"
     ]
    }
   ],
   "source": [
    "# With gradient descent training, even this much data is prohibitive.\n",
    "# Subset the training data for faster turnaround.\n",
    "train_subset = 10000\n",
    "\n",
    "graph = tf.Graph()\n",
    "with graph.as_default():\n",
    "\n",
    "    # Input data.\n",
    "    # Load the training, validation and test data into constants that are\n",
    "    # attached to the graph.\n",
    "    tf_train_dataset = tf.constant(train_dataset[:train_subset, :])\n",
    "    tf_train_labels = tf.constant(train_labels[:train_subset])\n",
    "    tf_valid_dataset = tf.constant(valid_dataset)\n",
    "    tf_test_dataset = tf.constant(test_dataset)\n",
    "\n",
    "    # Variables.\n",
    "    # These are the parameters that we are going to be training. The weight\n",
    "    # matrix will be initialized using random values following a (truncated)\n",
    "    # normal distribution. The biases get initialized to zero.\n",
    "    weights = tf.Variable(\n",
    "        tf.truncated_normal([image_size * image_size, num_labels]))\n",
    "    biases = tf.Variable(tf.zeros([num_labels]))\n",
    "\n",
    "    # Training computation.\n",
    "    # We multiply the inputs with the weight matrix, and add biases. We compute\n",
    "    # the softmax and cross-entropy (it's one operation in TensorFlow, because\n",
    "    # it's very common, and it can be optimized). We take the average of this\n",
    "    # cross-entropy across all training examples: that's our loss.\n",
    "    logits = tf.matmul(tf_train_dataset, weights) + biases\n",
    "    loss = tf.reduce_mean(\n",
    "        tf.nn.softmax_cross_entropy_with_logits(labels=tf_train_labels,\n",
    "                                                logits=logits))\n",
    "\n",
    "    # Optimizer.\n",
    "    # We are going to find the minimum of this loss using gradient descent.\n",
    "    optimizer = tf.train.GradientDescentOptimizer(0.5).minimize(loss)\n",
    "\n",
    "    # Predictions for the training, validation, and test data.\n",
    "    # These are not part of training, but merely here so that we can report\n",
    "    # accuracy figures as we train.\n",
    "    train_prediction = tf.nn.softmax(logits)\n",
    "    valid_prediction = tf.nn.softmax(\n",
    "        tf.matmul(tf_valid_dataset, weights) + biases)\n",
    "    test_prediction = tf.nn.softmax(\n",
    "        tf.matmul(tf_test_dataset, weights) + biases)"
   ]
  },
  {
   "cell_type": "markdown",
   "metadata": {},
   "source": [
    "Let's run this computation and iterate:"
   ]
  },
  {
   "cell_type": "code",
   "execution_count": 7,
   "metadata": {
    "ExecuteTime": {
     "end_time": "2019-09-20T15:24:28.658462Z",
     "start_time": "2019-09-20T15:24:18.827108Z"
    }
   },
   "outputs": [
    {
     "name": "stdout",
     "output_type": "stream",
     "text": [
      "Initialized\n",
      "Loss at step 0: 18.296728\n",
      "Training accuracy: 5.7%\n",
      "Validation accuracy: 9.0%\n",
      "Loss at step 100: 2.289851\n",
      "Training accuracy: 71.6%\n",
      "Validation accuracy: 69.5%\n",
      "Loss at step 200: 1.852584\n",
      "Training accuracy: 74.7%\n",
      "Validation accuracy: 71.7%\n",
      "Loss at step 300: 1.614621\n",
      "Training accuracy: 76.1%\n",
      "Validation accuracy: 72.3%\n",
      "Loss at step 400: 1.453194\n",
      "Training accuracy: 76.9%\n",
      "Validation accuracy: 72.7%\n",
      "Loss at step 500: 1.333391\n",
      "Training accuracy: 77.7%\n",
      "Validation accuracy: 72.9%\n",
      "Loss at step 600: 1.239272\n",
      "Training accuracy: 78.2%\n",
      "Validation accuracy: 73.0%\n",
      "Loss at step 700: 1.162593\n",
      "Training accuracy: 78.9%\n",
      "Validation accuracy: 73.3%\n",
      "Loss at step 800: 1.098466\n",
      "Training accuracy: 79.3%\n",
      "Validation accuracy: 73.6%\n",
      "Test accuracy: 81.5%\n"
     ]
    }
   ],
   "source": [
    "num_steps = 801\n",
    "\n",
    "\n",
    "def accuracy(predictions, labels):\n",
    "    return (100.0 * np.sum(np.argmax(predictions, 1) == np.argmax(labels, 1)) /\n",
    "            predictions.shape[0])\n",
    "\n",
    "\n",
    "with tf.Session(graph=graph) as session:\n",
    "    # This is a one-time operation which ensures the parameters get initialized as\n",
    "    # we described in the graph: random weights for the matrix, zeros for the\n",
    "    # biases.\n",
    "    tf.global_variables_initializer().run()\n",
    "    print('Initialized')\n",
    "    for step in range(num_steps):\n",
    "        # Run the computations. We tell .run() that we want to run the optimizer,\n",
    "        # and get the loss value and the training predictions returned as numpy\n",
    "        # arrays.\n",
    "        _, l, predictions = session.run([optimizer, loss, train_prediction])\n",
    "        if (step % 100 == 0):\n",
    "            print('Loss at step %d: %f' % (step, l))\n",
    "            print('Training accuracy: %.1f%%' %\n",
    "                  accuracy(predictions, train_labels[:train_subset, :]))\n",
    "            # Calling .eval() on valid_prediction is basically like calling run(), but\n",
    "            # just to get that one numpy array. Note that it recomputes all its graph\n",
    "            # dependencies.\n",
    "            print('Validation accuracy: %.1f%%' %\n",
    "                  accuracy(valid_prediction.eval(), valid_labels))\n",
    "    print('Test accuracy: %.1f%%' %\n",
    "          accuracy(test_prediction.eval(), test_labels))"
   ]
  },
  {
   "cell_type": "markdown",
   "metadata": {},
   "source": [
    "Let's now switch to stochastic gradient descent training instead, which is much faster.\n",
    "\n",
    "The graph will be similar, except that instead of holding all the training data into a constant node, we create a Placeholder node which will be fed actual data at every call of session.run()."
   ]
  },
  {
   "cell_type": "code",
   "execution_count": 8,
   "metadata": {
    "ExecuteTime": {
     "end_time": "2019-09-20T15:26:09.253139Z",
     "start_time": "2019-09-20T15:26:08.718925Z"
    }
   },
   "outputs": [],
   "source": [
    "batch_size = 128\n",
    "\n",
    "graph = tf.Graph()\n",
    "with graph.as_default():\n",
    "\n",
    "    # Input data. For the training data, we use a placeholder that will be fed\n",
    "    # at run time with a training minibatch.\n",
    "    tf_train_dataset = tf.placeholder(tf.float32,\n",
    "                                      shape=(batch_size,\n",
    "                                             image_size * image_size))\n",
    "    tf_train_labels = tf.placeholder(tf.float32,\n",
    "                                     shape=(batch_size, num_labels))\n",
    "    tf_valid_dataset = tf.constant(valid_dataset)\n",
    "    tf_test_dataset = tf.constant(test_dataset)\n",
    "\n",
    "    # Variables.\n",
    "    weights = tf.Variable(\n",
    "        tf.truncated_normal([image_size * image_size, num_labels]))\n",
    "    biases = tf.Variable(tf.zeros([num_labels]))\n",
    "\n",
    "    # Training computation.\n",
    "    logits = tf.matmul(tf_train_dataset, weights) + biases\n",
    "    loss = tf.reduce_mean(\n",
    "        tf.nn.softmax_cross_entropy_with_logits(labels=tf_train_labels,\n",
    "                                                logits=logits))\n",
    "\n",
    "    # Optimizer.\n",
    "    optimizer = tf.train.GradientDescentOptimizer(0.5).minimize(loss)\n",
    "\n",
    "    # Predictions for the training, validation, and test data.\n",
    "    train_prediction = tf.nn.softmax(logits)\n",
    "    valid_prediction = tf.nn.softmax(\n",
    "        tf.matmul(tf_valid_dataset, weights) + biases)\n",
    "    test_prediction = tf.nn.softmax(\n",
    "        tf.matmul(tf_test_dataset, weights) + biases)"
   ]
  },
  {
   "cell_type": "code",
   "execution_count": 9,
   "metadata": {
    "ExecuteTime": {
     "end_time": "2019-09-20T15:28:11.655021Z",
     "start_time": "2019-09-20T15:28:03.088281Z"
    }
   },
   "outputs": [
    {
     "name": "stdout",
     "output_type": "stream",
     "text": [
      "Initialized\n",
      "Minibatch loss at step 0: 17.001106\n",
      "Minibatch accuracy: 14.1%\n",
      "Validation accuracy: 18.4%\n",
      "Minibatch loss at step 500: 0.957261\n",
      "Minibatch accuracy: 81.2%\n",
      "Validation accuracy: 74.4%\n",
      "Minibatch loss at step 1000: 1.223871\n",
      "Minibatch accuracy: 77.3%\n",
      "Validation accuracy: 75.7%\n",
      "Minibatch loss at step 1500: 0.910966\n",
      "Minibatch accuracy: 81.2%\n",
      "Validation accuracy: 76.6%\n",
      "Minibatch loss at step 2000: 0.832549\n",
      "Minibatch accuracy: 81.2%\n",
      "Validation accuracy: 76.5%\n",
      "Minibatch loss at step 2500: 0.965528\n",
      "Minibatch accuracy: 78.1%\n",
      "Validation accuracy: 77.5%\n",
      "Minibatch loss at step 3000: 0.900832\n",
      "Minibatch accuracy: 79.7%\n",
      "Validation accuracy: 77.6%\n",
      "Test accuracy: 85.2%\n"
     ]
    }
   ],
   "source": [
    "num_steps = 3001\n",
    "\n",
    "with tf.Session(graph=graph) as session:\n",
    "    tf.global_variables_initializer().run()\n",
    "    print(\"Initialized\")\n",
    "    for step in range(num_steps):\n",
    "        # Pick an offset within the training data, which has been randomized.\n",
    "        # Note: we could use better randomization across epochs.\n",
    "        offset = (step * batch_size) % (train_labels.shape[0] - batch_size)\n",
    "        # Generate a minibatch.\n",
    "        batch_data = train_dataset[offset:(offset + batch_size), :]\n",
    "        batch_labels = train_labels[offset:(offset + batch_size), :]\n",
    "        # Prepare a dictionary telling the session where to feed the minibatch.\n",
    "        # The key of the dictionary is the placeholder node of the graph to be fed,\n",
    "        # and the value is the numpy array to feed to it.\n",
    "        feed_dict = {\n",
    "            tf_train_dataset: batch_data,\n",
    "            tf_train_labels: batch_labels\n",
    "        }\n",
    "        _, l, predictions = session.run([optimizer, loss, train_prediction],\n",
    "                                        feed_dict=feed_dict)\n",
    "        \n",
    "        if (step % 500 == 0):\n",
    "            print(\"Minibatch loss at step %d: %f\" % (step, l))\n",
    "            print(\"Minibatch accuracy: %.1f%%\" %\n",
    "                  accuracy(predictions, batch_labels))\n",
    "            print(\"Validation accuracy: %.1f%%\" %\n",
    "                  accuracy(valid_prediction.eval(), valid_labels))\n",
    "    \n",
    "    print(\"Test accuracy: %.1f%%\" %\n",
    "          accuracy(test_prediction.eval(), test_labels))"
   ]
  },
  {
   "cell_type": "markdown",
   "metadata": {},
   "source": [
    "Turn the logistic regression example with SGD into a 1-hidden layer neural network with rectified linear units nn.relu() and 1024 hidden nodes. This model should improve your validation / test accuracy."
   ]
  },
  {
   "cell_type": "markdown",
   "metadata": {},
   "source": [
    "### more hidden"
   ]
  },
  {
   "cell_type": "code",
   "execution_count": 10,
   "metadata": {
    "ExecuteTime": {
     "end_time": "2019-09-20T15:31:08.910124Z",
     "start_time": "2019-09-20T15:31:08.285388Z"
    }
   },
   "outputs": [],
   "source": [
    "n_hidden = 1024\n",
    "batch_size = 128\n",
    "\n",
    "g = tf.Graph()\n",
    "with g.as_default():\n",
    "\n",
    "    # Placehodlers for training dataset minibatches\n",
    "    tf_train_dataset = tf.placeholder(np.float32,\n",
    "                                      shape=(batch_size,\n",
    "                                             image_size * image_size))\n",
    "    tf_train_labels = tf.placeholder(np.float32,\n",
    "                                     shape=(batch_size, num_labels))\n",
    "\n",
    "    # Constants for validation and test datasets\n",
    "    tf_valid_dataset = tf.constant(valid_dataset)\n",
    "    tf_test_dataset = tf.constant(test_dataset)\n",
    "\n",
    "    # Define Weights and biases as variables for hidden layer\n",
    "    W_0 = tf.Variable(tf.truncated_normal([image_size * image_size, n_hidden]))\n",
    "    b_0 = tf.Variable(tf.zeros([n_hidden]))\n",
    "\n",
    "    # Define Weights and biases as variables for logistic regression layer\n",
    "    W_1 = tf.Variable(tf.truncated_normal([n_hidden, num_labels]))\n",
    "    b_1 = tf.Variable(tf.zeros([num_labels]))\n",
    "\n",
    "    logits_0 = tf.nn.relu(tf.matmul(tf_train_dataset, W_0) +\n",
    "                          b_0)  # shape will be (batch_size, n_hidden)\n",
    "\n",
    "    logits_1 = tf.matmul(\n",
    "        logits_0, W_1) + b_1  # now the shape is (batch_size, num_labels)\n",
    "\n",
    "    loss = tf.reduce_mean(\n",
    "        tf.nn.softmax_cross_entropy_with_logits(labels=tf_train_labels,\n",
    "                                                logits=logits_1))\n",
    "\n",
    "    optimizer = tf.train.GradientDescentOptimizer(0.5).minimize(loss)\n",
    "\n",
    "    # Predictions\n",
    "    train_prediction = tf.nn.softmax(logits_1)\n",
    "    valid_prediction = tf.nn.softmax(\n",
    "        tf.matmul(tf.nn.relu(tf.matmul(tf_valid_dataset, W_0) + b_0), W_1) +\n",
    "        b_1)\n",
    "    test_prediction = tf.nn.softmax(\n",
    "        tf.matmul(tf.nn.relu(tf.matmul(tf_test_dataset, W_0) + b_0), W_1) +\n",
    "        b_1)"
   ]
  },
  {
   "cell_type": "code",
   "execution_count": 11,
   "metadata": {
    "ExecuteTime": {
     "end_time": "2019-09-20T15:31:59.354211Z",
     "start_time": "2019-09-20T15:31:44.911011Z"
    }
   },
   "outputs": [
    {
     "name": "stdout",
     "output_type": "stream",
     "text": [
      "Initialized\n",
      "Minibatch loss at step 0: 399.977112\n",
      "Minibatch  train and validation accuracy: 11.7%, 26.7%\n",
      "Minibatch loss at step 500: 18.999050\n",
      "Minibatch  train and validation accuracy: 82.8%, 79.4%\n",
      "Minibatch loss at step 1000: 12.634210\n",
      "Minibatch  train and validation accuracy: 77.3%, 80.3%\n",
      "Minibatch loss at step 1500: 6.636210\n",
      "Minibatch  train and validation accuracy: 89.1%, 79.7%\n",
      "Minibatch loss at step 2000: 3.118363\n",
      "Minibatch  train and validation accuracy: 87.5%, 80.4%\n",
      "Minibatch loss at step 2500: 3.528680\n",
      "Minibatch  train and validation accuracy: 84.4%, 81.5%\n",
      "Minibatch loss at step 3000: 3.241815\n",
      "Minibatch  train and validation accuracy: 80.5%, 81.6%\n",
      "Minibatch loss at step 3500: 3.647437\n",
      "Minibatch  train and validation accuracy: 84.4%, 81.1%\n",
      "Minibatch loss at step 4000: 3.906032\n",
      "Minibatch  train and validation accuracy: 85.9%, 81.3%\n",
      "Minibatch loss at step 4500: 5.535872\n",
      "Minibatch  train and validation accuracy: 85.9%, 80.3%\n",
      "Minibatch loss at step 5000: 4.158406\n",
      "Minibatch  train and validation accuracy: 87.5%, 80.8%\n",
      "Test accuracy: 87.9%\n"
     ]
    }
   ],
   "source": [
    "n_steps = 5001  # number of steps to be taken\n",
    "\n",
    "with tf.Session(graph=g) as sess:\n",
    "    tf.global_variables_initializer().run()\n",
    "    print('Initialized')\n",
    "    for step in range(n_steps):\n",
    "\n",
    "        offset = (step * batch_size) % (train_labels.shape[0] - batch_size)\n",
    "\n",
    "        # Prepare minibatch data\n",
    "        batch_data = train_dataset[offset:(offset + batch_size), :]\n",
    "        batch_labels = train_labels[offset:(offset + batch_size), :]\n",
    "\n",
    "        feed_dict = {\n",
    "            tf_train_dataset: batch_data,\n",
    "            tf_train_labels: batch_labels\n",
    "        }\n",
    "        _, l, predictions = sess.run([optimizer, loss, train_prediction],\n",
    "                                     feed_dict=feed_dict)\n",
    "\n",
    "        if (step % 500 == 0):\n",
    "            print(\"Minibatch loss at step %d: %f\" % (step, l))\n",
    "            print(\"Minibatch  train and validation accuracy: %.1f%%, %.1f%%\" %\n",
    "                  (accuracy(predictions, batch_labels),\n",
    "                   accuracy(valid_prediction.eval(), valid_labels)))\n",
    "    \n",
    "    print(\"Test accuracy: %.1f%%\" %\n",
    "          accuracy(test_prediction.eval(), test_labels))"
   ]
  },
  {
   "cell_type": "markdown",
   "metadata": {},
   "source": [
    "### regularization techniques."
   ]
  },
  {
   "cell_type": "code",
   "execution_count": 1,
   "metadata": {
    "ExecuteTime": {
     "end_time": "2019-09-20T15:48:24.745002Z",
     "start_time": "2019-09-20T15:48:22.547985Z"
    }
   },
   "outputs": [],
   "source": [
    "from __future__ import print_function\n",
    "import numpy as np\n",
    "import tensorflow as tf\n",
    "from six.moves import cPickle as pickle\n",
    "import timeit"
   ]
  },
  {
   "cell_type": "code",
   "execution_count": 2,
   "metadata": {
    "ExecuteTime": {
     "end_time": "2019-09-20T15:48:26.188501Z",
     "start_time": "2019-09-20T15:48:25.339943Z"
    }
   },
   "outputs": [
    {
     "name": "stdout",
     "output_type": "stream",
     "text": [
      "Training set (200000, 28, 28) (200000,)\n",
      "sanit_Validation set (8933, 28, 28) (8933,)\n",
      "sanit_Test set (8676, 28, 28) (8676,)\n"
     ]
    }
   ],
   "source": [
    "sanitized_pickle_file = 'notMNIST_sanitized.pickle'\n",
    "\n",
    "with open(sanitized_pickle_file, 'rb') as f:\n",
    "    save = pickle.load(f)\n",
    "    train_dataset = save['train_dataset']\n",
    "    train_labels = save['train_labels']\n",
    "    sanit_valid_dataset = save['valid_dataset']\n",
    "    sanit_valid_labels = save['valid_labels']\n",
    "    sanit_test_dataset = save['test_dataset']\n",
    "    sanit_test_labels = save['test_labels']\n",
    "    del save  # hint to help gc free up memory\n",
    "    print('Training set', train_dataset.shape, train_labels.shape)\n",
    "    print('sanit_Validation set', sanit_valid_dataset.shape,\n",
    "          sanit_valid_labels.shape)\n",
    "    print('sanit_Test set', sanit_test_dataset.shape, sanit_test_labels.shape)"
   ]
  },
  {
   "cell_type": "code",
   "execution_count": 3,
   "metadata": {
    "ExecuteTime": {
     "end_time": "2019-09-20T15:48:27.192200Z",
     "start_time": "2019-09-20T15:48:26.948853Z"
    }
   },
   "outputs": [
    {
     "name": "stdout",
     "output_type": "stream",
     "text": [
      "Training set (200000, 784) (200000, 10)\n",
      "sanit_Validation set (8933, 784) (8933, 10)\n",
      "sanit_Test set (8676, 784) (8676, 10)\n"
     ]
    }
   ],
   "source": [
    "image_size = 28\n",
    "num_labels = 10\n",
    "\n",
    "\n",
    "def reformat(dataset, labels):\n",
    "    dataset = dataset.reshape((-1, image_size * image_size)).astype(np.float32)\n",
    "    # Map 1 to [0.0, 1.0, 0.0 ...], 2 to [0.0, 0.0, 1.0 ...]\n",
    "    labels = (np.arange(num_labels) == labels[:, None]).astype(np.float32)\n",
    "    return dataset, labels\n",
    "\n",
    "\n",
    "train_dataset, train_labels = reformat(train_dataset, train_labels)\n",
    "valid_dataset, valid_labels = reformat(sanit_valid_dataset, sanit_valid_labels)\n",
    "test_dataset, test_labels = reformat(sanit_test_dataset, sanit_test_labels)\n",
    "\n",
    "print('Training set', train_dataset.shape, train_labels.shape)\n",
    "print('sanit_Validation set', valid_dataset.shape, valid_labels.shape)\n",
    "print('sanit_Test set', test_dataset.shape, test_labels.shape)"
   ]
  },
  {
   "cell_type": "code",
   "execution_count": 4,
   "metadata": {
    "ExecuteTime": {
     "end_time": "2019-09-20T15:48:29.544061Z",
     "start_time": "2019-09-20T15:48:29.540092Z"
    }
   },
   "outputs": [],
   "source": [
    "def accuracy(predictions, labels):\n",
    "    return (100.0 * np.sum(np.argmax(predictions, 1) == np.argmax(labels, 1)) /\n",
    "            predictions.shape[0])"
   ]
  },
  {
   "cell_type": "markdown",
   "metadata": {},
   "source": [
    "Introduce and tune L2 regularization for both logistic and neural network models. Remember that L2 amounts to adding a penalty on the norm of the weights to the loss. In TensorFlow, you can compute the L2 loss for a tensor t using nn.l2_loss(t). The right amount of regularization should improve your validation / test accuracy.\n",
    "\n"
   ]
  },
  {
   "cell_type": "markdown",
   "metadata": {},
   "source": [
    "### Logistic regression L2"
   ]
  },
  {
   "cell_type": "code",
   "execution_count": 5,
   "metadata": {
    "ExecuteTime": {
     "end_time": "2019-09-20T15:48:31.809492Z",
     "start_time": "2019-09-20T15:48:31.099169Z"
    }
   },
   "outputs": [
    {
     "name": "stdout",
     "output_type": "stream",
     "text": [
      "WARNING:tensorflow:From <ipython-input-5-a53fc51ef6a8>:26: softmax_cross_entropy_with_logits (from tensorflow.python.ops.nn_ops) is deprecated and will be removed in a future version.\n",
      "Instructions for updating:\n",
      "\n",
      "Future major versions of TensorFlow will allow gradients to flow\n",
      "into the labels input on backprop by default.\n",
      "\n",
      "See @{tf.nn.softmax_cross_entropy_with_logits_v2}.\n",
      "\n"
     ]
    }
   ],
   "source": [
    "batch_size = 128\n",
    "L2_reg = 0.005  # ratio for L2 regularization\n",
    "\n",
    "graph = tf.Graph()\n",
    "with graph.as_default():\n",
    "\n",
    "    # Input data. For the training data, we use a placeholder that will be fed\n",
    "    # at run time with a training minibatch.\n",
    "    tf_train_dataset = tf.placeholder(tf.float32,\n",
    "                                      shape=(batch_size,\n",
    "                                             image_size * image_size))\n",
    "    tf_train_labels = tf.placeholder(tf.float32,\n",
    "                                     shape=(batch_size, num_labels))\n",
    "    tf_valid_dataset = tf.constant(valid_dataset)\n",
    "    tf_test_dataset = tf.constant(test_dataset)\n",
    "\n",
    "    # Variables.\n",
    "    weights = tf.Variable(\n",
    "        tf.truncated_normal([image_size * image_size, num_labels]))\n",
    "    biases = tf.Variable(tf.zeros([num_labels]))\n",
    "\n",
    "    # Training computation.\n",
    "    logits = tf.matmul(tf_train_dataset, weights) + biases\n",
    "    loss = tf.reduce_mean(\n",
    "        tf.nn.softmax_cross_entropy_with_logits(labels=tf_train_labels,\n",
    "                                                logits=logits) +\n",
    "        L2_reg * tf.nn.l2_loss(weights))\n",
    "\n",
    "    # Optimizer.\n",
    "    optimizer = tf.train.GradientDescentOptimizer(0.1).minimize(loss)\n",
    "\n",
    "    # Predictions for the training, validation, and test data.\n",
    "    train_prediction = tf.nn.softmax(logits)\n",
    "    valid_prediction = tf.nn.softmax(\n",
    "        tf.matmul(tf_valid_dataset, weights) + biases)\n",
    "    test_prediction = tf.nn.softmax(\n",
    "        tf.matmul(tf_test_dataset, weights) + biases)"
   ]
  },
  {
   "cell_type": "code",
   "execution_count": 6,
   "metadata": {
    "ExecuteTime": {
     "end_time": "2019-09-20T15:48:48.540444Z",
     "start_time": "2019-09-20T15:48:32.579753Z"
    }
   },
   "outputs": [
    {
     "name": "stdout",
     "output_type": "stream",
     "text": [
      "Initialized\n",
      "Minibatch loss at step 0: 32.407227\n",
      "Minibatch accuracy: 8.6%\n",
      "Validation accuracy: 11.6%\n",
      "Minibatch loss at step 500: 10.250906\n",
      "Minibatch accuracy: 77.3%\n",
      "Validation accuracy: 70.9%\n",
      "Minibatch loss at step 1000: 6.633504\n",
      "Minibatch accuracy: 75.8%\n",
      "Validation accuracy: 73.7%\n",
      "Minibatch loss at step 1500: 3.613878\n",
      "Minibatch accuracy: 83.6%\n",
      "Validation accuracy: 76.1%\n",
      "Minibatch loss at step 2000: 2.487192\n",
      "Minibatch accuracy: 80.5%\n",
      "Validation accuracy: 77.8%\n",
      "Minibatch loss at step 2500: 1.760822\n",
      "Minibatch accuracy: 80.5%\n",
      "Validation accuracy: 79.3%\n",
      "Minibatch loss at step 3000: 1.313916\n",
      "Minibatch accuracy: 82.8%\n",
      "Validation accuracy: 80.3%\n",
      "Minibatch loss at step 3500: 1.059580\n",
      "Minibatch accuracy: 79.7%\n",
      "Validation accuracy: 81.0%\n",
      "Minibatch loss at step 4000: 0.823606\n",
      "Minibatch accuracy: 85.9%\n",
      "Validation accuracy: 81.4%\n",
      "Minibatch loss at step 4500: 0.777181\n",
      "Minibatch accuracy: 82.8%\n",
      "Validation accuracy: 81.5%\n",
      "Minibatch loss at step 5000: 0.651311\n",
      "Minibatch accuracy: 85.2%\n",
      "Validation accuracy: 81.5%\n",
      "Minibatch loss at step 5500: 0.753396\n",
      "Minibatch accuracy: 80.5%\n",
      "Validation accuracy: 81.4%\n",
      "Minibatch loss at step 6000: 0.830865\n",
      "Minibatch accuracy: 77.3%\n",
      "Validation accuracy: 81.7%\n",
      "Minibatch loss at step 6500: 0.591449\n",
      "Minibatch accuracy: 85.2%\n",
      "Validation accuracy: 81.8%\n",
      "Minibatch loss at step 7000: 0.732790\n",
      "Minibatch accuracy: 78.1%\n",
      "Validation accuracy: 81.8%\n",
      "Minibatch loss at step 7500: 0.907652\n",
      "Minibatch accuracy: 78.9%\n",
      "Validation accuracy: 81.9%\n",
      "Minibatch loss at step 8000: 1.019945\n",
      "Minibatch accuracy: 75.8%\n",
      "Validation accuracy: 81.6%\n",
      "Test accuracy: 88.6%\n"
     ]
    }
   ],
   "source": [
    "num_steps = 8001\n",
    "\n",
    "with tf.Session(graph=graph) as session:\n",
    "    tf.global_variables_initializer().run()\n",
    "    print(\"Initialized\")\n",
    "    for step in range(num_steps):\n",
    "        # Pick an offset within the training data, which has been randomized.\n",
    "        # Note: we could use better randomization across epochs.\n",
    "        offset = (step * batch_size) % (train_labels.shape[0] - batch_size)\n",
    "        # Generate a minibatch.\n",
    "        batch_data = train_dataset[offset:(offset + batch_size), :]\n",
    "        batch_labels = train_labels[offset:(offset + batch_size), :]\n",
    "        # Prepare a dictionary telling the session where to feed the minibatch.\n",
    "        # The key of the dictionary is the placeholder node of the graph to be fed,\n",
    "        # and the value is the numpy array to feed to it.\n",
    "        feed_dict = {\n",
    "            tf_train_dataset: batch_data,\n",
    "            tf_train_labels: batch_labels\n",
    "        }\n",
    "        _, l, predictions = session.run([optimizer, loss, train_prediction],\n",
    "                                        feed_dict=feed_dict)\n",
    "        if (step % 500 == 0):\n",
    "            print(\"Minibatch loss at step %d: %f\" % (step, l))\n",
    "            print(\"Minibatch accuracy: %.1f%%\" %\n",
    "                  accuracy(predictions, batch_labels))\n",
    "            print(\"Validation accuracy: %.1f%%\" %\n",
    "                  accuracy(valid_prediction.eval(), valid_labels))\n",
    "    print(\"Test accuracy: %.1f%%\" %\n",
    "          accuracy(test_prediction.eval(), test_labels))"
   ]
  },
  {
   "cell_type": "markdown",
   "metadata": {},
   "source": [
    "### Neural Network L2"
   ]
  },
  {
   "cell_type": "code",
   "execution_count": 16,
   "metadata": {
    "ExecuteTime": {
     "end_time": "2019-09-20T16:03:53.007493Z",
     "start_time": "2019-09-20T16:03:52.383780Z"
    }
   },
   "outputs": [],
   "source": [
    "n_hidden = 1024  # Number of hidden nodes\n",
    "batch_size = 128\n",
    "L2_reg = 0.001  # ratio for L2 regularization\n",
    "\n",
    "g = tf.Graph()\n",
    "with g.as_default():\n",
    "\n",
    "    # Placehodlers for training dataset minibatches\n",
    "    tf_train_dataset = tf.placeholder(np.float32,\n",
    "                                      shape=(batch_size,\n",
    "                                             image_size * image_size))\n",
    "    tf_train_labels = tf.placeholder(np.float32,\n",
    "                                     shape=(batch_size, num_labels))\n",
    "\n",
    "    # Constants for validation and test datasets\n",
    "    tf_valid_dataset = tf.constant(valid_dataset)\n",
    "    tf_test_dataset = tf.constant(test_dataset)\n",
    "\n",
    "    # Define Weights and biases as variables for hidden layer\n",
    "    W_0 = tf.Variable(tf.truncated_normal([image_size * image_size, n_hidden]))\n",
    "    b_0 = tf.Variable(tf.zeros([n_hidden]))\n",
    "\n",
    "    # Define Weights and biases as variables for logistic regression layer\n",
    "    W_1 = tf.Variable(tf.truncated_normal([n_hidden, num_labels]))\n",
    "    b_1 = tf.Variable(tf.zeros([num_labels]))\n",
    "\n",
    "    logits_0 = tf.nn.relu(tf.matmul(tf_train_dataset, W_0) +\n",
    "                          b_0)  # shape will be (batch_size, n_hidden)\n",
    "\n",
    "    logits_1 = tf.matmul(\n",
    "        logits_0, W_1) + b_1  # now the shape is (batch_size, num_labels)\n",
    "\n",
    "    loss = tf.reduce_mean(\n",
    "        tf.nn.softmax_cross_entropy_with_logits(labels=tf_train_labels, logits=logits_1)\n",
    "        + L2_reg * (tf.nn.l2_loss(W_0) + tf.nn.l2_loss(W_1)))\n",
    "\n",
    "    optimizer = tf.train.GradientDescentOptimizer(0.5).minimize(loss)\n",
    "\n",
    "    # Predictions\n",
    "    train_prediction = tf.nn.softmax(logits_1)\n",
    "    valid_prediction = tf.nn.softmax(\n",
    "        tf.matmul(tf.nn.relu(tf.matmul(tf_valid_dataset, W_0) + b_0), W_1) +\n",
    "        b_1)\n",
    "    test_prediction = tf.nn.softmax(\n",
    "        tf.matmul(tf.nn.relu(tf.matmul(tf_test_dataset, W_0) + b_0), W_1) +\n",
    "        b_1)"
   ]
  },
  {
   "cell_type": "code",
   "execution_count": 8,
   "metadata": {
    "ExecuteTime": {
     "end_time": "2019-09-20T15:51:54.064577Z",
     "start_time": "2019-09-20T15:51:40.678771Z"
    },
    "scrolled": false
   },
   "outputs": [
    {
     "name": "stdout",
     "output_type": "stream",
     "text": [
      "Initialized\n",
      "Minibatch loss at step 0: 637.958374\n",
      "Minibatch  train and validation accuracy: 10.2%, 28.6%\n",
      "Minibatch loss at step 500: 195.967377\n",
      "Minibatch  train and validation accuracy: 82.8%, 78.6%\n",
      "Minibatch loss at step 1000: 114.814377\n",
      "Minibatch  train and validation accuracy: 80.5%, 80.9%\n",
      "Minibatch loss at step 1500: 67.975952\n",
      "Minibatch  train and validation accuracy: 89.8%, 82.1%\n",
      "Minibatch loss at step 2000: 41.184597\n",
      "Minibatch  train and validation accuracy: 90.6%, 84.2%\n",
      "Minibatch loss at step 2500: 25.049202\n",
      "Minibatch  train and validation accuracy: 90.6%, 85.1%\n",
      "Minibatch loss at step 3000: 15.451139\n",
      "Minibatch  train and validation accuracy: 86.7%, 85.9%\n",
      "Minibatch loss at step 3500: 9.595225\n",
      "Minibatch  train and validation accuracy: 85.9%, 86.3%\n",
      "Minibatch loss at step 4000: 5.985088\n",
      "Minibatch  train and validation accuracy: 90.6%, 86.7%\n",
      "Minibatch loss at step 4500: 3.823195\n",
      "Minibatch  train and validation accuracy: 89.8%, 86.9%\n",
      "Minibatch loss at step 5000: 2.534273\n",
      "Minibatch  train and validation accuracy: 89.8%, 87.5%\n",
      "Test accuracy: 93.2%\n"
     ]
    }
   ],
   "source": [
    "n_steps = 5001  # number of steps to be taken\n",
    "\n",
    "with tf.Session(graph=g) as sess:\n",
    "    tf.global_variables_initializer().run()\n",
    "    print('Initialized')\n",
    "    for step in range(n_steps):\n",
    "\n",
    "        offset = (step * batch_size) % (train_labels.shape[0] - batch_size)\n",
    "\n",
    "        # Prepare minibatch data\n",
    "        batch_data = train_dataset[offset:(offset + batch_size), :]\n",
    "        batch_labels = train_labels[offset:(offset + batch_size), :]\n",
    "\n",
    "        feed_dict = {\n",
    "            tf_train_dataset: batch_data,\n",
    "            tf_train_labels: batch_labels\n",
    "        }\n",
    "        _, l, predictions = sess.run([optimizer, loss, train_prediction],\n",
    "                                     feed_dict=feed_dict)\n",
    "\n",
    "        if (step % 500 == 0):\n",
    "            print(\"Minibatch loss at step %d: %f\" % (step, l))\n",
    "            print(\"Minibatch  train and validation accuracy: %.1f%%, %.1f%%\" %\n",
    "                  (accuracy(predictions, batch_labels),\n",
    "                   accuracy(valid_prediction.eval(), valid_labels)))\n",
    "    print(\"Test accuracy: %.1f%%\" %\n",
    "          accuracy(test_prediction.eval(), test_labels))"
   ]
  },
  {
   "cell_type": "markdown",
   "metadata": {},
   "source": [
    "### Let's demonstrate an extreme case of overfitting. Restrict your training data to just a few batches."
   ]
  },
  {
   "cell_type": "code",
   "execution_count": 17,
   "metadata": {
    "ExecuteTime": {
     "end_time": "2019-09-20T16:04:17.441361Z",
     "start_time": "2019-09-20T16:04:04.849932Z"
    }
   },
   "outputs": [
    {
     "name": "stdout",
     "output_type": "stream",
     "text": [
      "Initialibzed\n",
      "Minibatch loss at step 0: 656.678955\n",
      "Minibatch  train and validation accuracy: 9.4%, 26.8%\n",
      "Minibatch loss at step 500: 190.935410\n",
      "Minibatch  train and validation accuracy: 100.0%, 70.7%\n",
      "Minibatch loss at step 1000: 115.793686\n",
      "Minibatch  train and validation accuracy: 100.0%, 70.7%\n",
      "Minibatch loss at step 1500: 70.223648\n",
      "Minibatch  train and validation accuracy: 100.0%, 70.6%\n",
      "Minibatch loss at step 2000: 42.587505\n",
      "Minibatch  train and validation accuracy: 100.0%, 70.6%\n",
      "Minibatch loss at step 2500: 25.827465\n",
      "Minibatch  train and validation accuracy: 100.0%, 70.8%\n",
      "Minibatch loss at step 3000: 15.663411\n",
      "Minibatch  train and validation accuracy: 100.0%, 71.2%\n",
      "Minibatch loss at step 3500: 9.499949\n",
      "Minibatch  train and validation accuracy: 100.0%, 71.7%\n",
      "Minibatch loss at step 4000: 5.763868\n",
      "Minibatch  train and validation accuracy: 100.0%, 72.3%\n",
      "Minibatch loss at step 4500: 3.502412\n",
      "Minibatch  train and validation accuracy: 100.0%, 72.9%\n",
      "Minibatch loss at step 5000: 2.136449\n",
      "Minibatch  train and validation accuracy: 100.0%, 73.7%\n",
      "Test accuracy: 81.0%\n"
     ]
    }
   ],
   "source": [
    "n_steps = 5001 # number of steps to be taken\n",
    "mod_batches = 3 # just use first a few batches over and over again\n",
    "\n",
    "\n",
    "# tf.reset_default_graph()\n",
    "with tf.Session(graph=g) as sess:\n",
    "    tf.global_variables_initializer().run()\n",
    "    print('Initialibzed')\n",
    "    for step in range(n_steps):\n",
    "        \n",
    "        offset = (step * batch_size) % (mod_batches * batch_size - batch_size) # offset changed\n",
    "        \n",
    "        # Prepare minibatch data\n",
    "        batch_data = train_dataset[offset:(offset + batch_size), :]\n",
    "        batch_labels = train_labels[offset:(offset + batch_size), :]\n",
    "        \n",
    "        feed_dict = {tf_train_dataset : batch_data, tf_train_labels : batch_labels}\n",
    "        _, l, predictions = sess.run(\n",
    "            [optimizer, loss, train_prediction], feed_dict=feed_dict)\n",
    "        \n",
    "        if (step % 500 == 0):\n",
    "            print(\"Minibatch loss at step %d: %f\" % (step, l))\n",
    "            print(\"Minibatch  train and validation accuracy: %.1f%%, %.1f%%\" \n",
    "                % (accuracy(predictions, batch_labels), \n",
    "                accuracy(valid_prediction.eval(), valid_labels)))\n",
    "    print(\"Test accuracy: %.1f%%\" % accuracy(test_prediction.eval(), test_labels))"
   ]
  },
  {
   "cell_type": "markdown",
   "metadata": {},
   "source": [
    "### Neural network with dropout applied to hidden layer"
   ]
  },
  {
   "cell_type": "code",
   "execution_count": 18,
   "metadata": {
    "ExecuteTime": {
     "end_time": "2019-09-20T16:04:30.313677Z",
     "start_time": "2019-09-20T16:04:29.672283Z"
    }
   },
   "outputs": [],
   "source": [
    "n_hidden = 1024  # Number of hidden nodes\n",
    "batch_size = 128\n",
    "L2_reg = 0.001  # ratio for L2 regularization\n",
    "\n",
    "g = tf.Graph()\n",
    "with g.as_default():\n",
    "\n",
    "    # Placehodlers for training dataset minibatches\n",
    "    tf_train_dataset = tf.placeholder(np.float32,\n",
    "                                      shape=(batch_size,\n",
    "                                             image_size * image_size))\n",
    "    tf_train_labels = tf.placeholder(np.float32,\n",
    "                                     shape=(batch_size, num_labels))\n",
    "\n",
    "    # Constants for validation and test datasets\n",
    "    tf_valid_dataset = tf.constant(valid_dataset)\n",
    "    tf_test_dataset = tf.constant(test_dataset)\n",
    "\n",
    "    # Define Weights and biases as variables for hidden layer\n",
    "    W_0 = tf.Variable(tf.truncated_normal([image_size * image_size, n_hidden]))\n",
    "    b_0 = tf.Variable(tf.zeros([n_hidden]))\n",
    "\n",
    "    # Define Weights and biases as variables for logistic regression layer\n",
    "    W_1 = tf.Variable(tf.truncated_normal([n_hidden, num_labels]))\n",
    "    b_1 = tf.Variable(tf.zeros([num_labels]))\n",
    "\n",
    "    logits_0 = tf.nn.relu(tf.matmul(tf_train_dataset, W_0) +\n",
    "                          b_0)  # shape will be (batch_size, n_hidden)\n",
    "    \n",
    "    dropout_0 = tf.nn.dropout(logits_0, 0.5)\n",
    "\n",
    "    logits_1 = tf.matmul(\n",
    "        logits_0, W_1) + b_1  # now the shape is (batch_size, num_labels)\n",
    "\n",
    "    loss = tf.reduce_mean(\n",
    "        tf.nn.softmax_cross_entropy_with_logits(labels=tf_train_labels, logits=logits_1)\n",
    "        + L2_reg * (tf.nn.l2_loss(W_0) + tf.nn.l2_loss(W_1)))\n",
    "\n",
    "    optimizer = tf.train.GradientDescentOptimizer(0.5).minimize(loss)\n",
    "\n",
    "    # Predictions\n",
    "    train_prediction = tf.nn.softmax(logits_1)\n",
    "    valid_prediction = tf.nn.softmax(\n",
    "        tf.matmul(tf.nn.relu(tf.matmul(tf_valid_dataset, W_0) + b_0), W_1) +\n",
    "        b_1)\n",
    "    test_prediction = tf.nn.softmax(\n",
    "        tf.matmul(tf.nn.relu(tf.matmul(tf_test_dataset, W_0) + b_0), W_1) +\n",
    "        b_1)"
   ]
  },
  {
   "cell_type": "code",
   "execution_count": 19,
   "metadata": {
    "ExecuteTime": {
     "end_time": "2019-09-20T16:04:43.502510Z",
     "start_time": "2019-09-20T16:04:31.109930Z"
    }
   },
   "outputs": [
    {
     "name": "stdout",
     "output_type": "stream",
     "text": [
      "Initialibzed\n",
      "Minibatch loss at step 0: 648.965454\n",
      "Minibatch  train and validation accuracy: 7.8%, 22.4%\n",
      "Minibatch loss at step 500: 190.311462\n",
      "Minibatch  train and validation accuracy: 100.0%, 71.3%\n",
      "Minibatch loss at step 1000: 115.415314\n",
      "Minibatch  train and validation accuracy: 100.0%, 71.3%\n",
      "Minibatch loss at step 1500: 69.994186\n",
      "Minibatch  train and validation accuracy: 100.0%, 71.4%\n",
      "Minibatch loss at step 2000: 42.448349\n",
      "Minibatch  train and validation accuracy: 100.0%, 71.4%\n",
      "Minibatch loss at step 2500: 25.743107\n",
      "Minibatch  train and validation accuracy: 100.0%, 71.5%\n",
      "Minibatch loss at step 3000: 15.612328\n",
      "Minibatch  train and validation accuracy: 100.0%, 71.6%\n",
      "Minibatch loss at step 3500: 9.469320\n",
      "Minibatch  train and validation accuracy: 100.0%, 72.0%\n",
      "Minibatch loss at step 4000: 5.745767\n",
      "Minibatch  train and validation accuracy: 100.0%, 72.5%\n",
      "Minibatch loss at step 4500: 3.491757\n",
      "Minibatch  train and validation accuracy: 100.0%, 73.4%\n",
      "Minibatch loss at step 5000: 2.130183\n",
      "Minibatch  train and validation accuracy: 100.0%, 74.8%\n",
      "Test accuracy: 82.2%\n"
     ]
    }
   ],
   "source": [
    "n_steps = 5001 # number of steps to be taken\n",
    "mod_batches = 3 # just use first a few batches over and over again\n",
    "\n",
    "\n",
    "# tf.reset_default_graph()\n",
    "with tf.Session(graph=g) as sess:\n",
    "    tf.global_variables_initializer().run()\n",
    "    print('Initialibzed')\n",
    "    for step in range(n_steps):\n",
    "        \n",
    "        offset = (step * batch_size) % (mod_batches * batch_size - batch_size) # offset changed\n",
    "        \n",
    "        # Prepare minibatch data\n",
    "        batch_data = train_dataset[offset:(offset + batch_size), :]\n",
    "        batch_labels = train_labels[offset:(offset + batch_size), :]\n",
    "        \n",
    "        feed_dict = {tf_train_dataset : batch_data, tf_train_labels : batch_labels}\n",
    "        _, l, predictions = sess.run(\n",
    "            [optimizer, loss, train_prediction], feed_dict=feed_dict)\n",
    "        \n",
    "        if (step % 500 == 0):\n",
    "            print(\"Minibatch loss at step %d: %f\" % (step, l))\n",
    "            print(\"Minibatch  train and validation accuracy: %.1f%%, %.1f%%\" \n",
    "                % (accuracy(predictions, batch_labels), \n",
    "                accuracy(valid_prediction.eval(), valid_labels)))\n",
    "    print(\"Test accuracy: %.1f%%\" % accuracy(test_prediction.eval(), test_labels))"
   ]
  },
  {
   "cell_type": "markdown",
   "metadata": {},
   "source": [
    "### To be stronger"
   ]
  },
  {
   "cell_type": "markdown",
   "metadata": {},
   "source": [
    "Try to get the best performance you can using a multi-layer model! The best reported test accuracy using a deep network is 97.1%.\n",
    "\n",
    "One avenue you can explore is to add multiple layers.\n",
    "\n",
    "Another one is to use learning rate decay:\n",
    "\n",
    "- global_step = tf.Variable(0)  # count the number of steps taken.\n",
    "- learning_rate = tf.train.exponential_decay(0.5, global_step, ...)\n",
    "- optimizer = tf.train.GradientDescentOptimizer(learning_rate).minimize(loss, global_step=global_step)\n"
   ]
  },
  {
   "cell_type": "code",
   "execution_count": 20,
   "metadata": {
    "ExecuteTime": {
     "end_time": "2019-09-20T16:11:39.469083Z",
     "start_time": "2019-09-20T16:11:38.576843Z"
    }
   },
   "outputs": [],
   "source": [
    "n_hidden_3 = 1024  # Number of hidden nodes for hidden layer 3\n",
    "n_hidden_2 = 300   # Number of hidden nodes for hidden layer 2\n",
    "n_hidden_1 = 50    # Number of hidden nodes for hidden layer 1\n",
    "batch_size = 128\n",
    "L2_reg = 0.001 # ratio for L2 regularization\n",
    "\n",
    "g = tf.Graph()\n",
    "with g.as_default():\n",
    "    \n",
    "    # Placehodlers for training dataset minibatches\n",
    "    tf_train_dataset = tf.placeholder(np.float32, shape=(batch_size, image_size * image_size), name='ph1')\n",
    "    tf_train_labels = tf.placeholder(np.float32, shape=(batch_size, num_labels), name='ph2')\n",
    "    \n",
    "    # Constants for validation and test datasets\n",
    "    tf_valid_dataset = tf.constant(valid_dataset)\n",
    "    tf_test_dataset = tf.constant(test_dataset)\n",
    "    \n",
    "    # Use learning rate decay\n",
    "    global_step = tf.Variable(0)\n",
    "    learning_rate = tf.train.exponential_decay(0.05, global_step, 5000, 0.95, staircase=True)\n",
    "    \n",
    "    # Define Weights and biases as variables for hidden layers\n",
    "    W_3 = tf.get_variable(\"W3\", shape=[image_size * image_size, n_hidden_3],\n",
    "                                initializer=tf.contrib.layers.xavier_initializer())\n",
    "    b_3 = tf.Variable(tf.zeros([n_hidden_3]))\n",
    "    \n",
    "    W_2 = tf.get_variable(\"W2\", shape=[n_hidden_3, n_hidden_2],\n",
    "                                initializer=tf.contrib.layers.xavier_initializer())\n",
    "    b_2 = tf.Variable(tf.zeros([n_hidden_2]))\n",
    "    \n",
    "    W_1 = tf.get_variable(\"W1\", shape=[n_hidden_2, n_hidden_1],\n",
    "                                initializer=tf.contrib.layers.xavier_initializer())\n",
    "    b_1 = tf.Variable(tf.zeros([n_hidden_1]))\n",
    "    \n",
    "    # Define Weights and biases as variables for logistic regression layer\n",
    "    W_0 = tf.get_variable(\"W0\", shape=[n_hidden_1, num_labels],\n",
    "                                initializer=tf.contrib.layers.xavier_initializer())\n",
    "    b_0 = tf.Variable(tf.zeros([num_labels]))\n",
    "    \n",
    "    logits_3 = tf.nn.relu(tf.matmul(tf_train_dataset, W_3) + b_3) # shape will be (batch_size, n_hidden_3)\n",
    "    dropout_3 = tf.nn.dropout(logits_3, 0.5)\n",
    "    \n",
    "    logits_2 = tf.nn.relu(tf.matmul(dropout_3, W_2) + b_2) # shape will be (batch_size, n_hidden_2)\n",
    "    dropout_2 = tf.nn.dropout(logits_2, 0.5)\n",
    "    \n",
    "    logits_1 = tf.nn.relu(tf.matmul(dropout_2, W_1) + b_1) # shape will be (batch_size, n_hidden_1)\n",
    "    dropout_1 = tf.nn.dropout(logits_1, 0.5)\n",
    "\n",
    "    logits_0 = tf.matmul(dropout_1, W_0) + b_0 # now the shape is (batch_size, num_labels)\n",
    "    \n",
    "    loss = tf.reduce_mean(\n",
    "            tf.nn.softmax_cross_entropy_with_logits(labels=tf_train_labels, logits=logits_0)\n",
    "            + L2_reg * (tf.nn.l2_loss(W_0) + tf.nn.l2_loss(W_1) \n",
    "                        + tf.nn.l2_loss(W_2) + tf.nn.l2_loss(W_3)))\n",
    "    optimizer = tf.train.GradientDescentOptimizer(learning_rate).minimize(loss, global_step=global_step)\n",
    "    \n",
    "    # Predictions\n",
    "    def get_logits(dataset):\n",
    "        get_logits_3 = tf.nn.relu(tf.matmul(dataset, W_3) + b_3)\n",
    "        get_logits_2 = tf.nn.relu(tf.matmul(get_logits_3, W_2) + b_2)\n",
    "        get_logits_1 = tf.nn.relu(tf.matmul(get_logits_2, W_1) + b_1)\n",
    "        get_logits_0 = tf.matmul(get_logits_1, W_0) + b_0\n",
    "        return get_logits_0\n",
    "\n",
    "    train_prediction = tf.nn.softmax(get_logits(tf_train_dataset))\n",
    "    valid_prediction = tf.nn.softmax(get_logits(tf_valid_dataset))\n",
    "    test_prediction = tf.nn.softmax(get_logits(tf_test_dataset))"
   ]
  },
  {
   "cell_type": "code",
   "execution_count": null,
   "metadata": {
    "ExecuteTime": {
     "start_time": "2019-09-20T16:34:58.805Z"
    }
   },
   "outputs": [
    {
     "name": "stdout",
     "output_type": "stream",
     "text": [
      "Initialized\n",
      "Minibatch loss at epoch 1 and iter 1561: 1.418303 and learning rate: 0.050000\n",
      "Minibatch  train, validation accuracy: 81.2%, 83.4%\n",
      "Model saved\n",
      "Minibatch loss at epoch 2 and iter 3123: 1.178277 and learning rate: 0.050000\n",
      "Minibatch  train, validation accuracy: 85.9%, 84.5%\n",
      "Model saved\n",
      "Minibatch loss at epoch 3 and iter 4685: 1.111015 and learning rate: 0.050000\n",
      "Minibatch  train, validation accuracy: 84.4%, 85.3%\n",
      "Model saved\n",
      "Minibatch loss at epoch 4 and iter 6247: 1.028409 and learning rate: 0.047500\n",
      "Minibatch  train, validation accuracy: 85.9%, 85.9%\n",
      "Model saved\n",
      "Minibatch loss at epoch 5 and iter 7809: 0.948392 and learning rate: 0.047500\n",
      "Minibatch  train, validation accuracy: 87.5%, 86.3%\n",
      "Model saved\n",
      "Minibatch loss at epoch 6 and iter 9371: 0.918184 and learning rate: 0.047500\n",
      "Minibatch  train, validation accuracy: 86.7%, 86.8%\n",
      "Model saved\n",
      "Minibatch loss at epoch 7 and iter 10933: 0.776602 and learning rate: 0.045125\n",
      "Minibatch  train, validation accuracy: 85.2%, 87.3%\n",
      "Model saved\n",
      "Minibatch loss at epoch 8 and iter 12495: 0.848145 and learning rate: 0.045125\n",
      "Minibatch  train, validation accuracy: 85.9%, 87.5%\n",
      "Model saved\n",
      "Minibatch loss at epoch 9 and iter 14057: 0.741303 and learning rate: 0.045125\n",
      "Minibatch  train, validation accuracy: 85.9%, 87.7%\n",
      "Model saved\n",
      "Minibatch loss at epoch 10 and iter 15619: 0.695278 and learning rate: 0.042869\n",
      "Minibatch  train, validation accuracy: 86.7%, 88.0%\n",
      "Model saved\n",
      "Minibatch loss at epoch 11 and iter 17181: 0.651449 and learning rate: 0.042869\n",
      "Minibatch  train, validation accuracy: 85.2%, 88.1%\n",
      "Model saved\n",
      "Minibatch loss at epoch 12 and iter 18743: 0.665829 and learning rate: 0.042869\n",
      "Minibatch  train, validation accuracy: 87.5%, 88.1%\n",
      "Model saved\n",
      "Minibatch loss at epoch 13 and iter 20305: 0.613878 and learning rate: 0.040725\n",
      "Minibatch  train, validation accuracy: 88.3%, 88.4%\n",
      "Model saved\n",
      "Minibatch loss at epoch 14 and iter 21867: 0.685378 and learning rate: 0.040725\n",
      "Minibatch  train, validation accuracy: 89.8%, 88.6%\n",
      "Model saved\n",
      "Minibatch loss at epoch 15 and iter 23429: 0.607424 and learning rate: 0.040725\n",
      "Minibatch  train, validation accuracy: 89.8%, 88.7%\n",
      "Model saved\n",
      "Minibatch loss at epoch 16 and iter 24991: 0.612565 and learning rate: 0.040725\n",
      "Minibatch  train, validation accuracy: 89.8%, 88.8%\n",
      "Model saved\n",
      "Minibatch loss at epoch 17 and iter 26553: 0.613809 and learning rate: 0.038689\n",
      "Minibatch  train, validation accuracy: 89.8%, 88.8%\n",
      "Model saved\n",
      "Minibatch loss at epoch 18 and iter 28115: 0.616265 and learning rate: 0.038689\n",
      "Minibatch  train, validation accuracy: 89.8%, 88.8%\n",
      "Model saved\n",
      "Minibatch loss at epoch 19 and iter 29677: 0.572848 and learning rate: 0.038689\n",
      "Minibatch  train, validation accuracy: 89.8%, 89.1%\n",
      "Model saved\n",
      "Minibatch loss at epoch 20 and iter 31239: 0.539478 and learning rate: 0.036755\n",
      "Minibatch  train, validation accuracy: 89.8%, 89.0%\n",
      "Minibatch loss at epoch 21 and iter 32801: 0.571709 and learning rate: 0.036755\n",
      "Minibatch  train, validation accuracy: 89.8%, 89.2%\n",
      "Model saved\n",
      "Minibatch loss at epoch 22 and iter 34363: 0.544369 and learning rate: 0.036755\n",
      "Minibatch  train, validation accuracy: 90.6%, 89.3%\n",
      "Model saved\n",
      "Minibatch loss at epoch 23 and iter 35925: 0.498849 and learning rate: 0.034917\n",
      "Minibatch  train, validation accuracy: 89.8%, 89.2%\n",
      "Minibatch loss at epoch 24 and iter 37487: 0.538820 and learning rate: 0.034917\n",
      "Minibatch  train, validation accuracy: 89.8%, 89.3%\n",
      "Minibatch loss at epoch 25 and iter 39049: 0.490354 and learning rate: 0.034917\n",
      "Minibatch  train, validation accuracy: 89.8%, 89.3%\n",
      "Minibatch loss at epoch 26 and iter 40611: 0.574214 and learning rate: 0.033171\n",
      "Minibatch  train, validation accuracy: 89.1%, 89.4%\n",
      "Model saved\n",
      "Minibatch loss at epoch 27 and iter 42173: 0.511227 and learning rate: 0.033171\n",
      "Minibatch  train, validation accuracy: 89.8%, 89.4%\n",
      "Minibatch loss at epoch 28 and iter 43735: 0.587398 and learning rate: 0.033171\n",
      "Minibatch  train, validation accuracy: 89.8%, 89.5%\n",
      "Model saved\n",
      "Minibatch loss at epoch 29 and iter 45297: 0.552014 and learning rate: 0.031512\n",
      "Minibatch  train, validation accuracy: 89.8%, 89.5%\n",
      "Model saved\n",
      "Minibatch loss at epoch 30 and iter 46859: 0.534256 and learning rate: 0.031512\n",
      "Minibatch  train, validation accuracy: 89.8%, 89.5%\n",
      "Model saved\n",
      "Minibatch loss at epoch 31 and iter 48421: 0.496761 and learning rate: 0.031512\n",
      "Minibatch  train, validation accuracy: 91.4%, 89.4%\n",
      "Minibatch loss at epoch 32 and iter 49983: 0.506563 and learning rate: 0.031512\n",
      "Minibatch  train, validation accuracy: 91.4%, 89.6%\n",
      "Model saved\n",
      "Minibatch loss at epoch 33 and iter 51545: 0.512707 and learning rate: 0.029937\n",
      "Minibatch  train, validation accuracy: 90.6%, 89.7%\n",
      "Model saved\n",
      "Minibatch loss at epoch 34 and iter 53107: 0.531345 and learning rate: 0.029937\n",
      "Minibatch  train, validation accuracy: 91.4%, 89.7%\n",
      "Minibatch loss at epoch 35 and iter 54669: 0.523850 and learning rate: 0.029937\n",
      "Minibatch  train, validation accuracy: 92.2%, 89.7%\n",
      "Model saved\n",
      "Minibatch loss at epoch 36 and iter 56231: 0.494615 and learning rate: 0.028440\n",
      "Minibatch  train, validation accuracy: 91.4%, 89.7%\n",
      "Minibatch loss at epoch 37 and iter 57793: 0.548478 and learning rate: 0.028440\n",
      "Minibatch  train, validation accuracy: 90.6%, 89.8%\n",
      "Model saved\n",
      "Minibatch loss at epoch 38 and iter 59355: 0.497819 and learning rate: 0.028440\n",
      "Minibatch  train, validation accuracy: 89.8%, 89.7%\n",
      "Minibatch loss at epoch 39 and iter 60917: 0.520077 and learning rate: 0.027018\n",
      "Minibatch  train, validation accuracy: 90.6%, 89.8%\n",
      "Minibatch loss at epoch 40 and iter 62479: 0.508852 and learning rate: 0.027018\n",
      "Minibatch  train, validation accuracy: 89.8%, 90.0%\n",
      "Model saved\n",
      "Minibatch loss at epoch 41 and iter 64041: 0.504012 and learning rate: 0.027018\n",
      "Minibatch  train, validation accuracy: 89.8%, 89.7%\n",
      "Minibatch loss at epoch 42 and iter 65603: 0.502491 and learning rate: 0.025667\n",
      "Minibatch  train, validation accuracy: 89.8%, 90.0%\n",
      "Model saved\n",
      "Minibatch loss at epoch 43 and iter 67165: 0.488454 and learning rate: 0.025667\n",
      "Minibatch  train, validation accuracy: 91.4%, 89.8%\n",
      "Minibatch loss at epoch 44 and iter 68727: 0.424467 and learning rate: 0.025667\n",
      "Minibatch  train, validation accuracy: 91.4%, 89.9%\n",
      "Minibatch loss at epoch 45 and iter 70289: 0.474279 and learning rate: 0.024384\n",
      "Minibatch  train, validation accuracy: 90.6%, 89.8%\n",
      "Minibatch loss at epoch 46 and iter 71851: 0.493506 and learning rate: 0.024384\n",
      "Minibatch  train, validation accuracy: 89.8%, 90.0%\n",
      "Minibatch loss at epoch 47 and iter 73413: 0.461229 and learning rate: 0.024384\n",
      "Minibatch  train, validation accuracy: 91.4%, 90.0%\n",
      "Minibatch loss at epoch 48 and iter 74975: 0.508335 and learning rate: 0.024384\n",
      "Minibatch  train, validation accuracy: 92.2%, 90.0%\n",
      "Minibatch loss at epoch 49 and iter 76537: 0.510646 and learning rate: 0.023165\n",
      "Minibatch  train, validation accuracy: 89.1%, 90.0%\n",
      "Minibatch loss at epoch 50 and iter 78099: 0.459909 and learning rate: 0.023165\n",
      "Minibatch  train, validation accuracy: 91.4%, 90.0%\n",
      "Minibatch loss at epoch 51 and iter 79661: 0.520832 and learning rate: 0.023165\n",
      "Minibatch  train, validation accuracy: 91.4%, 89.9%\n",
      "Minibatch loss at epoch 52 and iter 81223: 0.578137 and learning rate: 0.022006\n",
      "Minibatch  train, validation accuracy: 91.4%, 90.0%\n",
      "Minibatch loss at epoch 53 and iter 82785: 0.448071 and learning rate: 0.022006\n",
      "Minibatch  train, validation accuracy: 91.4%, 90.0%\n",
      "Minibatch loss at epoch 54 and iter 84347: 0.464478 and learning rate: 0.022006\n",
      "Minibatch  train, validation accuracy: 92.2%, 90.0%\n",
      "Minibatch loss at epoch 55 and iter 85909: 0.483010 and learning rate: 0.020906\n",
      "Minibatch  train, validation accuracy: 92.2%, 90.1%\n",
      "Model saved\n",
      "Minibatch loss at epoch 56 and iter 87471: 0.492118 and learning rate: 0.020906\n",
      "Minibatch  train, validation accuracy: 91.4%, 90.0%\n",
      "Minibatch loss at epoch 57 and iter 89033: 0.479679 and learning rate: 0.020906\n",
      "Minibatch  train, validation accuracy: 90.6%, 90.1%\n",
      "Model saved\n",
      "Minibatch loss at epoch 58 and iter 90595: 0.520321 and learning rate: 0.019861\n",
      "Minibatch  train, validation accuracy: 91.4%, 90.1%\n",
      "Model saved\n",
      "Minibatch loss at epoch 59 and iter 92157: 0.505935 and learning rate: 0.019861\n",
      "Minibatch  train, validation accuracy: 92.2%, 90.1%\n"
     ]
    },
    {
     "name": "stdout",
     "output_type": "stream",
     "text": [
      "Minibatch loss at epoch 60 and iter 93719: 0.496211 and learning rate: 0.019861\n",
      "Minibatch  train, validation accuracy: 93.0%, 90.1%\n",
      "Minibatch loss at epoch 61 and iter 95281: 0.478782 and learning rate: 0.018868\n",
      "Minibatch  train, validation accuracy: 92.2%, 90.1%\n",
      "Minibatch loss at epoch 62 and iter 96843: 0.519758 and learning rate: 0.018868\n",
      "Minibatch  train, validation accuracy: 92.2%, 90.0%\n",
      "Minibatch loss at epoch 63 and iter 98405: 0.501893 and learning rate: 0.018868\n",
      "Minibatch  train, validation accuracy: 91.4%, 90.1%\n",
      "Minibatch loss at epoch 64 and iter 99967: 0.482345 and learning rate: 0.018868\n",
      "Minibatch  train, validation accuracy: 92.2%, 90.2%\n",
      "Model saved\n"
     ]
    }
   ],
   "source": [
    "n_epochs = 200  # number of epochs\n",
    "\n",
    "# early-stopping parameters\n",
    "patience = 5000  # 允许遍历的最大累计本数\n",
    "patience_increase = 2  # 效果没有提升时，增加需要学习的样本数，乘以2\n",
    "improvement_threshold = 0.995  # 效果提升指标\n",
    "best_valid_loss = np.inf\n",
    "\n",
    "start_time = timeit.default_timer()\n",
    "n_train_batches = train_dataset.shape[0] // batch_size\n",
    "valid_freq = valid_freq = min(n_train_batches, patience // 2)\n",
    "\n",
    "\n",
    "with tf.Session(graph=g) as sess:\n",
    "    tf.global_variables_initializer().run()\n",
    "\n",
    "    print('Initialized')\n",
    "    done_looping = False\n",
    "    epoch = 0\n",
    "    \n",
    "    while (epoch < n_epochs) and (not done_looping):\n",
    "        epoch = epoch + 1\n",
    "        for minibatch_index in range(n_train_batches):\n",
    "\n",
    "            batch_data = \\\n",
    "                train_dataset[minibatch_index * batch_size:(minibatch_index + 1) * batch_size, :]\n",
    "            batch_labels = \\\n",
    "                train_labels[minibatch_index * batch_size:(minibatch_index + 1) * batch_size, :]\n",
    "\n",
    "            feed_dict = {\n",
    "                tf_train_dataset: batch_data,\n",
    "                tf_train_labels: batch_labels\n",
    "            }\n",
    "            _, l, predictions = sess.run([optimizer, loss, train_prediction],\n",
    "                                         feed_dict=feed_dict)\n",
    "            \n",
    "            # 全局迭代轮次\n",
    "            iter = (epoch - 1) * n_train_batches + minibatch_index  \n",
    "            \n",
    "            # 显示输出设置\n",
    "            if (iter + 1) % valid_freq == 0:\n",
    "                this_valid_loss = 1. - (accuracy(valid_prediction.eval(), valid_labels) / 100.)\n",
    "\n",
    "                print(\n",
    "                    \"Minibatch loss at epoch %i and iter %i: %f and learning rate: %f\"\n",
    "                    % (epoch, iter, l, sess.run(learning_rate)))\n",
    "                print(\n",
    "                    \"Minibatch  train, validation accuracy: %.1f%%, %.1f%%\"\n",
    "                    % (accuracy(predictions, batch_labels),\n",
    "                       accuracy(valid_prediction.eval(), valid_labels)))\n",
    "                \n",
    "                if this_valid_loss < best_valid_loss:\n",
    "                    # loss要小于improvement_threshold倍的best_valid_loss，才改变允许遍历的最大样本数\n",
    "                    if this_valid_loss < best_valid_loss * improvement_threshold:\n",
    "                        patience = max(patience, iter * patience_increase)\n",
    "\n",
    "                    best_valid_loss = this_valid_loss\n",
    "\n",
    "                    params = (sess.run(W_0), sess.run(b_0), sess.run(W_1),\n",
    "                              sess.run(b_1), sess.run(W_2), sess.run(b_2),\n",
    "                              sess.run(W_3), sess.run(b_3))\n",
    "\n",
    "                    # save the best model\n",
    "                    with open('best_model_params.pkl', 'wb') as f:\n",
    "                        pickle.dump(params, f)\n",
    "                    print('Model saved')\n",
    "            \n",
    "            # 检测是否达到需要历的最大累计本数\n",
    "            if patience <= iter:\n",
    "                done_looping = True\n",
    "                break\n",
    "\n",
    "    print(\"Final Test accuracy: %.1f%%\" %\n",
    "          accuracy(test_prediction.eval(), test_labels))\n",
    "    \n",
    "    # 加载参数\n",
    "    with open('best_model_params.pkl', 'rb') as f:\n",
    "        W_0_best, b_0_best, W_1_best, b_1_best, W_2_best, b_2_best, W_3_best, b_3_best = pickle.load(\n",
    "            f)\n",
    "\n",
    "    W_0_init, b_0_init = tf.assign(W_0, W_0_best), tf.assign(b_0, b_0_best)\n",
    "    W_1_init, b_1_init = tf.assign(W_1, W_1_best), tf.assign(b_1, b_1_best)\n",
    "    W_2_init, b_2_init = tf.assign(W_2, W_2_best), tf.assign(b_2, b_2_best)\n",
    "    W_3_init, b_3_init = tf.assign(W_3, W_3_best), tf.assign(b_3, b_3_best)\n",
    "\n",
    "    sess.run([\n",
    "        W_0_init, b_0_init, W_1_init, b_1_init, W_2_init, b_2_init, W_3_init,\n",
    "        b_3_init\n",
    "    ])\n",
    "\n",
    "    print(\"Test accuracy with the best model: %.1f%%\" %\n",
    "          accuracy(test_prediction.eval(), test_labels))\n",
    "    \n",
    "    end_time = timeit.default_timer()\n",
    "    print('Total run time %.4f minutes' % ((end_time - start_time) / 60.))"
   ]
  },
  {
   "cell_type": "code",
   "execution_count": null,
   "metadata": {},
   "outputs": [],
   "source": []
  }
 ],
 "metadata": {
  "kernelspec": {
   "display_name": "nlp-kernel",
   "language": "python",
   "name": "nlp"
  },
  "language_info": {
   "codemirror_mode": {
    "name": "ipython",
    "version": 3
   },
   "file_extension": ".py",
   "mimetype": "text/x-python",
   "name": "python",
   "nbconvert_exporter": "python",
   "pygments_lexer": "ipython3",
   "version": "3.6.8"
  },
  "toc": {
   "base_numbering": 1,
   "nav_menu": {},
   "number_sections": true,
   "sideBar": true,
   "skip_h1_title": false,
   "title_cell": "Table of Contents",
   "title_sidebar": "Contents",
   "toc_cell": false,
   "toc_position": {},
   "toc_section_display": true,
   "toc_window_display": false
  },
  "varInspector": {
   "cols": {
    "lenName": 16,
    "lenType": 16,
    "lenVar": 40
   },
   "kernels_config": {
    "python": {
     "delete_cmd_postfix": "",
     "delete_cmd_prefix": "del ",
     "library": "var_list.py",
     "varRefreshCmd": "print(var_dic_list())"
    },
    "r": {
     "delete_cmd_postfix": ") ",
     "delete_cmd_prefix": "rm(",
     "library": "var_list.r",
     "varRefreshCmd": "cat(var_dic_list()) "
    }
   },
   "types_to_exclude": [
    "module",
    "function",
    "builtin_function_or_method",
    "instance",
    "_Feature"
   ],
   "window_display": false
  }
 },
 "nbformat": 4,
 "nbformat_minor": 2
}
