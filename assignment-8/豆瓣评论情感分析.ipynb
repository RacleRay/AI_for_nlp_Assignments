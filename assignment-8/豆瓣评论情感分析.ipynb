{
 "cells": [
  {
   "cell_type": "markdown",
   "metadata": {
    "heading_collapsed": true
   },
   "source": [
    "### 处理原始数据"
   ]
  },
  {
   "cell_type": "code",
   "execution_count": 1,
   "metadata": {
    "ExecuteTime": {
     "end_time": "2019-09-22T08:31:38.191498Z",
     "start_time": "2019-09-22T08:31:31.891924Z"
    },
    "hidden": true
   },
   "outputs": [],
   "source": [
    "import pandas as pd\n",
    "import numpy as np"
   ]
  },
  {
   "cell_type": "code",
   "execution_count": 2,
   "metadata": {
    "ExecuteTime": {
     "end_time": "2019-09-21T15:06:05.952868Z",
     "start_time": "2019-09-21T15:06:05.097128Z"
    },
    "hidden": true
   },
   "outputs": [
    {
     "name": "stderr",
     "output_type": "stream",
     "text": [
      "D:\\ProgramData\\Anaconda3\\lib\\site-packages\\IPython\\core\\interactiveshell.py:3057: DtypeWarning: Columns (0,4) have mixed types. Specify dtype option on import or set low_memory=False.\n",
      "  interactivity=interactivity, compiler=compiler, result=result)\n"
     ]
    },
    {
     "data": {
      "text/html": [
       "<div>\n",
       "<style scoped>\n",
       "    .dataframe tbody tr th:only-of-type {\n",
       "        vertical-align: middle;\n",
       "    }\n",
       "\n",
       "    .dataframe tbody tr th {\n",
       "        vertical-align: top;\n",
       "    }\n",
       "\n",
       "    .dataframe thead th {\n",
       "        text-align: right;\n",
       "    }\n",
       "</style>\n",
       "<table border=\"1\" class=\"dataframe\">\n",
       "  <thead>\n",
       "    <tr style=\"text-align: right;\">\n",
       "      <th></th>\n",
       "      <th>id</th>\n",
       "      <th>link</th>\n",
       "      <th>name</th>\n",
       "      <th>comment</th>\n",
       "      <th>star</th>\n",
       "    </tr>\n",
       "  </thead>\n",
       "  <tbody>\n",
       "    <tr>\n",
       "      <th>0</th>\n",
       "      <td>1</td>\n",
       "      <td>https://movie.douban.com/subject/26363254/</td>\n",
       "      <td>战狼2</td>\n",
       "      <td>吴京意淫到了脑残的地步，看了恶心想吐</td>\n",
       "      <td>1</td>\n",
       "    </tr>\n",
       "    <tr>\n",
       "      <th>1</th>\n",
       "      <td>2</td>\n",
       "      <td>https://movie.douban.com/subject/26363254/</td>\n",
       "      <td>战狼2</td>\n",
       "      <td>首映礼看的。太恐怖了这个电影，不讲道理的，完全就是吴京在实现他这个小粉红的英雄梦。各种装备轮...</td>\n",
       "      <td>2</td>\n",
       "    </tr>\n",
       "    <tr>\n",
       "      <th>2</th>\n",
       "      <td>3</td>\n",
       "      <td>https://movie.douban.com/subject/26363254/</td>\n",
       "      <td>战狼2</td>\n",
       "      <td>吴京的炒作水平不输冯小刚，但小刚至少不会用主旋律来炒作…吴京让人看了不舒服，为了主旋律而主旋...</td>\n",
       "      <td>2</td>\n",
       "    </tr>\n",
       "  </tbody>\n",
       "</table>\n",
       "</div>"
      ],
      "text/plain": [
       "  id                                        link name  \\\n",
       "0  1  https://movie.douban.com/subject/26363254/  战狼2   \n",
       "1  2  https://movie.douban.com/subject/26363254/  战狼2   \n",
       "2  3  https://movie.douban.com/subject/26363254/  战狼2   \n",
       "\n",
       "                                             comment star  \n",
       "0                                 吴京意淫到了脑残的地步，看了恶心想吐    1  \n",
       "1  首映礼看的。太恐怖了这个电影，不讲道理的，完全就是吴京在实现他这个小粉红的英雄梦。各种装备轮...    2  \n",
       "2  吴京的炒作水平不输冯小刚，但小刚至少不会用主旋律来炒作…吴京让人看了不舒服，为了主旋律而主旋...    2  "
      ]
     },
     "execution_count": 2,
     "metadata": {},
     "output_type": "execute_result"
    }
   ],
   "source": [
    "data_raw = pd.read_csv('movie_comments.csv')\n",
    "data_raw.head(3)"
   ]
  },
  {
   "cell_type": "code",
   "execution_count": 3,
   "metadata": {
    "ExecuteTime": {
     "end_time": "2019-09-21T15:06:08.555601Z",
     "start_time": "2019-09-21T15:06:08.475814Z"
    },
    "hidden": true
   },
   "outputs": [
    {
     "name": "stdout",
     "output_type": "stream",
     "text": [
      "<class 'pandas.core.frame.DataFrame'>\n",
      "RangeIndex: 261497 entries, 0 to 261496\n",
      "Data columns (total 5 columns):\n",
      "id         261497 non-null object\n",
      "link       261497 non-null object\n",
      "name       261497 non-null object\n",
      "comment    261495 non-null object\n",
      "star       261497 non-null object\n",
      "dtypes: object(5)\n",
      "memory usage: 10.0+ MB\n"
     ]
    }
   ],
   "source": [
    "data_raw.info()"
   ]
  },
  {
   "cell_type": "code",
   "execution_count": 18,
   "metadata": {
    "ExecuteTime": {
     "end_time": "2019-09-21T15:20:19.959486Z",
     "start_time": "2019-09-21T15:20:19.235396Z"
    },
    "hidden": true,
    "scrolled": true
   },
   "outputs": [
    {
     "data": {
      "text/html": [
       "<div>\n",
       "<style scoped>\n",
       "    .dataframe tbody tr th:only-of-type {\n",
       "        vertical-align: middle;\n",
       "    }\n",
       "\n",
       "    .dataframe tbody tr th {\n",
       "        vertical-align: top;\n",
       "    }\n",
       "\n",
       "    .dataframe thead th {\n",
       "        text-align: right;\n",
       "    }\n",
       "</style>\n",
       "<table border=\"1\" class=\"dataframe\">\n",
       "  <thead>\n",
       "    <tr style=\"text-align: right;\">\n",
       "      <th></th>\n",
       "      <th>id</th>\n",
       "      <th>link</th>\n",
       "      <th>name</th>\n",
       "      <th>comment</th>\n",
       "      <th>star</th>\n",
       "    </tr>\n",
       "  </thead>\n",
       "  <tbody>\n",
       "    <tr>\n",
       "      <th>count</th>\n",
       "      <td>261495</td>\n",
       "      <td>261495</td>\n",
       "      <td>261495</td>\n",
       "      <td>261495</td>\n",
       "      <td>261495</td>\n",
       "    </tr>\n",
       "    <tr>\n",
       "      <th>unique</th>\n",
       "      <td>260148</td>\n",
       "      <td>2761</td>\n",
       "      <td>2760</td>\n",
       "      <td>213970</td>\n",
       "      <td>11</td>\n",
       "    </tr>\n",
       "    <tr>\n",
       "      <th>top</th>\n",
       "      <td>19</td>\n",
       "      <td>https://movie.douban.com/subject/1849031/</td>\n",
       "      <td>当幸福来敲门 The Pursuit of Happyness</td>\n",
       "      <td>经典</td>\n",
       "      <td>4</td>\n",
       "    </tr>\n",
       "    <tr>\n",
       "      <th>freq</th>\n",
       "      <td>6</td>\n",
       "      <td>396</td>\n",
       "      <td>396</td>\n",
       "      <td>200</td>\n",
       "      <td>43002</td>\n",
       "    </tr>\n",
       "  </tbody>\n",
       "</table>\n",
       "</div>"
      ],
      "text/plain": [
       "            id                                       link  \\\n",
       "count   261495                                     261495   \n",
       "unique  260148                                       2761   \n",
       "top         19  https://movie.douban.com/subject/1849031/   \n",
       "freq         6                                        396   \n",
       "\n",
       "                                   name comment    star  \n",
       "count                            261495  261495  261495  \n",
       "unique                             2760  213970      11  \n",
       "top     当幸福来敲门 The Pursuit of Happyness      经典       4  \n",
       "freq                                396     200   43002  "
      ]
     },
     "execution_count": 18,
     "metadata": {},
     "output_type": "execute_result"
    }
   ],
   "source": [
    "data_raw.dropna(inplace=True)\n",
    "\n",
    "data_raw.describe()"
   ]
  },
  {
   "cell_type": "code",
   "execution_count": 17,
   "metadata": {
    "ExecuteTime": {
     "end_time": "2019-09-21T15:18:53.327667Z",
     "start_time": "2019-09-21T15:18:53.286778Z"
    },
    "hidden": true
   },
   "outputs": [
    {
     "data": {
      "text/plain": [
       "Counter({'1': 12255,\n",
       "         '2': 14299,\n",
       "         '4': 40806,\n",
       "         '5': 31947,\n",
       "         '3': 31762,\n",
       "         'star': 1,\n",
       "         4: 43002,\n",
       "         3: 33910,\n",
       "         5: 27368,\n",
       "         2: 13837,\n",
       "         1: 12308})"
      ]
     },
     "execution_count": 17,
     "metadata": {},
     "output_type": "execute_result"
    }
   ],
   "source": [
    "# data_raw.groupby('star').sum()\n",
    "from collections import Counter\n",
    "\n",
    "count = Counter(data_raw.star)\n",
    "count"
   ]
  },
  {
   "cell_type": "code",
   "execution_count": 32,
   "metadata": {
    "ExecuteTime": {
     "end_time": "2019-09-21T15:30:25.218306Z",
     "start_time": "2019-09-21T15:30:25.167416Z"
    },
    "hidden": true
   },
   "outputs": [
    {
     "data": {
      "text/plain": [
       "568    star\n",
       "Name: star, dtype: object"
      ]
     },
     "execution_count": 32,
     "metadata": {},
     "output_type": "execute_result"
    }
   ],
   "source": [
    "data_raw['star'].where(lambda x: x == 'star').dropna()"
   ]
  },
  {
   "cell_type": "code",
   "execution_count": 37,
   "metadata": {
    "ExecuteTime": {
     "end_time": "2019-09-21T15:33:04.281598Z",
     "start_time": "2019-09-21T15:33:04.254672Z"
    },
    "hidden": true
   },
   "outputs": [],
   "source": [
    "data_raw.drop(index=568, inplace=True)"
   ]
  },
  {
   "cell_type": "code",
   "execution_count": 38,
   "metadata": {
    "ExecuteTime": {
     "end_time": "2019-09-21T15:33:19.340780Z",
     "start_time": "2019-09-21T15:33:19.298862Z"
    },
    "hidden": true,
    "scrolled": true
   },
   "outputs": [
    {
     "data": {
      "text/plain": [
       "Counter({'1': 12255,\n",
       "         '2': 14299,\n",
       "         '4': 40806,\n",
       "         '5': 31947,\n",
       "         '3': 31762,\n",
       "         4: 43002,\n",
       "         3: 33910,\n",
       "         5: 27368,\n",
       "         2: 13837,\n",
       "         1: 12308})"
      ]
     },
     "execution_count": 38,
     "metadata": {},
     "output_type": "execute_result"
    }
   ],
   "source": [
    "count = Counter(data_raw.star)\n",
    "count"
   ]
  },
  {
   "cell_type": "code",
   "execution_count": 41,
   "metadata": {
    "ExecuteTime": {
     "end_time": "2019-09-21T15:34:45.614390Z",
     "start_time": "2019-09-21T15:34:45.507605Z"
    },
    "hidden": true
   },
   "outputs": [],
   "source": [
    "data_raw.star = data_raw.star.apply(int)"
   ]
  },
  {
   "cell_type": "code",
   "execution_count": 42,
   "metadata": {
    "ExecuteTime": {
     "end_time": "2019-09-21T15:34:48.107126Z",
     "start_time": "2019-09-21T15:34:48.065237Z"
    },
    "hidden": true
   },
   "outputs": [
    {
     "data": {
      "text/plain": [
       "Counter({1: 24563, 2: 28136, 4: 83808, 5: 59315, 3: 65672})"
      ]
     },
     "execution_count": 42,
     "metadata": {},
     "output_type": "execute_result"
    }
   ],
   "source": [
    "count = Counter(data_raw.star)\n",
    "count"
   ]
  },
  {
   "cell_type": "code",
   "execution_count": 47,
   "metadata": {
    "ExecuteTime": {
     "end_time": "2019-09-21T15:37:12.930022Z",
     "start_time": "2019-09-21T15:37:12.864165Z"
    },
    "hidden": true
   },
   "outputs": [
    {
     "data": {
      "text/html": [
       "<div>\n",
       "<style scoped>\n",
       "    .dataframe tbody tr th:only-of-type {\n",
       "        vertical-align: middle;\n",
       "    }\n",
       "\n",
       "    .dataframe tbody tr th {\n",
       "        vertical-align: top;\n",
       "    }\n",
       "\n",
       "    .dataframe thead th {\n",
       "        text-align: right;\n",
       "    }\n",
       "</style>\n",
       "<table border=\"1\" class=\"dataframe\">\n",
       "  <thead>\n",
       "    <tr style=\"text-align: right;\">\n",
       "      <th></th>\n",
       "      <th>comment</th>\n",
       "      <th>star</th>\n",
       "    </tr>\n",
       "  </thead>\n",
       "  <tbody>\n",
       "    <tr>\n",
       "      <th>128050</th>\n",
       "      <td>片子很一般，but Bogart and Hepburn……</td>\n",
       "      <td>4</td>\n",
       "    </tr>\n",
       "    <tr>\n",
       "      <th>44920</th>\n",
       "      <td>眼睛瞪那么大</td>\n",
       "      <td>3</td>\n",
       "    </tr>\n",
       "    <tr>\n",
       "      <th>214823</th>\n",
       "      <td>优酷上支离破碎的84分钟阉割版，完全不连贯的剧情，简直了…去死。</td>\n",
       "      <td>2</td>\n",
       "    </tr>\n",
       "    <tr>\n",
       "      <th>87569</th>\n",
       "      <td>看了少说也有五六遍</td>\n",
       "      <td>4</td>\n",
       "    </tr>\n",
       "    <tr>\n",
       "      <th>3769</th>\n",
       "      <td>剧情、台词太差了，男主还是帅的，娜娜进步了</td>\n",
       "      <td>3</td>\n",
       "    </tr>\n",
       "  </tbody>\n",
       "</table>\n",
       "</div>"
      ],
      "text/plain": [
       "                                 comment  star\n",
       "128050    片子很一般，but Bogart and Hepburn……     4\n",
       "44920                             眼睛瞪那么大     3\n",
       "214823  优酷上支离破碎的84分钟阉割版，完全不连贯的剧情，简直了…去死。     2\n",
       "87569                          看了少说也有五六遍     4\n",
       "3769               剧情、台词太差了，男主还是帅的，娜娜进步了     3"
      ]
     },
     "execution_count": 47,
     "metadata": {},
     "output_type": "execute_result"
    }
   ],
   "source": [
    "trainning_data = data_raw.loc[:, ['comment', 'star']]\n",
    "trainning_data.sample(5)"
   ]
  },
  {
   "cell_type": "markdown",
   "metadata": {},
   "source": [
    "### 文本清洗"
   ]
  },
  {
   "cell_type": "code",
   "execution_count": 2,
   "metadata": {
    "ExecuteTime": {
     "end_time": "2019-09-22T08:31:45.926222Z",
     "start_time": "2019-09-22T08:31:42.360735Z"
    }
   },
   "outputs": [],
   "source": [
    "import jieba\n",
    "import re\n",
    "from tqdm import tqdm_notebook\n",
    "from IPython.display import clear_output\n",
    "\n",
    "\n",
    "tqdm_notebook().pandas()\n",
    "clear_output()\n",
    "\n",
    "def process_stop_word(path):\n",
    "    \n",
    "    stop_words = []\n",
    "    with open(path, encoding='utf-8') as f:\n",
    "        stop_words = f.read().split('\\n')\n",
    "    \n",
    "    return stop_words\n",
    "    \n",
    "\n",
    "def clean_not_chinese(data):\n",
    "    \"\"\"\n",
    "    data--data_Series\n",
    "    \"\"\"\n",
    "    re_data = []\n",
    "    for i in data:\n",
    "        i_re = ''.join(re.findall(r'[\\u4e00-\\u9fa5]', i))\n",
    "        re_data.append(i_re.strip())\n",
    "    return re_data\n",
    "    \n",
    "\n",
    "def tokenize(content, stop_words):\n",
    "    jieba_cut = jieba.cut(content)\n",
    "    \n",
    "    tokens = ''\n",
    "    for i in jieba_cut:\n",
    "        if i not in stop_words:\n",
    "            tokens += ' ' + i\n",
    "            \n",
    "    tokens = tokens.strip()\n",
    "    \n",
    "    return tokens\n",
    "\n",
    "\n",
    "def pre_process(data_, stop_words_path):\n",
    "    \"\"\"complete process\"\"\"\n",
    "    stop_words = process_stop_word(stop_words_path)\n",
    "\n",
    "    data_['comment'] = clean_not_chinese(data_['comment'])\n",
    "    data_['tokens'] = data_['comment'].progress_apply(\n",
    "                                                       lambda content: tokenize(content, stop_words))\n",
    "    \n",
    "    return data_"
   ]
  },
  {
   "cell_type": "code",
   "execution_count": 52,
   "metadata": {
    "ExecuteTime": {
     "end_time": "2019-09-21T15:45:53.534785Z",
     "start_time": "2019-09-21T15:44:35.666046Z"
    },
    "scrolled": true
   },
   "outputs": [
    {
     "data": {
      "application/vnd.jupyter.widget-view+json": {
       "model_id": "6804f60b6a16424fa264962efd3aeed6",
       "version_major": 2,
       "version_minor": 0
      },
      "text/plain": [
       "HBox(children=(IntProgress(value=0, max=261494), HTML(value='')))"
      ]
     },
     "metadata": {},
     "output_type": "display_data"
    },
    {
     "name": "stderr",
     "output_type": "stream",
     "text": [
      "Building prefix dict from the default dictionary ...\n",
      "Dumping model to file cache C:\\Users\\qw\\AppData\\Local\\Temp\\jieba.cache\n",
      "Loading model cost 1.053 seconds.\n",
      "Prefix dict has been built succesfully.\n"
     ]
    },
    {
     "name": "stdout",
     "output_type": "stream",
     "text": [
      "\n"
     ]
    },
    {
     "data": {
      "text/html": [
       "<div>\n",
       "<style scoped>\n",
       "    .dataframe tbody tr th:only-of-type {\n",
       "        vertical-align: middle;\n",
       "    }\n",
       "\n",
       "    .dataframe tbody tr th {\n",
       "        vertical-align: top;\n",
       "    }\n",
       "\n",
       "    .dataframe thead th {\n",
       "        text-align: right;\n",
       "    }\n",
       "</style>\n",
       "<table border=\"1\" class=\"dataframe\">\n",
       "  <thead>\n",
       "    <tr style=\"text-align: right;\">\n",
       "      <th></th>\n",
       "      <th>comment</th>\n",
       "      <th>star</th>\n",
       "      <th>tokens</th>\n",
       "    </tr>\n",
       "  </thead>\n",
       "  <tbody>\n",
       "    <tr>\n",
       "      <th>39019</th>\n",
       "      <td>帅</td>\n",
       "      <td>4</td>\n",
       "      <td>帅</td>\n",
       "    </tr>\n",
       "    <tr>\n",
       "      <th>163969</th>\n",
       "      <td>昨晚捧着碗吃面看的除了外景和配乐不能再多了</td>\n",
       "      <td>2</td>\n",
       "      <td>昨晚 捧 碗 吃面 看 除了 外景 配乐 不能</td>\n",
       "    </tr>\n",
       "    <tr>\n",
       "      <th>36235</th>\n",
       "      <td>喜欢没办法再讨厌也要给五星理科强强强生物强强强加大团圆结局不给五星不行</td>\n",
       "      <td>5</td>\n",
       "      <td>喜欢 没 办法 讨厌 五星 理科 强强 强 生物 强强 强加 大团圆 结局 五星 不行</td>\n",
       "    </tr>\n",
       "  </tbody>\n",
       "</table>\n",
       "</div>"
      ],
      "text/plain": [
       "                                    comment  star  \\\n",
       "39019                                     帅     4   \n",
       "163969                昨晚捧着碗吃面看的除了外景和配乐不能再多了     2   \n",
       "36235   喜欢没办法再讨厌也要给五星理科强强强生物强强强加大团圆结局不给五星不行     5   \n",
       "\n",
       "                                             tokens  \n",
       "39019                                             帅  \n",
       "163969                      昨晚 捧 碗 吃面 看 除了 外景 配乐 不能  \n",
       "36235   喜欢 没 办法 讨厌 五星 理科 强强 强 生物 强强 强加 大团圆 结局 五星 不行  "
      ]
     },
     "execution_count": 52,
     "metadata": {},
     "output_type": "execute_result"
    }
   ],
   "source": [
    "data_ = pre_process(trainning_data, 'chinese_stopwords.txt')\n",
    "data_.sample(3)"
   ]
  },
  {
   "cell_type": "code",
   "execution_count": null,
   "metadata": {
    "ExecuteTime": {
     "end_time": "2019-09-22T04:44:29.460785Z",
     "start_time": "2019-09-22T04:44:29.446795Z"
    }
   },
   "outputs": [],
   "source": [
    "data_.to_csv('cleaned_data.csv')"
   ]
  },
  {
   "cell_type": "code",
   "execution_count": 57,
   "metadata": {
    "ExecuteTime": {
     "end_time": "2019-09-21T15:51:08.878908Z",
     "start_time": "2019-09-21T15:51:08.874946Z"
    }
   },
   "outputs": [],
   "source": [
    "del trainning_data\n",
    "del data_raw"
   ]
  },
  {
   "cell_type": "markdown",
   "metadata": {},
   "source": [
    "### 加载预训词向量"
   ]
  },
  {
   "cell_type": "code",
   "execution_count": 3,
   "metadata": {
    "ExecuteTime": {
     "end_time": "2019-09-22T08:31:51.899738Z",
     "start_time": "2019-09-22T08:31:49.459445Z"
    }
   },
   "outputs": [],
   "source": [
    "data_ = pd.read_csv('cleaned_data.csv')\n",
    "data_.dropna(inplace=True)"
   ]
  },
  {
   "cell_type": "code",
   "execution_count": 14,
   "metadata": {
    "ExecuteTime": {
     "end_time": "2019-09-22T06:45:03.967039Z",
     "start_time": "2019-09-22T06:45:03.963019Z"
    }
   },
   "outputs": [],
   "source": [
    "# from collections import defaultdict\n",
    "\n",
    "\n",
    "# word_to_index = defaultdict()\n",
    "# for sentence in data_.tokens.values:\n",
    "#     for word in sentence.split():\n",
    "        \n",
    "#         if word in word_to_index:\n",
    "#             continue\n",
    "        \n",
    "#         word_to_index[word] = len(word_to_index)\n",
    "\n",
    "# len(word_to_index)"
   ]
  },
  {
   "cell_type": "code",
   "execution_count": 4,
   "metadata": {
    "ExecuteTime": {
     "end_time": "2019-09-22T08:32:33.233431Z",
     "start_time": "2019-09-22T08:32:06.059603Z"
    },
    "scrolled": true
   },
   "outputs": [
    {
     "data": {
      "application/vnd.jupyter.widget-view+json": {
       "model_id": "969e725423394e9ca9e70e9f305d2b04",
       "version_major": 2,
       "version_minor": 0
      },
      "text/plain": [
       "HBox(children=(IntProgress(value=0, max=195202), HTML(value='')))"
      ]
     },
     "metadata": {},
     "output_type": "display_data"
    },
    {
     "name": "stdout",
     "output_type": "stream",
     "text": [
      "\n"
     ]
    }
   ],
   "source": [
    "with open('sgns.weibo.char', 'r', encoding='utf-8') as f:\n",
    "    line = f.readlines()\n",
    "    word_total = line[0][0]\n",
    "    dim = line[0][1]\n",
    "    \n",
    "    word_to_vec = {}\n",
    "    for vec in tqdm_notebook(line[1: ]):\n",
    "        list_ = vec.split()\n",
    "        word_to_vec[list_[0]] = np.asarray(list_[1: ], dtype=float)"
   ]
  },
  {
   "cell_type": "code",
   "execution_count": 5,
   "metadata": {
    "ExecuteTime": {
     "end_time": "2019-09-22T06:30:01.254230Z",
     "start_time": "2019-09-22T06:30:01.244283Z"
    },
    "scrolled": true
   },
   "outputs": [
    {
     "data": {
      "text/plain": [
       "195195"
      ]
     },
     "execution_count": 5,
     "metadata": {},
     "output_type": "execute_result"
    }
   ],
   "source": [
    "len(word_to_vec)"
   ]
  },
  {
   "cell_type": "markdown",
   "metadata": {},
   "source": [
    "### Tensorflow模型搭建"
   ]
  },
  {
   "cell_type": "markdown",
   "metadata": {},
   "source": [
    "模型处理，将情感分类，按星级划分。如果降低粒度，可以将三星以下作为负类情感，三星以上为正类情感。那么模型的准确率指标也会相应提高"
   ]
  },
  {
   "cell_type": "markdown",
   "metadata": {},
   "source": [
    "数据最好经过长度筛选。（下文的训练结果是在未筛选的数据上训练的，同时模型出现较明显过拟合。当然在该数据条件下，神经网络需要进一步调优，不然很容易出现过拟合）\n",
    "\n",
    "这么处理是为了网络的输入，但是确实会损失一些数据。\n",
    "\n",
    "但是，不这样处理，pad太多的【0】对网络的效果影响较大。\n",
    "\n",
    "如下文中的结果所示。\n",
    "\n",
    "另外，下位结果是5分类的准确率。转化成2分类效果会很不一样。\n",
    "\n",
    "同时简单模型并不需要这么多条数据，尤其是神经网络这种很容易过拟合的模型"
   ]
  },
  {
   "cell_type": "code",
   "execution_count": 6,
   "metadata": {
    "ExecuteTime": {
     "end_time": "2019-09-22T08:34:07.675999Z",
     "start_time": "2019-09-22T08:33:54.280902Z"
    },
    "scrolled": true
   },
   "outputs": [],
   "source": [
    "import json\n",
    "import tensorflow as tf  # 1.13.1\n",
    "import random\n",
    "import numpy as np\n",
    "\n",
    "from tensorflow.keras.preprocessing.text import Tokenizer\n",
    "from tensorflow.keras.preprocessing.sequence import pad_sequences\n",
    "from tensorflow.keras.utils import to_categorical\n",
    "from tensorflow.keras import regularizers"
   ]
  },
  {
   "cell_type": "markdown",
   "metadata": {},
   "source": [
    "#### 超参数"
   ]
  },
  {
   "cell_type": "code",
   "execution_count": 7,
   "metadata": {
    "ExecuteTime": {
     "end_time": "2019-09-22T08:36:34.505107Z",
     "start_time": "2019-09-22T08:36:34.500121Z"
    }
   },
   "outputs": [],
   "source": [
    "# vocab_size = 100000  # 选择词表大小\n",
    "embedding_dim = 300\n",
    "max_length = 24\n",
    "trunc_type='post'  # 向后padding\n",
    "padding_type='post'  # 向后截断\n",
    "oov_tok = \"<OOV>\"\n",
    "training_size=160000\n",
    "test_portion=.1"
   ]
  },
  {
   "cell_type": "markdown",
   "metadata": {},
   "source": [
    "#### 序列处理"
   ]
  },
  {
   "cell_type": "code",
   "execution_count": 9,
   "metadata": {
    "ExecuteTime": {
     "end_time": "2019-09-22T08:36:53.375806Z",
     "start_time": "2019-09-22T08:36:53.372114Z"
    }
   },
   "outputs": [],
   "source": [
    "# 训练数据\n",
    "sentences = data_.tokens.values\n",
    "labels = data_.star.values"
   ]
  },
  {
   "cell_type": "code",
   "execution_count": 10,
   "metadata": {
    "ExecuteTime": {
     "end_time": "2019-09-22T08:37:12.572327Z",
     "start_time": "2019-09-22T08:37:01.458619Z"
    }
   },
   "outputs": [],
   "source": [
    "# tokenize 注意使用空格隔开词与词\n",
    "tokenizer = Tokenizer(oov_token=oov_tok)\n",
    "tokenizer.fit_on_texts(sentences)\n",
    "\n",
    "# word 与 index的映射\n",
    "word_index = tokenizer.word_index\n",
    "vocab_size=len(word_index)\n",
    "\n",
    "# word转ndex\n",
    "sequences = tokenizer.texts_to_sequences(sentences)"
   ]
  },
  {
   "cell_type": "markdown",
   "metadata": {},
   "source": [
    "长度变化分析，建议删除极端数据"
   ]
  },
  {
   "cell_type": "code",
   "execution_count": 11,
   "metadata": {
    "ExecuteTime": {
     "end_time": "2019-09-22T08:37:20.156009Z",
     "start_time": "2019-09-22T08:37:20.130020Z"
    },
    "scrolled": true
   },
   "outputs": [
    {
     "data": {
      "text/plain": [
       "11.443650368252834"
      ]
     },
     "execution_count": 11,
     "metadata": {},
     "output_type": "execute_result"
    }
   ],
   "source": [
    "length_list = list(map(len, sequences))\n",
    "sum(length_list) / len(length_list)"
   ]
  },
  {
   "cell_type": "code",
   "execution_count": 35,
   "metadata": {
    "ExecuteTime": {
     "end_time": "2019-09-22T09:36:55.590691Z",
     "start_time": "2019-09-22T09:36:55.583709Z"
    },
    "cell_style": "split"
   },
   "outputs": [
    {
     "data": {
      "text/plain": [
       "[[1581, 1564, 1457, 2207, 2, 426, 27, 697],\n",
       " [8200,\n",
       "  2,\n",
       "  9,\n",
       "  705,\n",
       "  3,\n",
       "  25493,\n",
       "  51,\n",
       "  1581,\n",
       "  1642,\n",
       "  29,\n",
       "  8497,\n",
       "  194,\n",
       "  477,\n",
       "  4690,\n",
       "  14415,\n",
       "  15665,\n",
       "  11187,\n",
       "  5803,\n",
       "  248,\n",
       "  6361,\n",
       "  628,\n",
       "  2151,\n",
       "  42,\n",
       "  2541,\n",
       "  7782],\n",
       " [1581,\n",
       "  5407,\n",
       "  490,\n",
       "  7538,\n",
       "  1643,\n",
       "  77911,\n",
       "  438,\n",
       "  106,\n",
       "  427,\n",
       "  5407,\n",
       "  1581,\n",
       "  2,\n",
       "  695,\n",
       "  427,\n",
       "  427,\n",
       "  311,\n",
       "  311,\n",
       "  19,\n",
       "  483,\n",
       "  1732,\n",
       "  784,\n",
       "  4508,\n",
       "  17,\n",
       "  260,\n",
       "  177,\n",
       "  6362,\n",
       "  2406,\n",
       "  260,\n",
       "  184,\n",
       "  611,\n",
       "  135,\n",
       "  9048,\n",
       "  126,\n",
       "  201,\n",
       "  370,\n",
       "  483,\n",
       "  427,\n",
       "  311,\n",
       "  360,\n",
       "  9674,\n",
       "  1510],\n",
       " [44548, 39, 1723, 10130, 597, 27732, 6362, 2406],\n",
       " [33766],\n",
       " [2419, 6753, 12989, 9263, 1581, 1919, 206, 532, 1564, 17852],\n",
       " [1511, 133, 155, 135],\n",
       " [148,\n",
       "  171,\n",
       "  11830,\n",
       "  2020,\n",
       "  3135,\n",
       "  427,\n",
       "  3566,\n",
       "  15011,\n",
       "  15666,\n",
       "  5479,\n",
       "  43,\n",
       "  231,\n",
       "  17049,\n",
       "  1581,\n",
       "  1658,\n",
       "  193,\n",
       "  1956,\n",
       "  54508,\n",
       "  27733,\n",
       "  11188,\n",
       "  5220,\n",
       "  12186,\n",
       "  2273,\n",
       "  1174,\n",
       "  2142,\n",
       "  30385,\n",
       "  2219,\n",
       "  10131,\n",
       "  629,\n",
       "  8344,\n",
       "  44549,\n",
       "  27734,\n",
       "  25494,\n",
       "  136,\n",
       "  326,\n",
       "  334,\n",
       "  345,\n",
       "  960,\n",
       "  38188,\n",
       "  3599,\n",
       "  802,\n",
       "  10650,\n",
       "  33767,\n",
       "  157],\n",
       " [2219,\n",
       "  629,\n",
       "  4077,\n",
       "  2347,\n",
       "  4004,\n",
       "  1100,\n",
       "  490,\n",
       "  5055,\n",
       "  302,\n",
       "  54509,\n",
       "  11830,\n",
       "  38189,\n",
       "  3023,\n",
       "  1894,\n",
       "  105,\n",
       "  44550,\n",
       "  6268,\n",
       "  4932,\n",
       "  4121,\n",
       "  23752,\n",
       "  1339,\n",
       "  44551,\n",
       "  54510,\n",
       "  19792,\n",
       "  406,\n",
       "  14,\n",
       "  8867,\n",
       "  445,\n",
       "  718,\n",
       "  740,\n",
       "  72,\n",
       "  5804,\n",
       "  140,\n",
       "  2032,\n",
       "  44552,\n",
       "  3070,\n",
       "  5,\n",
       "  68,\n",
       "  86,\n",
       "  185,\n",
       "  8868,\n",
       "  68,\n",
       "  622,\n",
       "  14,\n",
       "  817,\n",
       "  12187,\n",
       "  785,\n",
       "  7410,\n",
       "  1315,\n",
       "  12188,\n",
       "  387,\n",
       "  5732,\n",
       "  9495,\n",
       "  77912,\n",
       "  996],\n",
       " [1581,\n",
       "  77913,\n",
       "  28,\n",
       "  463,\n",
       "  38190,\n",
       "  2021,\n",
       "  77914,\n",
       "  2101,\n",
       "  904,\n",
       "  233,\n",
       "  3,\n",
       "  140,\n",
       "  161,\n",
       "  916,\n",
       "  198,\n",
       "  2348,\n",
       "  1765,\n",
       "  174,\n",
       "  38191,\n",
       "  194,\n",
       "  485,\n",
       "  1593,\n",
       "  6844,\n",
       "  1013,\n",
       "  198,\n",
       "  1368,\n",
       "  427,\n",
       "  12189,\n",
       "  31,\n",
       "  889,\n",
       "  2317,\n",
       "  123,\n",
       "  341,\n",
       "  4466,\n",
       "  198,\n",
       "  1558,\n",
       "  35,\n",
       "  433,\n",
       "  9905,\n",
       "  4553,\n",
       "  15667,\n",
       "  3752,\n",
       "  569,\n",
       "  920,\n",
       "  20938]]"
      ]
     },
     "execution_count": 35,
     "metadata": {},
     "output_type": "execute_result"
    }
   ],
   "source": [
    "sequences[: 10]"
   ]
  },
  {
   "cell_type": "code",
   "execution_count": 36,
   "metadata": {
    "ExecuteTime": {
     "end_time": "2019-09-22T09:37:46.857955Z",
     "start_time": "2019-09-22T09:37:46.851991Z"
    },
    "cell_style": "split",
    "scrolled": true
   },
   "outputs": [
    {
     "data": {
      "text/plain": [
       "[8, 25, 41, 8, 1, 10, 4, 44, 55, 45]"
      ]
     },
     "execution_count": 36,
     "metadata": {},
     "output_type": "execute_result"
    }
   ],
   "source": [
    "length_list[: 10]"
   ]
  },
  {
   "cell_type": "code",
   "execution_count": 39,
   "metadata": {
    "ExecuteTime": {
     "end_time": "2019-09-22T09:43:15.724877Z",
     "start_time": "2019-09-22T09:43:15.370444Z"
    }
   },
   "outputs": [
    {
     "data": {
      "text/plain": [
       "(0, 100)"
      ]
     },
     "execution_count": 39,
     "metadata": {},
     "output_type": "execute_result"
    },
    {
     "data": {
      "image/png": "[encoded data removed]",
      "text/plain": [
       "<Figure size 432x288 with 1 Axes>"
      ]
     },
     "metadata": {
      "needs_background": "light"
     },
     "output_type": "display_data"
    }
   ],
   "source": [
    "import seaborn as sns\n",
    "\n",
    "ax = sns.distplot(length_list)\n",
    "plt.xlim((0, 100))"
   ]
  },
  {
   "cell_type": "code",
   "execution_count": 41,
   "metadata": {
    "ExecuteTime": {
     "end_time": "2019-09-22T09:44:03.937615Z",
     "start_time": "2019-09-22T09:44:03.631400Z"
    }
   },
   "outputs": [
    {
     "data": {
      "text/plain": [
       "[<matplotlib.lines.Line2D at 0x27c778817b8>]"
      ]
     },
     "execution_count": 41,
     "metadata": {},
     "output_type": "execute_result"
    },
    {
     "data": {
      "image/png": "[encoded data removed]",
      "text/plain": [
       "<Figure size 432x288 with 1 Axes>"
      ]
     },
     "metadata": {
      "needs_background": "light"
     },
     "output_type": "display_data"
    }
   ],
   "source": [
    "import matplotlib.pyplot as plt\n",
    "%matplotlib inline\n",
    "\n",
    "plt.plot(length_list)\n",
    "# plt.ylim((0, 40))"
   ]
  },
  {
   "cell_type": "markdown",
   "metadata": {},
   "source": [
    "这么处理是为了网络的输入，但是确实会损失一些数据。\n",
    "\n",
    "但是，不这样处理，pad太多的【0】对网络的效果影响较大。\n",
    "\n",
    "如下文中的结果所示。\n",
    "\n",
    "另外，下位结果是5分类的准确率。转化成2分类效果会很不一样。\n",
    "\n",
    "同时简单模型并不需要这么多条数据，尤其是神经网络这种很容易过拟合的模型"
   ]
  },
  {
   "cell_type": "code",
   "execution_count": null,
   "metadata": {},
   "outputs": [],
   "source": [
    "# seqs = []\n",
    "\n",
    "# for seq in sequences:\n",
    "#     if len(seq) < 10 and len(seq) > 40:\n",
    "#         continue\n",
    "#     seqs.append(seq)"
   ]
  },
  {
   "cell_type": "code",
   "execution_count": null,
   "metadata": {},
   "outputs": [],
   "source": []
  },
  {
   "cell_type": "code",
   "execution_count": 12,
   "metadata": {
    "ExecuteTime": {
     "end_time": "2019-09-22T08:37:33.416740Z",
     "start_time": "2019-09-22T08:37:32.258952Z"
    }
   },
   "outputs": [],
   "source": [
    "# 序列补齐，注意有需要时使用bucket，建立不同的length输入\n",
    "padded = pad_sequences(sequences, \n",
    "                                           maxlen=max_length, \n",
    "                                           padding=padding_type, \n",
    "                                           truncating=trunc_type)"
   ]
  },
  {
   "cell_type": "markdown",
   "metadata": {},
   "source": [
    "#### 训练集与测试集"
   ]
  },
  {
   "cell_type": "code",
   "execution_count": 13,
   "metadata": {
    "ExecuteTime": {
     "end_time": "2019-09-22T08:38:02.624757Z",
     "start_time": "2019-09-22T08:38:02.619784Z"
    }
   },
   "outputs": [],
   "source": [
    "split = int(test_portion * training_size)\n",
    "\n",
    "test_sequences = padded[: training_size][0: split]\n",
    "training_sequences = padded[: training_size][split: training_size]\n",
    "\n",
    "test_labels = labels[: training_size][0: split]\n",
    "training_labels = labels[: training_size][split: training_size]"
   ]
  },
  {
   "cell_type": "markdown",
   "metadata": {},
   "source": [
    "#### 预训练词向量赋值"
   ]
  },
  {
   "cell_type": "code",
   "execution_count": 14,
   "metadata": {
    "ExecuteTime": {
     "end_time": "2019-09-22T08:38:11.579926Z",
     "start_time": "2019-09-22T08:38:11.279772Z"
    }
   },
   "outputs": [],
   "source": [
    "embeddings_matrix = np.zeros((vocab_size+1, embedding_dim))\n",
    "\n",
    "for word, i in word_index.items():\n",
    "    embedding_vec = word_to_vec.get(word)\n",
    "    if embedding_vec is not None:\n",
    "        embeddings_matrix[i] = embedding_vec"
   ]
  },
  {
   "cell_type": "code",
   "execution_count": 15,
   "metadata": {
    "ExecuteTime": {
     "end_time": "2019-09-22T08:38:18.754762Z",
     "start_time": "2019-09-22T08:38:18.748806Z"
    }
   },
   "outputs": [
    {
     "data": {
      "text/plain": [
       "(143045, 300)"
      ]
     },
     "execution_count": 15,
     "metadata": {},
     "output_type": "execute_result"
    }
   ],
   "source": [
    "embeddings_matrix.shape"
   ]
  },
  {
   "cell_type": "markdown",
   "metadata": {},
   "source": [
    "#### label处理"
   ]
  },
  {
   "cell_type": "code",
   "execution_count": 16,
   "metadata": {
    "ExecuteTime": {
     "end_time": "2019-09-22T08:38:26.574158Z",
     "start_time": "2019-09-22T08:38:26.569167Z"
    }
   },
   "outputs": [
    {
     "data": {
      "text/plain": [
       "array([1, 2, 2, 4, 1, 1, 2, 4, 4, 1], dtype=int64)"
      ]
     },
     "execution_count": 16,
     "metadata": {},
     "output_type": "execute_result"
    }
   ],
   "source": [
    "test_labels[: 10]"
   ]
  },
  {
   "cell_type": "code",
   "execution_count": 17,
   "metadata": {
    "ExecuteTime": {
     "end_time": "2019-09-22T08:38:34.509014Z",
     "start_time": "2019-09-22T08:38:34.501025Z"
    }
   },
   "outputs": [],
   "source": [
    "# y要求从0 到 num_classes\n",
    "test_labels = to_categorical(test_labels - 1, num_classes=5)\n",
    "training_labels = to_categorical(training_labels - 1, num_classes=5)"
   ]
  },
  {
   "cell_type": "code",
   "execution_count": 18,
   "metadata": {
    "ExecuteTime": {
     "end_time": "2019-09-22T08:38:42.063255Z",
     "start_time": "2019-09-22T08:38:42.059232Z"
    },
    "scrolled": true
   },
   "outputs": [
    {
     "data": {
      "text/plain": [
       "(144000, 5)"
      ]
     },
     "execution_count": 18,
     "metadata": {},
     "output_type": "execute_result"
    }
   ],
   "source": [
    "training_labels.shape"
   ]
  },
  {
   "cell_type": "code",
   "execution_count": 19,
   "metadata": {
    "ExecuteTime": {
     "end_time": "2019-09-22T08:38:50.432810Z",
     "start_time": "2019-09-22T08:38:50.427805Z"
    }
   },
   "outputs": [
    {
     "data": {
      "text/plain": [
       "(16000, 5)"
      ]
     },
     "execution_count": 19,
     "metadata": {},
     "output_type": "execute_result"
    }
   ],
   "source": [
    "test_labels.shape"
   ]
  },
  {
   "cell_type": "markdown",
   "metadata": {},
   "source": [
    "#### model"
   ]
  },
  {
   "cell_type": "code",
   "execution_count": 27,
   "metadata": {
    "ExecuteTime": {
     "end_time": "2019-09-22T09:17:21.789216Z",
     "start_time": "2019-09-22T09:17:20.654395Z"
    }
   },
   "outputs": [
    {
     "name": "stdout",
     "output_type": "stream",
     "text": [
      "_________________________________________________________________\n",
      "Layer (type)                 Output Shape              Param #   \n",
      "=================================================================\n",
      "embedding_2 (Embedding)      (None, 24, 300)           42913500  \n",
      "_________________________________________________________________\n",
      "dropout_2 (Dropout)          (None, 24, 300)           0         \n",
      "_________________________________________________________________\n",
      "conv1d_3 (Conv1D)            (None, 20, 128)           192128    \n",
      "_________________________________________________________________\n",
      "max_pooling1d_2 (MaxPooling1 (None, 10, 128)           0         \n",
      "_________________________________________________________________\n",
      "conv1d_4 (Conv1D)            (None, 8, 64)             24640     \n",
      "_________________________________________________________________\n",
      "average_pooling1d_1 (Average (None, 4, 64)             0         \n",
      "_________________________________________________________________\n",
      "flatten_1 (Flatten)          (None, 256)               0         \n",
      "_________________________________________________________________\n",
      "dense_3 (Dense)              (None, 128)               32896     \n",
      "_________________________________________________________________\n",
      "dense_4 (Dense)              (None, 5)                 645       \n",
      "=================================================================\n",
      "Total params: 43,163,809\n",
      "Trainable params: 250,309\n",
      "Non-trainable params: 42,913,500\n",
      "_________________________________________________________________\n"
     ]
    }
   ],
   "source": [
    "model = tf.keras.Sequential([\n",
    "    tf.keras.layers.Embedding(vocab_size+1, \n",
    "                                              embedding_dim, \n",
    "                                              input_length=max_length, \n",
    "                                              weights=[embeddings_matrix], \n",
    "                                              trainable=False),\n",
    "    tf.keras.layers.Dropout(0.2),\n",
    "    tf.keras.layers.Conv1D(128, 5, activation='relu'), \n",
    "    tf.keras.layers.MaxPooling1D(pool_size=2),\n",
    "    tf.keras.layers.Conv1D(64, 3, activation='relu'),\n",
    "    tf.keras.layers.AvgPool1D(pool_size=2),\n",
    "    # tf.keras.layers.LSTM(128, \n",
    "    #                                  kernel_constraint=tf.keras.constraints.MaxNorm(2.)),\n",
    "    tf.keras.layers.Flatten(),\n",
    "    tf.keras.layers.Dense(128, \n",
    "                                      kernel_regularizer=regularizers.l2(0.01),\n",
    "                                      activation='softmax'),\n",
    "\n",
    "    tf.keras.layers.Dense(5, activation='softmax')\n",
    "])\n",
    "\n",
    "model.compile(loss='categorical_crossentropy', \n",
    "                         optimizer='adam',\n",
    "                         metrics=['accuracy'])\n",
    "model.summary()"
   ]
  },
  {
   "cell_type": "code",
   "execution_count": 29,
   "metadata": {
    "ExecuteTime": {
     "end_time": "2019-09-22T09:28:58.612396Z",
     "start_time": "2019-09-22T09:20:16.513142Z"
    },
    "scrolled": false
   },
   "outputs": [
    {
     "name": "stdout",
     "output_type": "stream",
     "text": [
      "Train on 144000 samples, validate on 16000 samples\n",
      "Epoch 1/20\n",
      " - 24s - loss: 1.2327 - acc: 0.4533 - val_loss: 1.2806 - val_acc: 0.4291\n",
      "Epoch 2/20\n",
      " - 24s - loss: 1.2014 - acc: 0.4709 - val_loss: 1.4462 - val_acc: 0.3604\n",
      "Epoch 3/20\n",
      " - 24s - loss: 1.1728 - acc: 0.4842 - val_loss: 1.3893 - val_acc: 0.3837\n",
      "Epoch 4/20\n",
      " - 25s - loss: 1.1486 - acc: 0.4956 - val_loss: 1.3682 - val_acc: 0.3987\n",
      "Epoch 5/20\n",
      " - 26s - loss: 1.1278 - acc: 0.5082 - val_loss: 1.4168 - val_acc: 0.3824\n",
      "Epoch 6/20\n",
      " - 27s - loss: 1.1110 - acc: 0.5170 - val_loss: 1.4451 - val_acc: 0.3714\n",
      "Epoch 7/20\n",
      " - 26s - loss: 1.0938 - acc: 0.5265 - val_loss: 1.4261 - val_acc: 0.3824\n",
      "Epoch 8/20\n",
      " - 26s - loss: 1.0794 - acc: 0.5330 - val_loss: 1.4649 - val_acc: 0.3745\n",
      "Epoch 9/20\n",
      " - 27s - loss: 1.0682 - acc: 0.5384 - val_loss: 1.4235 - val_acc: 0.3951\n",
      "Epoch 10/20\n",
      " - 25s - loss: 1.0568 - acc: 0.5442 - val_loss: 1.4343 - val_acc: 0.3899\n",
      "Epoch 11/20\n",
      " - 25s - loss: 1.0450 - acc: 0.5508 - val_loss: 1.4885 - val_acc: 0.3834\n",
      "Epoch 12/20\n",
      " - 25s - loss: 1.0364 - acc: 0.5547 - val_loss: 1.4899 - val_acc: 0.3791\n",
      "Epoch 13/20\n",
      " - 24s - loss: 1.0269 - acc: 0.5596 - val_loss: 1.5444 - val_acc: 0.3718\n",
      "Epoch 14/20\n",
      " - 24s - loss: 1.0201 - acc: 0.5624 - val_loss: 1.5035 - val_acc: 0.3842\n",
      "Epoch 15/20\n",
      " - 25s - loss: 1.0120 - acc: 0.5667 - val_loss: 1.4457 - val_acc: 0.3993\n",
      "Epoch 16/20\n",
      " - 26s - loss: 1.0044 - acc: 0.5729 - val_loss: 1.5257 - val_acc: 0.3800\n",
      "Epoch 17/20\n",
      " - 29s - loss: 0.9965 - acc: 0.5767 - val_loss: 1.5032 - val_acc: 0.3898\n",
      "Epoch 18/20\n",
      " - 28s - loss: 0.9923 - acc: 0.5777 - val_loss: 1.5395 - val_acc: 0.3806\n",
      "Epoch 19/20\n",
      " - 29s - loss: 0.9876 - acc: 0.5803 - val_loss: 1.4927 - val_acc: 0.3866\n",
      "Epoch 20/20\n",
      " - 33s - loss: 0.9801 - acc: 0.5841 - val_loss: 1.4972 - val_acc: 0.3949\n"
     ]
    }
   ],
   "source": [
    "num_epochs = 20\n",
    "\n",
    "history = model.fit(training_sequences,\n",
    "                               training_labels,\n",
    "                               epochs=num_epochs,\n",
    "                               validation_data=(test_sequences, test_labels), \n",
    "                               verbose=2)"
   ]
  },
  {
   "cell_type": "code",
   "execution_count": null,
   "metadata": {
    "ExecuteTime": {
     "start_time": "2019-09-22T09:55:39.417Z"
    }
   },
   "outputs": [],
   "source": [
    "# import matplotlib.image  as mpimg\n",
    "# import matplotlib.pyplot as plt\n",
    "\n",
    "# #-----------------------------------------------------------\n",
    "# # Retrieve a list of list results on training and test data\n",
    "# # sets for each training epoch\n",
    "# #-----------------------------------------------------------\n",
    "# acc=history.history['acc']\n",
    "# val_acc=history.history['val_acc']\n",
    "# loss=history.history['loss']\n",
    "# val_loss=history.history['val_loss']\n",
    "\n",
    "# epochs=range(len(acc)) # Get number of epochs\n",
    "\n",
    "# #------------------------------------------------\n",
    "# # Plot training and validation accuracy per epoch\n",
    "# #------------------------------------------------\n",
    "# plt.plot(epochs, acc, 'r')\n",
    "# plt.plot(epochs, val_acc, 'b')\n",
    "# plt.title('Training and validation accuracy')\n",
    "# plt.xlabel(\"Epochs\")\n",
    "# plt.ylabel(\"Accuracy\")\n",
    "# plt.legend([\"Accuracy\", \"Validation Accuracy\"])\n",
    "\n",
    "# plt.figure()\n",
    "\n",
    "# #------------------------------------------------\n",
    "# # Plot training and validation loss per epoch\n",
    "# #------------------------------------------------\n",
    "# plt.plot(epochs, loss, 'r')\n",
    "# plt.plot(epochs, val_loss, 'b')\n",
    "# plt.title('Training and validation loss')\n",
    "# plt.xlabel(\"Epochs\")\n",
    "# plt.ylabel(\"Loss\")\n",
    "# plt.legend([\"Loss\", \"Validation Loss\"])\n",
    "\n",
    "# plt.figure()"
   ]
  },
  {
   "cell_type": "code",
   "execution_count": null,
   "metadata": {},
   "outputs": [],
   "source": []
  }
 ],
 "metadata": {
  "kernelspec": {
   "display_name": "nlp-kernel",
   "language": "python",
   "name": "nlp"
  },
  "language_info": {
   "codemirror_mode": {
    "name": "ipython",
    "version": 3
   },
   "file_extension": ".py",
   "mimetype": "text/x-python",
   "name": "python",
   "nbconvert_exporter": "python",
   "pygments_lexer": "ipython3",
   "version": "3.6.8"
  },
  "toc": {
   "base_numbering": 1,
   "nav_menu": {},
   "number_sections": true,
   "sideBar": true,
   "skip_h1_title": false,
   "title_cell": "Table of Contents",
   "title_sidebar": "Contents",
   "toc_cell": false,
   "toc_position": {},
   "toc_section_display": true,
   "toc_window_display": false
  },
  "varInspector": {
   "cols": {
    "lenName": 16,
    "lenType": 16,
    "lenVar": 40
   },
   "kernels_config": {
    "python": {
     "delete_cmd_postfix": "",
     "delete_cmd_prefix": "del ",
     "library": "var_list.py",
     "varRefreshCmd": "print(var_dic_list())"
    },
    "r": {
     "delete_cmd_postfix": ") ",
     "delete_cmd_prefix": "rm(",
     "library": "var_list.r",
     "varRefreshCmd": "cat(var_dic_list()) "
    }
   },
   "position": {
    "height": "326px",
    "left": "1545px",
    "right": "20px",
    "top": "120px",
    "width": "355px"
   },
   "types_to_exclude": [
    "module",
    "function",
    "builtin_function_or_method",
    "instance",
    "_Feature"
   ],
   "window_display": false
  },
  "widgets": {
   "application/vnd.jupyter.widget-state+json": {
    "state": {
     "0191d017a71f428bb30e619d2daa009f": {
      "model_module": "@jupyter-widgets/base",
      "model_module_version": "1.1.0",
      "model_name": "LayoutModel",
      "state": {}
     },
     "07e280a8bf6f424499c4c2226c5b5f4a": {
      "model_module": "@jupyter-widgets/controls",
      "model_module_version": "1.4.0",
      "model_name": "HBoxModel",
      "state": {
       "children": [
        "IPY_MODEL_a9b66670d31542cfb11dae548360c6fd",
        "IPY_MODEL_da78a2425f434b9d96694a781559e097"
       ],
       "layout": "IPY_MODEL_b3004c30accc4981aa1ca9d6cabcc7d2"
      }
     },
     "0b959324ed0441118fa02500bc800b14": {
      "model_module": "@jupyter-widgets/controls",
      "model_module_version": "1.4.0",
      "model_name": "IntProgressModel",
      "state": {
       "bar_style": "success",
       "layout": "IPY_MODEL_0db77c75d5b149368c8f7ab4b906c2bc",
       "max": 1,
       "style": "IPY_MODEL_aabf3bb46033402f9d6e6ec2e0b9cee7",
       "value": 1
      }
     },
     "0db77c75d5b149368c8f7ab4b906c2bc": {
      "model_module": "@jupyter-widgets/base",
      "model_module_version": "1.1.0",
      "model_name": "LayoutModel",
      "state": {}
     },
     "18d72c43a82645d9ad22e10cf8b6da07": {
      "model_module": "@jupyter-widgets/controls",
      "model_module_version": "1.4.0",
      "model_name": "HTMLModel",
      "state": {
       "layout": "IPY_MODEL_4c29c6e0858f4adda775c4edd65ffc49",
       "style": "IPY_MODEL_3436b55dfb44468c884ead5f932de6c8",
       "value": "100% 195202/195202 [00:20&lt;00:00, 9376.25it/s]"
      }
     },
     "1f082197d13e43e3a79a16e06fb251d8": {
      "model_module": "@jupyter-widgets/base",
      "model_module_version": "1.1.0",
      "model_name": "LayoutModel",
      "state": {}
     },
     "24e55eaef4b2469a90a4b1104eba718f": {
      "model_module": "@jupyter-widgets/controls",
      "model_module_version": "1.4.0",
      "model_name": "HTMLModel",
      "state": {
       "layout": "IPY_MODEL_70c1829da69c47c1a25be41edd59317b",
       "style": "IPY_MODEL_c1353dea6a5c4f7a91b15a3c25e705f8",
       "value": "100% 195202/195202 [00:20&lt;00:00, 9433.39it/s]"
      }
     },
     "298e241e116345fe912181adfdfedd65": {
      "model_module": "@jupyter-widgets/controls",
      "model_module_version": "1.4.0",
      "model_name": "IntProgressModel",
      "state": {
       "bar_style": "success",
       "layout": "IPY_MODEL_675406d663ec453f8e8f74972e7fdbd4",
       "max": 1,
       "style": "IPY_MODEL_f05e8d00530d48faad7ad11c51db7b6f",
       "value": 1
      }
     },
     "2a853302f6bf4116bbabe19925193119": {
      "model_module": "@jupyter-widgets/base",
      "model_module_version": "1.1.0",
      "model_name": "LayoutModel",
      "state": {}
     },
     "3239405602164fa49c802919d7da06b0": {
      "model_module": "@jupyter-widgets/base",
      "model_module_version": "1.1.0",
      "model_name": "LayoutModel",
      "state": {}
     },
     "33e41a736d3c4e778de25d30d361095b": {
      "model_module": "@jupyter-widgets/controls",
      "model_module_version": "1.4.0",
      "model_name": "HTMLModel",
      "state": {
       "layout": "IPY_MODEL_6ee88dd5f9f44e93a67d0d71411e645d",
       "style": "IPY_MODEL_9aca1931d3554d5095d0a8b8fc5700d1",
       "value": "0/|/| 0/? [00:00&lt;?, ?it/s]"
      }
     },
     "3436b55dfb44468c884ead5f932de6c8": {
      "model_module": "@jupyter-widgets/controls",
      "model_module_version": "1.4.0",
      "model_name": "DescriptionStyleModel",
      "state": {
       "description_width": ""
      }
     },
     "3b7257cc615241188755c605a467786f": {
      "model_module": "@jupyter-widgets/base",
      "model_module_version": "1.1.0",
      "model_name": "LayoutModel",
      "state": {}
     },
     "466f732a59184916b0eb9cd3ce371827": {
      "model_module": "@jupyter-widgets/controls",
      "model_module_version": "1.4.0",
      "model_name": "DescriptionStyleModel",
      "state": {
       "description_width": ""
      }
     },
     "4abb6b0c0090496c8f20db39aa05316a": {
      "model_module": "@jupyter-widgets/controls",
      "model_module_version": "1.4.0",
      "model_name": "HBoxModel",
      "state": {
       "children": [
        "IPY_MODEL_0b959324ed0441118fa02500bc800b14",
        "IPY_MODEL_33e41a736d3c4e778de25d30d361095b"
       ],
       "layout": "IPY_MODEL_7480d51e214f4218b1fd2fcc15ff597b"
      }
     },
     "4c29c6e0858f4adda775c4edd65ffc49": {
      "model_module": "@jupyter-widgets/base",
      "model_module_version": "1.1.0",
      "model_name": "LayoutModel",
      "state": {}
     },
     "4ebe4a2eec3b4b4fb664a3a443442941": {
      "model_module": "@jupyter-widgets/controls",
      "model_module_version": "1.4.0",
      "model_name": "HTMLModel",
      "state": {
       "layout": "IPY_MODEL_ee4af5703bc84270abfbcbc90ce6b999",
       "style": "IPY_MODEL_e1c4b5b54afc4570a7d5f7e982be406a",
       "value": "100% 195202/195202 [00:20&lt;00:00, 9643.95it/s]"
      }
     },
     "508a7620fc27440697ce14a36a658d45": {
      "model_module": "@jupyter-widgets/controls",
      "model_module_version": "1.4.0",
      "model_name": "ProgressStyleModel",
      "state": {
       "description_width": ""
      }
     },
     "5385e8f857974759a38b4aacd63b0111": {
      "model_module": "@jupyter-widgets/controls",
      "model_module_version": "1.4.0",
      "model_name": "ProgressStyleModel",
      "state": {
       "description_width": ""
      }
     },
     "53e4a6cc836a45da81076d200d947f0d": {
      "model_module": "@jupyter-widgets/base",
      "model_module_version": "1.1.0",
      "model_name": "LayoutModel",
      "state": {}
     },
     "5ccf3501a7ce46dba1d0e170eb396840": {
      "model_module": "@jupyter-widgets/base",
      "model_module_version": "1.1.0",
      "model_name": "LayoutModel",
      "state": {}
     },
     "5f468225ae854cfe93aa8b14c46c43b3": {
      "model_module": "@jupyter-widgets/controls",
      "model_module_version": "1.4.0",
      "model_name": "ProgressStyleModel",
      "state": {
       "description_width": ""
      }
     },
     "658ed530ee4f4d4eb5e4581c74668819": {
      "model_module": "@jupyter-widgets/base",
      "model_module_version": "1.1.0",
      "model_name": "LayoutModel",
      "state": {}
     },
     "675406d663ec453f8e8f74972e7fdbd4": {
      "model_module": "@jupyter-widgets/base",
      "model_module_version": "1.1.0",
      "model_name": "LayoutModel",
      "state": {}
     },
     "6d261540ccc74cc6a89dd6e9d95519c2": {
      "model_module": "@jupyter-widgets/base",
      "model_module_version": "1.1.0",
      "model_name": "LayoutModel",
      "state": {}
     },
     "6d3603e7b65d47b0b2ef4ac642356d32": {
      "model_module": "@jupyter-widgets/controls",
      "model_module_version": "1.4.0",
      "model_name": "HBoxModel",
      "state": {
       "children": [
        "IPY_MODEL_dc4e5fa6309e4865a94b367e19710f3b",
        "IPY_MODEL_fed11a5f7939466b8b1c96bfc8c82456"
       ],
       "layout": "IPY_MODEL_0191d017a71f428bb30e619d2daa009f"
      }
     },
     "6eb0be3132e34e5e8356e4d515e2a2f0": {
      "model_module": "@jupyter-widgets/controls",
      "model_module_version": "1.4.0",
      "model_name": "IntProgressModel",
      "state": {
       "bar_style": "success",
       "layout": "IPY_MODEL_3239405602164fa49c802919d7da06b0",
       "max": 195202,
       "style": "IPY_MODEL_fe4f128515584832aeb5dc36a4cbda01",
       "value": 195202
      }
     },
     "6ee88dd5f9f44e93a67d0d71411e645d": {
      "model_module": "@jupyter-widgets/base",
      "model_module_version": "1.1.0",
      "model_name": "LayoutModel",
      "state": {}
     },
     "70c1829da69c47c1a25be41edd59317b": {
      "model_module": "@jupyter-widgets/base",
      "model_module_version": "1.1.0",
      "model_name": "LayoutModel",
      "state": {}
     },
     "7480d51e214f4218b1fd2fcc15ff597b": {
      "model_module": "@jupyter-widgets/base",
      "model_module_version": "1.1.0",
      "model_name": "LayoutModel",
      "state": {}
     },
     "77ce28fb27e14625af9ccfabf9ffacf9": {
      "model_module": "@jupyter-widgets/controls",
      "model_module_version": "1.4.0",
      "model_name": "IntProgressModel",
      "state": {
       "bar_style": "success",
       "layout": "IPY_MODEL_a5abdc09811e41f5b65dcd2cd1505acb",
       "max": 195202,
       "style": "IPY_MODEL_508a7620fc27440697ce14a36a658d45",
       "value": 195202
      }
     },
     "7efb723abf894656a683d02b5d859454": {
      "model_module": "@jupyter-widgets/controls",
      "model_module_version": "1.4.0",
      "model_name": "DescriptionStyleModel",
      "state": {
       "description_width": ""
      }
     },
     "8bd38d83fbc442208e826dde67c21e22": {
      "model_module": "@jupyter-widgets/controls",
      "model_module_version": "1.4.0",
      "model_name": "HTMLModel",
      "state": {
       "layout": "IPY_MODEL_c7134a5ffab3414091e51b1f27707db4",
       "style": "IPY_MODEL_b137b5eb2a8b4b128e4d5dad47d0593c",
       "value": "0/|/| 0/? [00:00&lt;?, ?it/s]"
      }
     },
     "8c42bf6379fa4621acc1f7062ec6a01b": {
      "model_module": "@jupyter-widgets/base",
      "model_module_version": "1.1.0",
      "model_name": "LayoutModel",
      "state": {}
     },
     "8fe7587e579b4cf39787190827941e2c": {
      "model_module": "@jupyter-widgets/base",
      "model_module_version": "1.1.0",
      "model_name": "LayoutModel",
      "state": {}
     },
     "9532267ab3f34ed99395097e6bbcd3e1": {
      "model_module": "@jupyter-widgets/base",
      "model_module_version": "1.1.0",
      "model_name": "LayoutModel",
      "state": {}
     },
     "969e725423394e9ca9e70e9f305d2b04": {
      "model_module": "@jupyter-widgets/controls",
      "model_module_version": "1.4.0",
      "model_name": "HBoxModel",
      "state": {
       "children": [
        "IPY_MODEL_77ce28fb27e14625af9ccfabf9ffacf9",
        "IPY_MODEL_18d72c43a82645d9ad22e10cf8b6da07"
       ],
       "layout": "IPY_MODEL_8fe7587e579b4cf39787190827941e2c"
      }
     },
     "9969717fd114446bb7af3fadcdf97147": {
      "model_module": "@jupyter-widgets/controls",
      "model_module_version": "1.4.0",
      "model_name": "IntProgressModel",
      "state": {
       "bar_style": "success",
       "layout": "IPY_MODEL_cf46ad977767413caeba9778a43c2116",
       "max": 1,
       "style": "IPY_MODEL_5f468225ae854cfe93aa8b14c46c43b3",
       "value": 1
      }
     },
     "9aca1931d3554d5095d0a8b8fc5700d1": {
      "model_module": "@jupyter-widgets/controls",
      "model_module_version": "1.4.0",
      "model_name": "DescriptionStyleModel",
      "state": {
       "description_width": ""
      }
     },
     "a1afda19c1d64dd3937a0575b26777f7": {
      "model_module": "@jupyter-widgets/controls",
      "model_module_version": "1.4.0",
      "model_name": "HTMLModel",
      "state": {
       "layout": "IPY_MODEL_2a853302f6bf4116bbabe19925193119",
       "style": "IPY_MODEL_466f732a59184916b0eb9cd3ce371827",
       "value": "0/|/| 0/? [00:00&lt;?, ?it/s]"
      }
     },
     "a5abdc09811e41f5b65dcd2cd1505acb": {
      "model_module": "@jupyter-widgets/base",
      "model_module_version": "1.1.0",
      "model_name": "LayoutModel",
      "state": {}
     },
     "a910d700017a49a9897cfc182f2aea54": {
      "model_module": "@jupyter-widgets/controls",
      "model_module_version": "1.4.0",
      "model_name": "DescriptionStyleModel",
      "state": {
       "description_width": ""
      }
     },
     "a9b66670d31542cfb11dae548360c6fd": {
      "model_module": "@jupyter-widgets/controls",
      "model_module_version": "1.4.0",
      "model_name": "IntProgressModel",
      "state": {
       "bar_style": "success",
       "layout": "IPY_MODEL_c0a201d4d6af452db70a998c85a5700a",
       "max": 195202,
       "style": "IPY_MODEL_dcd7d0dfd1624a8f8497f10a34be64a2",
       "value": 195202
      }
     },
     "aabf3bb46033402f9d6e6ec2e0b9cee7": {
      "model_module": "@jupyter-widgets/controls",
      "model_module_version": "1.4.0",
      "model_name": "ProgressStyleModel",
      "state": {
       "description_width": ""
      }
     },
     "afc7b760032d45efaa962d6577171082": {
      "model_module": "@jupyter-widgets/controls",
      "model_module_version": "1.4.0",
      "model_name": "HBoxModel",
      "state": {
       "children": [
        "IPY_MODEL_298e241e116345fe912181adfdfedd65",
        "IPY_MODEL_d5bf5cff73e2415689d0ef70f816ef97"
       ],
       "layout": "IPY_MODEL_d98b34c59841410da054cdd54d1e8b5f"
      }
     },
     "b137b5eb2a8b4b128e4d5dad47d0593c": {
      "model_module": "@jupyter-widgets/controls",
      "model_module_version": "1.4.0",
      "model_name": "DescriptionStyleModel",
      "state": {
       "description_width": ""
      }
     },
     "b1e6329d47be4b6798fc42ecf30d46a2": {
      "model_module": "@jupyter-widgets/controls",
      "model_module_version": "1.4.0",
      "model_name": "DescriptionStyleModel",
      "state": {
       "description_width": ""
      }
     },
     "b3004c30accc4981aa1ca9d6cabcc7d2": {
      "model_module": "@jupyter-widgets/base",
      "model_module_version": "1.1.0",
      "model_name": "LayoutModel",
      "state": {}
     },
     "b358411c422a43f685dc24836837c00f": {
      "model_module": "@jupyter-widgets/controls",
      "model_module_version": "1.4.0",
      "model_name": "HBoxModel",
      "state": {
       "children": [
        "IPY_MODEL_b75d34f5ffc14e1f91db7200d3bd17b0",
        "IPY_MODEL_8bd38d83fbc442208e826dde67c21e22"
       ],
       "layout": "IPY_MODEL_f357a79df0964b3ba6ee606e7f211a85"
      }
     },
     "b63eaf18330647fc958a0b22d990ebea": {
      "model_module": "@jupyter-widgets/base",
      "model_module_version": "1.1.0",
      "model_name": "LayoutModel",
      "state": {}
     },
     "b75d34f5ffc14e1f91db7200d3bd17b0": {
      "model_module": "@jupyter-widgets/controls",
      "model_module_version": "1.4.0",
      "model_name": "IntProgressModel",
      "state": {
       "bar_style": "success",
       "layout": "IPY_MODEL_3b7257cc615241188755c605a467786f",
       "max": 1,
       "style": "IPY_MODEL_5385e8f857974759a38b4aacd63b0111",
       "value": 1
      }
     },
     "bc4c1dfc8c8a4e32a53234bdf333fe6a": {
      "model_module": "@jupyter-widgets/controls",
      "model_module_version": "1.4.0",
      "model_name": "HBoxModel",
      "state": {
       "children": [
        "IPY_MODEL_f9af2d2a26834624bd7eb27456423717",
        "IPY_MODEL_24e55eaef4b2469a90a4b1104eba718f"
       ],
       "layout": "IPY_MODEL_658ed530ee4f4d4eb5e4581c74668819"
      }
     },
     "c0a201d4d6af452db70a998c85a5700a": {
      "model_module": "@jupyter-widgets/base",
      "model_module_version": "1.1.0",
      "model_name": "LayoutModel",
      "state": {}
     },
     "c1353dea6a5c4f7a91b15a3c25e705f8": {
      "model_module": "@jupyter-widgets/controls",
      "model_module_version": "1.4.0",
      "model_name": "DescriptionStyleModel",
      "state": {
       "description_width": ""
      }
     },
     "c7134a5ffab3414091e51b1f27707db4": {
      "model_module": "@jupyter-widgets/base",
      "model_module_version": "1.1.0",
      "model_name": "LayoutModel",
      "state": {}
     },
     "cdc227ae262547039345c7dc7ae5f968": {
      "model_module": "@jupyter-widgets/controls",
      "model_module_version": "1.4.0",
      "model_name": "ProgressStyleModel",
      "state": {
       "description_width": ""
      }
     },
     "cf46ad977767413caeba9778a43c2116": {
      "model_module": "@jupyter-widgets/base",
      "model_module_version": "1.1.0",
      "model_name": "LayoutModel",
      "state": {}
     },
     "d5bf5cff73e2415689d0ef70f816ef97": {
      "model_module": "@jupyter-widgets/controls",
      "model_module_version": "1.4.0",
      "model_name": "HTMLModel",
      "state": {
       "layout": "IPY_MODEL_9532267ab3f34ed99395097e6bbcd3e1",
       "style": "IPY_MODEL_7efb723abf894656a683d02b5d859454",
       "value": "0/|/| 0/? [00:00&lt;?, ?it/s]"
      }
     },
     "d98b34c59841410da054cdd54d1e8b5f": {
      "model_module": "@jupyter-widgets/base",
      "model_module_version": "1.1.0",
      "model_name": "LayoutModel",
      "state": {}
     },
     "da78a2425f434b9d96694a781559e097": {
      "model_module": "@jupyter-widgets/controls",
      "model_module_version": "1.4.0",
      "model_name": "HTMLModel",
      "state": {
       "layout": "IPY_MODEL_8c42bf6379fa4621acc1f7062ec6a01b",
       "style": "IPY_MODEL_b1e6329d47be4b6798fc42ecf30d46a2",
       "value": "100% 195202/195202 [00:20&lt;00:00, 9681.14it/s]"
      }
     },
     "dc4e5fa6309e4865a94b367e19710f3b": {
      "model_module": "@jupyter-widgets/controls",
      "model_module_version": "1.4.0",
      "model_name": "IntProgressModel",
      "state": {
       "bar_style": "success",
       "layout": "IPY_MODEL_b63eaf18330647fc958a0b22d990ebea",
       "max": 1,
       "style": "IPY_MODEL_ed523033683d4be3a6f31527d9717202",
       "value": 1
      }
     },
     "dcd7d0dfd1624a8f8497f10a34be64a2": {
      "model_module": "@jupyter-widgets/controls",
      "model_module_version": "1.4.0",
      "model_name": "ProgressStyleModel",
      "state": {
       "description_width": ""
      }
     },
     "e1c4b5b54afc4570a7d5f7e982be406a": {
      "model_module": "@jupyter-widgets/controls",
      "model_module_version": "1.4.0",
      "model_name": "DescriptionStyleModel",
      "state": {
       "description_width": ""
      }
     },
     "ed523033683d4be3a6f31527d9717202": {
      "model_module": "@jupyter-widgets/controls",
      "model_module_version": "1.4.0",
      "model_name": "ProgressStyleModel",
      "state": {
       "description_width": ""
      }
     },
     "ee4af5703bc84270abfbcbc90ce6b999": {
      "model_module": "@jupyter-widgets/base",
      "model_module_version": "1.1.0",
      "model_name": "LayoutModel",
      "state": {}
     },
     "f05e8d00530d48faad7ad11c51db7b6f": {
      "model_module": "@jupyter-widgets/controls",
      "model_module_version": "1.4.0",
      "model_name": "ProgressStyleModel",
      "state": {
       "description_width": ""
      }
     },
     "f1d9b426adf64dbf8aaa5da8116374ac": {
      "model_module": "@jupyter-widgets/controls",
      "model_module_version": "1.4.0",
      "model_name": "HBoxModel",
      "state": {
       "children": [
        "IPY_MODEL_9969717fd114446bb7af3fadcdf97147",
        "IPY_MODEL_a1afda19c1d64dd3937a0575b26777f7"
       ],
       "layout": "IPY_MODEL_6d261540ccc74cc6a89dd6e9d95519c2"
      }
     },
     "f357a79df0964b3ba6ee606e7f211a85": {
      "model_module": "@jupyter-widgets/base",
      "model_module_version": "1.1.0",
      "model_name": "LayoutModel",
      "state": {}
     },
     "f9af2d2a26834624bd7eb27456423717": {
      "model_module": "@jupyter-widgets/controls",
      "model_module_version": "1.4.0",
      "model_name": "IntProgressModel",
      "state": {
       "bar_style": "success",
       "layout": "IPY_MODEL_53e4a6cc836a45da81076d200d947f0d",
       "max": 195202,
       "style": "IPY_MODEL_cdc227ae262547039345c7dc7ae5f968",
       "value": 195202
      }
     },
     "fa76e0a8cf2b47929cc844f23b32a00f": {
      "model_module": "@jupyter-widgets/controls",
      "model_module_version": "1.4.0",
      "model_name": "HBoxModel",
      "state": {
       "children": [
        "IPY_MODEL_6eb0be3132e34e5e8356e4d515e2a2f0",
        "IPY_MODEL_4ebe4a2eec3b4b4fb664a3a443442941"
       ],
       "layout": "IPY_MODEL_5ccf3501a7ce46dba1d0e170eb396840"
      }
     },
     "fe4f128515584832aeb5dc36a4cbda01": {
      "model_module": "@jupyter-widgets/controls",
      "model_module_version": "1.4.0",
      "model_name": "ProgressStyleModel",
      "state": {
       "description_width": ""
      }
     },
     "fed11a5f7939466b8b1c96bfc8c82456": {
      "model_module": "@jupyter-widgets/controls",
      "model_module_version": "1.4.0",
      "model_name": "HTMLModel",
      "state": {
       "layout": "IPY_MODEL_1f082197d13e43e3a79a16e06fb251d8",
       "style": "IPY_MODEL_a910d700017a49a9897cfc182f2aea54",
       "value": "0/|/| 0/? [00:00&lt;?, ?it/s]"
      }
     }
    },
    "version_major": 2,
    "version_minor": 0
   }
  }
 },
 "nbformat": 4,
 "nbformat_minor": 2
}
